{
 "cells": [
  {
   "cell_type": "code",
   "execution_count": 27,
   "id": "cb7f83c3",
   "metadata": {},
   "outputs": [],
   "source": [
    "import os \n",
    "import pandas as pd \n",
    "import urllib.request\n",
    "import csv\n",
    "\n",
    "\n",
    "from konlpy.tag import Mecab"
   ]
  },
  {
   "cell_type": "code",
   "execution_count": 11,
   "id": "0d68d231",
   "metadata": {},
   "outputs": [],
   "source": [
    "directory = os.getenv('HOME') + '/aiffel/aiffelthon/'"
   ]
  },
  {
   "cell_type": "code",
   "execution_count": 15,
   "id": "083d8931",
   "metadata": {},
   "outputs": [
    {
     "name": "stderr",
     "output_type": "stream",
     "text": [
      "/opt/conda/lib/python3.9/site-packages/IPython/core/interactiveshell.py:3444: DtypeWarning: Columns (6,12) have mixed types.Specify dtype option on import or set low_memory=False.\n",
      "  exec(code_obj, self.user_global_ns, self.user_ns)\n"
     ]
    }
   ],
   "source": [
    "df = pd.read_csv(directory + 'meta_eng_raw_0306_v1.csv')"
   ]
  },
  {
   "cell_type": "code",
   "execution_count": 47,
   "id": "50580e68",
   "metadata": {},
   "outputs": [
    {
     "name": "stdout",
     "output_type": "stream",
     "text": [
      "<class 'pandas.core.frame.DataFrame'>\n",
      "RangeIndex: 949888 entries, 0 to 949887\n",
      "Data columns (total 25 columns):\n",
      " #   Column            Non-Null Count   Dtype \n",
      "---  ------            --------------   ----- \n",
      " 0   text              949888 non-null  object\n",
      " 1   dial              949888 non-null  object\n",
      " 2   eng               949888 non-null  object\n",
      " 3   title             949888 non-null  object\n",
      " 4   creator           949888 non-null  object\n",
      " 5   distributor       949706 non-null  object\n",
      " 6   year              949888 non-null  object\n",
      " 7   category          949706 non-null  object\n",
      " 8   annotation_level  949888 non-null  object\n",
      " 9   sampling          949417 non-null  object\n",
      " 10  author            925576 non-null  object\n",
      " 11  publisher         925576 non-null  object\n",
      " 12  date              949888 non-null  object\n",
      " 13  topic             949888 non-null  object\n",
      " 14  age               949888 non-null  object\n",
      " 15  sex               949888 non-null  object\n",
      " 16  prin_res          949888 non-null  object\n",
      " 17  curr_res          949888 non-null  object\n",
      " 18  age2              659954 non-null  object\n",
      " 19  sex2              659954 non-null  object\n",
      " 20  prin_res2         659954 non-null  object\n",
      " 21  curr_res2         659954 non-null  object\n",
      " 22  stdn              949888 non-null  object\n",
      " 23  eojeol_stdn       949888 non-null  object\n",
      " 24  reg               949888 non-null  object\n",
      "dtypes: object(25)\n",
      "memory usage: 181.2+ MB\n"
     ]
    }
   ],
   "source": [
    "df.info()"
   ]
  },
  {
   "cell_type": "code",
   "execution_count": 37,
   "id": "e5f26fdd",
   "metadata": {},
   "outputs": [
    {
     "data": {
      "text/html": [
       "<div>\n",
       "<style scoped>\n",
       "    .dataframe tbody tr th:only-of-type {\n",
       "        vertical-align: middle;\n",
       "    }\n",
       "\n",
       "    .dataframe tbody tr th {\n",
       "        vertical-align: top;\n",
       "    }\n",
       "\n",
       "    .dataframe thead th {\n",
       "        text-align: right;\n",
       "    }\n",
       "</style>\n",
       "<table border=\"1\" class=\"dataframe\">\n",
       "  <thead>\n",
       "    <tr style=\"text-align: right;\">\n",
       "      <th></th>\n",
       "      <th>text</th>\n",
       "      <th>dial</th>\n",
       "      <th>eng</th>\n",
       "    </tr>\n",
       "  </thead>\n",
       "  <tbody>\n",
       "    <tr>\n",
       "      <th>0</th>\n",
       "      <td>생각이 쪼금씩 바뀌더라고</td>\n",
       "      <td>생각이 쪼금씩 바뀌드라고</td>\n",
       "      <td>I've changed my mind a little bit.</td>\n",
       "    </tr>\n",
       "    <tr>\n",
       "      <th>1</th>\n",
       "      <td>어 알겠는가 외국인들이 그래도 잘 적응하고</td>\n",
       "      <td>어 알겄는가 외국인들이 그래도 잘 적응하고</td>\n",
       "      <td>You know what? Foreigners still get used to it.</td>\n",
       "    </tr>\n",
       "    <tr>\n",
       "      <th>2</th>\n",
       "      <td>아으 갑자기 예전에 맹장 뜯은 게 생각난다.</td>\n",
       "      <td>아으 갑자기 예전에 맹장 뜯은 게 생각난디야.</td>\n",
       "      <td>All of a sudden, I think I've ripped off my ap...</td>\n",
       "    </tr>\n",
       "    <tr>\n",
       "      <th>3</th>\n",
       "      <td>보면은 조금 품위 있게 나이 들어가야 되겠단 생각을 참 많이 해요.</td>\n",
       "      <td>보면은 쫌 품위 있게 나이 들어가야 되겠단 생각을 참 많이 해요.</td>\n",
       "      <td>I have a lot of ideas about getting older in a...</td>\n",
       "    </tr>\n",
       "    <tr>\n",
       "      <th>4</th>\n",
       "      <td>약간 조금 약간 맛이 쪼끔 거시기 하긴 한데 그래도</td>\n",
       "      <td>약간 쫌 약간 맛이 쪼끔 거시기 하긴 한데 그래도</td>\n",
       "      <td>It's a little bit of a tastey, but still...</td>\n",
       "    </tr>\n",
       "    <tr>\n",
       "      <th>...</th>\n",
       "      <td>...</td>\n",
       "      <td>...</td>\n",
       "      <td>...</td>\n",
       "    </tr>\n",
       "    <tr>\n",
       "      <th>949883</th>\n",
       "      <td>뭐~ 맨날 집에서 인제 음식도 그냥 가까운 데 나가서 먹는 게 아니라 되게 시켜먹는...</td>\n",
       "      <td>뭐~ 맨날 집에서 인제 음식도 그냥 가까운 데 나가서 먹는 게 아니라 되게 시켜먹는...</td>\n",
       "      <td>I suppose I dont just go out to the nearest pl...</td>\n",
       "    </tr>\n",
       "    <tr>\n",
       "      <th>949884</th>\n",
       "      <td>너는 만약에 그런 시대가 오면 네가 어떻게 활동할 것 같애?</td>\n",
       "      <td>너는 만약에 그런 시대가 오면 니가 어떻게 활동할 것 같애?</td>\n",
       "      <td>How do you think you will be active when that ...</td>\n",
       "    </tr>\n",
       "    <tr>\n",
       "      <th>949885</th>\n",
       "      <td>하이브도 있고 #조석 작가 이제 조의 영역이라는 웹툰도 있고 마음의 소리도 있는데</td>\n",
       "      <td>하이브도 있고 조석 작가 이제 조의 영역이라는 웹툰도 있고 마음의 소리도 있는디</td>\n",
       "      <td>There is a hive a webtoon called the area of J...</td>\n",
       "    </tr>\n",
       "    <tr>\n",
       "      <th>949886</th>\n",
       "      <td>추석도 친척들도 사촌까지만 모이긴 했는데 이~ 다 모이니까 할 말도 많고 이~</td>\n",
       "      <td>추석도 친척들도 사촌까지만 모이긴 했는데 이~ 다 모이난이 할 말도 많고 이~</td>\n",
       "      <td>On Chuseok relatives and cousins only gathered...</td>\n",
       "    </tr>\n",
       "    <tr>\n",
       "      <th>949887</th>\n",
       "      <td>커피숍 가서 이렇게 먹고 하는 거가 훨씬 맛있거든 기분상으로도 그렇고</td>\n",
       "      <td>커피숍 가서 이케 먹고 하는 거가 훨씬 맛있거든 기분상으로도 그렇고</td>\n",
       "      <td>Its much better to eat at a coffee shop and it...</td>\n",
       "    </tr>\n",
       "  </tbody>\n",
       "</table>\n",
       "<p>949888 rows × 3 columns</p>\n",
       "</div>"
      ],
      "text/plain": [
       "                                                     text  \\\n",
       "0                                           생각이 쪼금씩 바뀌더라고   \n",
       "1                                 어 알겠는가 외국인들이 그래도 잘 적응하고   \n",
       "2                                아으 갑자기 예전에 맹장 뜯은 게 생각난다.   \n",
       "3                   보면은 조금 품위 있게 나이 들어가야 되겠단 생각을 참 많이 해요.   \n",
       "4                            약간 조금 약간 맛이 쪼끔 거시기 하긴 한데 그래도   \n",
       "...                                                   ...   \n",
       "949883  뭐~ 맨날 집에서 인제 음식도 그냥 가까운 데 나가서 먹는 게 아니라 되게 시켜먹는...   \n",
       "949884                  너는 만약에 그런 시대가 오면 네가 어떻게 활동할 것 같애?   \n",
       "949885      하이브도 있고 #조석 작가 이제 조의 영역이라는 웹툰도 있고 마음의 소리도 있는데   \n",
       "949886        추석도 친척들도 사촌까지만 모이긴 했는데 이~ 다 모이니까 할 말도 많고 이~   \n",
       "949887             커피숍 가서 이렇게 먹고 하는 거가 훨씬 맛있거든 기분상으로도 그렇고   \n",
       "\n",
       "                                                     dial  \\\n",
       "0                                           생각이 쪼금씩 바뀌드라고   \n",
       "1                                 어 알겄는가 외국인들이 그래도 잘 적응하고   \n",
       "2                               아으 갑자기 예전에 맹장 뜯은 게 생각난디야.   \n",
       "3                    보면은 쫌 품위 있게 나이 들어가야 되겠단 생각을 참 많이 해요.   \n",
       "4                             약간 쫌 약간 맛이 쪼끔 거시기 하긴 한데 그래도   \n",
       "...                                                   ...   \n",
       "949883  뭐~ 맨날 집에서 인제 음식도 그냥 가까운 데 나가서 먹는 게 아니라 되게 시켜먹는...   \n",
       "949884                  너는 만약에 그런 시대가 오면 니가 어떻게 활동할 것 같애?   \n",
       "949885       하이브도 있고 조석 작가 이제 조의 영역이라는 웹툰도 있고 마음의 소리도 있는디   \n",
       "949886        추석도 친척들도 사촌까지만 모이긴 했는데 이~ 다 모이난이 할 말도 많고 이~   \n",
       "949887              커피숍 가서 이케 먹고 하는 거가 훨씬 맛있거든 기분상으로도 그렇고   \n",
       "\n",
       "                                                      eng  \n",
       "0                      I've changed my mind a little bit.  \n",
       "1         You know what? Foreigners still get used to it.  \n",
       "2       All of a sudden, I think I've ripped off my ap...  \n",
       "3       I have a lot of ideas about getting older in a...  \n",
       "4             It's a little bit of a tastey, but still...  \n",
       "...                                                   ...  \n",
       "949883  I suppose I dont just go out to the nearest pl...  \n",
       "949884  How do you think you will be active when that ...  \n",
       "949885  There is a hive a webtoon called the area of J...  \n",
       "949886  On Chuseok relatives and cousins only gathered...  \n",
       "949887  Its much better to eat at a coffee shop and it...  \n",
       "\n",
       "[949888 rows x 3 columns]"
      ]
     },
     "execution_count": 37,
     "metadata": {},
     "output_type": "execute_result"
    }
   ],
   "source": [
    "df[['text','dial','eng']]"
   ]
  },
  {
   "cell_type": "code",
   "execution_count": 21,
   "id": "d50ade4a",
   "metadata": {},
   "outputs": [],
   "source": [
    "with open('raw_data_text.txt', 'w', encoding='utf8') as f:\n",
    "    f.write('\\n'.join(df['text']))"
   ]
  },
  {
   "cell_type": "markdown",
   "id": "e730e1bd",
   "metadata": {},
   "source": [
    "## sentencepiece \n",
    "- 센텐스피스는 사전 토큰화 작업없이 단어 분리 토큰화를 수행하므로 언어에 종속되지 않습니다.\n",
    "- vocal_size : 너무 적으면 한 글자 단위로 쪼개지는 경향이 있고, 너무 많으면 쓸데없는 단어들이 만들어진다. 주로 3,2000이 가장 좋다고 알려져 있다.\n",
    "- model_type : bpe, unigram 등이 있는데 두가지를 모두 사용해 보고 성능이 좋은 거 사용 "
   ]
  },
  {
   "cell_type": "code",
   "execution_count": 10,
   "id": "8f958a28",
   "metadata": {},
   "outputs": [],
   "source": [
    "# ! pip install sentencepiece"
   ]
  },
  {
   "cell_type": "code",
   "execution_count": 9,
   "id": "0f1727ae",
   "metadata": {},
   "outputs": [],
   "source": [
    "import sentencepiece as spm"
   ]
  },
  {
   "cell_type": "code",
   "execution_count": 41,
   "id": "9d75be05",
   "metadata": {},
   "outputs": [],
   "source": [
    "spm.SentencePieceTrainer.Train(input='raw_data_text.txt', model_prefix='text', vocab_size=5000 ,model_type='bpe' , max_sentence_length=1000)"
   ]
  },
  {
   "cell_type": "code",
   "execution_count": 42,
   "id": "88bfce6e",
   "metadata": {},
   "outputs": [
    {
     "data": {
      "text/html": [
       "<div>\n",
       "<style scoped>\n",
       "    .dataframe tbody tr th:only-of-type {\n",
       "        vertical-align: middle;\n",
       "    }\n",
       "\n",
       "    .dataframe tbody tr th {\n",
       "        vertical-align: top;\n",
       "    }\n",
       "\n",
       "    .dataframe thead th {\n",
       "        text-align: right;\n",
       "    }\n",
       "</style>\n",
       "<table border=\"1\" class=\"dataframe\">\n",
       "  <thead>\n",
       "    <tr style=\"text-align: right;\">\n",
       "      <th></th>\n",
       "      <th>0</th>\n",
       "      <th>1</th>\n",
       "    </tr>\n",
       "  </thead>\n",
       "  <tbody>\n",
       "    <tr>\n",
       "      <th>2527</th>\n",
       "      <td>▁아닙</td>\n",
       "      <td>-2524</td>\n",
       "    </tr>\n",
       "    <tr>\n",
       "      <th>3068</th>\n",
       "      <td>▁눈을</td>\n",
       "      <td>-3065</td>\n",
       "    </tr>\n",
       "    <tr>\n",
       "      <th>3679</th>\n",
       "      <td>런</td>\n",
       "      <td>-3676</td>\n",
       "    </tr>\n",
       "    <tr>\n",
       "      <th>690</th>\n",
       "      <td>▁행</td>\n",
       "      <td>-687</td>\n",
       "    </tr>\n",
       "    <tr>\n",
       "      <th>1009</th>\n",
       "      <td>▁넘어</td>\n",
       "      <td>-1006</td>\n",
       "    </tr>\n",
       "    <tr>\n",
       "      <th>29</th>\n",
       "      <td>▁한</td>\n",
       "      <td>-26</td>\n",
       "    </tr>\n",
       "    <tr>\n",
       "      <th>1271</th>\n",
       "      <td>▁쇼</td>\n",
       "      <td>-1268</td>\n",
       "    </tr>\n",
       "    <tr>\n",
       "      <th>2270</th>\n",
       "      <td>▁진짜로</td>\n",
       "      <td>-2267</td>\n",
       "    </tr>\n",
       "    <tr>\n",
       "      <th>2924</th>\n",
       "      <td>▁키우는</td>\n",
       "      <td>-2921</td>\n",
       "    </tr>\n",
       "    <tr>\n",
       "      <th>2525</th>\n",
       "      <td>질이</td>\n",
       "      <td>-2522</td>\n",
       "    </tr>\n",
       "  </tbody>\n",
       "</table>\n",
       "</div>"
      ],
      "text/plain": [
       "         0     1\n",
       "2527   ▁아닙 -2524\n",
       "3068   ▁눈을 -3065\n",
       "3679     런 -3676\n",
       "690     ▁행  -687\n",
       "1009   ▁넘어 -1006\n",
       "29      ▁한   -26\n",
       "1271    ▁쇼 -1268\n",
       "2270  ▁진짜로 -2267\n",
       "2924  ▁키우는 -2921\n",
       "2525    질이 -2522"
      ]
     },
     "execution_count": 42,
     "metadata": {},
     "output_type": "execute_result"
    }
   ],
   "source": [
    "vocab_list = pd.read_csv('text.vocab', sep='\\t', header=None, quoting=csv.QUOTE_NONE)\n",
    "vocab_list.sample(10)"
   ]
  },
  {
   "cell_type": "code",
   "execution_count": 43,
   "id": "b7a1b21c",
   "metadata": {},
   "outputs": [
    {
     "data": {
      "text/plain": [
       "5000"
      ]
     },
     "execution_count": 43,
     "metadata": {},
     "output_type": "execute_result"
    }
   ],
   "source": [
    "len(vocab_list)"
   ]
  },
  {
   "cell_type": "code",
   "execution_count": 44,
   "id": "f8e5776c",
   "metadata": {},
   "outputs": [
    {
     "data": {
      "text/plain": [
       "True"
      ]
     },
     "execution_count": 44,
     "metadata": {},
     "output_type": "execute_result"
    }
   ],
   "source": [
    "sp = spm.SentencePieceProcessor()\n",
    "vocab_file = \"text.model\"\n",
    "sp.load(vocab_file)"
   ]
  },
  {
   "cell_type": "code",
   "execution_count": 45,
   "id": "1eb88779",
   "metadata": {},
   "outputs": [
    {
     "name": "stdout",
     "output_type": "stream",
     "text": [
      "생각이 쪼금씩 바뀌더라고\n",
      "['▁생각이', '▁쪼금', '씩', '▁바뀌', '더라고']\n",
      "[402, 935, 3950, 790, 115]\n",
      "\n",
      "I've changed my mind a little bit.\n",
      "['▁', \"I'v\", 'e', '▁', 'c', 'h', 'a', 'n', 'g', 'e', 'd', '▁', 'm', 'y', '▁', 'm', 'i', 'n', 'd', '▁', 'a', '▁', 'littl', 'e', '▁', 'bit', '.']\n",
      "[3634, 0, 4620, 3634, 4845, 0, 4523, 4551, 0, 4620, 4971, 3634, 4550, 4829, 3634, 4550, 0, 4551, 4971, 3634, 4523, 3634, 0, 4620, 3634, 0, 3641]\n",
      "\n"
     ]
    }
   ],
   "source": [
    "lines = [\n",
    "  \"생각이 쪼금씩 바뀌더라고\",\n",
    "  \"I've changed my mind a little bit.\"  \n",
    "]\n",
    "\n",
    "for line in lines:\n",
    "  print(line)\n",
    "  print(sp.encode_as_pieces(line))\n",
    "  print(sp.encode_as_ids(line))\n",
    "  print()"
   ]
  },
  {
   "cell_type": "code",
   "execution_count": null,
   "id": "f9fa3b62",
   "metadata": {},
   "outputs": [],
   "source": []
  },
  {
   "cell_type": "code",
   "execution_count": null,
   "id": "b62b6587",
   "metadata": {},
   "outputs": [],
   "source": []
  },
  {
   "cell_type": "code",
   "execution_count": null,
   "id": "41c0214f",
   "metadata": {},
   "outputs": [],
   "source": []
  },
  {
   "cell_type": "markdown",
   "id": "aebaddba",
   "metadata": {},
   "source": [
    "## Mecab"
   ]
  },
  {
   "cell_type": "code",
   "execution_count": 3,
   "id": "27649993",
   "metadata": {},
   "outputs": [],
   "source": [
    "tokenizer = Mecab() "
   ]
  },
  {
   "cell_type": "code",
   "execution_count": 6,
   "id": "faacf82e",
   "metadata": {},
   "outputs": [],
   "source": [
    "text = \"아버지가 방에 들어가신다\""
   ]
  },
  {
   "cell_type": "code",
   "execution_count": 7,
   "id": "82a8266a",
   "metadata": {},
   "outputs": [
    {
     "name": "stdout",
     "output_type": "stream",
     "text": [
      "['아버지', '가', '방', '에', '들어가', '신다']\n"
     ]
    }
   ],
   "source": [
    "print(tokenizer.morphs(text))"
   ]
  },
  {
   "cell_type": "code",
   "execution_count": null,
   "id": "83a6834d",
   "metadata": {},
   "outputs": [],
   "source": []
  },
  {
   "cell_type": "code",
   "execution_count": null,
   "id": "56be5703",
   "metadata": {},
   "outputs": [],
   "source": []
  },
  {
   "cell_type": "code",
   "execution_count": null,
   "id": "177f269f",
   "metadata": {},
   "outputs": [],
   "source": []
  },
  {
   "cell_type": "code",
   "execution_count": null,
   "id": "84a63420",
   "metadata": {},
   "outputs": [],
   "source": []
  },
  {
   "cell_type": "markdown",
   "id": "ab0e9d6b",
   "metadata": {},
   "source": [
    "## BPE\n",
    "- OOV 문제를 완화하는 대표적인 서브워드 분리 알고리즘 \n",
    "- OOV란 ? 모르는 단어로 인해 문제를 푸는 것이 까다로워지는 상황 : Out-of-vocabulary\n",
    "- 연속적으로 가장 많이 등장한 글자의 쌍을 찾아서 하나의 글자로 병합하는 방식을 수행 "
   ]
  },
  {
   "cell_type": "markdown",
   "id": "d1ea8abd",
   "metadata": {},
   "source": [
    "## [ref]\n",
    "- https://github.com/google/sentencepiece/issues/517 > sentencepiece runtimeerror"
   ]
  }
 ],
 "metadata": {
  "kernelspec": {
   "display_name": "Python 3 (ipykernel)",
   "language": "python",
   "name": "python3"
  },
  "language_info": {
   "codemirror_mode": {
    "name": "ipython",
    "version": 3
   },
   "file_extension": ".py",
   "mimetype": "text/x-python",
   "name": "python",
   "nbconvert_exporter": "python",
   "pygments_lexer": "ipython3",
   "version": "3.9.7"
  }
 },
 "nbformat": 4,
 "nbformat_minor": 5
}
