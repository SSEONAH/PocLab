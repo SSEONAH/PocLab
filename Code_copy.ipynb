{
 "cells": [
  {
   "cell_type": "code",
   "execution_count": 6,
   "id": "9bce2af6",
   "metadata": {},
   "outputs": [],
   "source": [
    "import os\n",
    "import pandas as pd"
   ]
  },
  {
   "cell_type": "code",
   "execution_count": 14,
   "id": "ad06a1e9",
   "metadata": {},
   "outputs": [],
   "source": [
    "directory =os.getenv('HOME') + '/aiffel/aiffelthon/added/' "
   ]
  },
  {
   "cell_type": "code",
   "execution_count": 15,
   "id": "22e2193c",
   "metadata": {},
   "outputs": [],
   "source": [
    "# df = pd.read_csv(directory+'dataset_full_ko_en_added_0221_sy.csv') # 데이터 파일 불러오기"
   ]
  },
  {
   "cell_type": "code",
   "execution_count": 15,
   "id": "a8c507d9",
   "metadata": {},
   "outputs": [
    {
     "data": {
      "text/plain": [
       "[]"
      ]
     },
     "execution_count": 15,
     "metadata": {},
     "output_type": "execute_result"
    }
   ],
   "source": [
    "import glob\n",
    "files = glob.glob(directory+f'*jd*.csv')\n",
    "files"
   ]
  },
  {
   "cell_type": "code",
   "execution_count": 16,
   "id": "49a65e25",
   "metadata": {},
   "outputs": [
    {
     "name": "stdout",
     "output_type": "stream",
     "text": [
      "<class 'pandas.core.frame.DataFrame'>\n",
      "Index: 0 entries\n",
      "Data columns (total 5 columns):\n",
      " #   Column  Non-Null Count  Dtype \n",
      "---  ------  --------------  ----- \n",
      " 0   text    0 non-null      object\n",
      " 1   dial    0 non-null      object\n",
      " 2   reg     0 non-null      object\n",
      " 3   pair    0 non-null      object\n",
      " 4   eng     0 non-null      object\n",
      "dtypes: object(5)\n",
      "memory usage: 0.0+ bytes\n"
     ]
    }
   ],
   "source": [
    "# data merge하기\n",
    "df_final = pd.DataFrame(columns=['text', 'dial', 'reg', 'pair','eng'])\n",
    "for i in files :\n",
    "    df_new = pd.read_csv(i, usecols =['text', 'dial', 'reg', 'pair','eng'])\n",
    "    df_final = df_final.merge(df_new, how='outer')\n",
    "df_final.head()\n",
    "df_final.info()"
   ]
  },
  {
   "cell_type": "markdown",
   "id": "c87f8e3b",
   "metadata": {},
   "source": [
    "# 통합 파일 'added' 경로의 저장하기"
   ]
  },
  {
   "cell_type": "code",
   "execution_count": 17,
   "id": "b98372e8",
   "metadata": {},
   "outputs": [],
   "source": [
    "import shutil"
   ]
  },
  {
   "cell_type": "code",
   "execution_count": 18,
   "id": "9269865f",
   "metadata": {},
   "outputs": [],
   "source": [
    "df_final.to_csv(directory + f'dataset_full_ko_en_added_{date}_{name}.csv' , index=False)\n",
    "\n",
    "src= directory\n",
    "dest = directory + 'added/'\n",
    "\n",
    "os.makedirs(dest,exist_ok=True)\n",
    "\n",
    "new_file = [i[26:] for i in glob.glob(directory+'*added*.csv')]\n",
    "for i in new_file :\n",
    "    shutil.move(src + i, dest + i)"
   ]
  },
  {
   "cell_type": "code",
   "execution_count": 23,
   "id": "fdc7afc4",
   "metadata": {},
   "outputs": [],
   "source": [
    "# 통합 전 파일 별도 저장\n",
    "\n",
    "old_files = [i[26:] for i in glob.glob(directory+'*translated*.csv')]\n",
    "\n",
    "dest = directory + 'past_files/'\n",
    "\n",
    "os.makedirs(dest,exist_ok=True)\n",
    "\n",
    "for i in old_files :\n",
    "    shutil.move(src + i, dest + i)"
   ]
  },
  {
   "cell_type": "code",
   "execution_count": null,
   "id": "7e7cce70",
   "metadata": {},
   "outputs": [],
   "source": []
  },
  {
   "cell_type": "code",
   "execution_count": null,
   "id": "04457b89",
   "metadata": {},
   "outputs": [],
   "source": [
    "import glob\n",
    "files = glob.glob(directory+f'*jd*.csv')\n",
    "files\n",
    "\n",
    "# data merge하기\n",
    "df_final = pd.DataFrame(columns=['text', 'dial', 'reg', 'pair','eng'])\n",
    "for i in files :\n",
    "    df_new = pd.read_csv(i, usecols =['text', 'dial', 'reg', 'pair','eng'])\n",
    "    df_final = df_final.merge(df_new, how='outer')\n",
    "df_final.head()\n",
    "df_final.info()\n",
    "\n",
    "# 통합 파일 'added' 경로의 저장하기\n",
    "\n",
    "import shutil\n",
    "\n",
    "df_final.to_csv(directory + f'dataset_full_ko_en_added_{date}_{name}.csv' , index=False)\n",
    "\n",
    "src= directory\n",
    "dest = directory + 'added/'\n",
    "\n",
    "os.makedirs(dest,exist_ok=True)\n",
    "\n",
    "new_file = [i[26:] for i in glob.glob(directory+'*added*.csv')]\n",
    "for i in new_file :\n",
    "    shutil.move(src + i, dest + i)\n",
    "\n",
    "# 통합 전 파일 별도 저장\n",
    "\n",
    "old_files = [i[26:] for i in glob.glob(directory+'*translated*.csv')]\n",
    "\n",
    "dest = directory + 'past_files/'\n",
    "\n",
    "os.makedirs(dest,exist_ok=True)\n",
    "\n",
    "for i in old_files :\n",
    "    shutil.move(src + i, dest + i)\n",
    "\n"
   ]
  },
  {
   "cell_type": "code",
   "execution_count": null,
   "id": "84bbdd46",
   "metadata": {},
   "outputs": [],
   "source": []
  }
 ],
 "metadata": {
  "kernelspec": {
   "display_name": "Python 3 (ipykernel)",
   "language": "python",
   "name": "python3"
  },
  "language_info": {
   "codemirror_mode": {
    "name": "ipython",
    "version": 3
   },
   "file_extension": ".py",
   "mimetype": "text/x-python",
   "name": "python",
   "nbconvert_exporter": "python",
   "pygments_lexer": "ipython3",
   "version": "3.9.7"
  }
 },
 "nbformat": 4,
 "nbformat_minor": 5
}
