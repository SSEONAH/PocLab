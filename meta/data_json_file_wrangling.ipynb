{
 "cells": [
  {
   "cell_type": "code",
   "execution_count": 1,
   "id": "6c860715",
   "metadata": {},
   "outputs": [],
   "source": [
    "# topic 추출"
   ]
  },
  {
   "cell_type": "code",
   "execution_count": 2,
   "id": "b92503fa",
   "metadata": {},
   "outputs": [],
   "source": [
    "import json\n",
    "import os\n",
    "import glob"
   ]
  },
  {
   "cell_type": "code",
   "execution_count": 3,
   "id": "a1226fc8",
   "metadata": {},
   "outputs": [],
   "source": [
    "directory = os.getenv('HOME') + '/aiffel/aiffelthon/'"
   ]
  },
  {
   "cell_type": "code",
   "execution_count": 4,
   "id": "f9ffbcc5",
   "metadata": {},
   "outputs": [],
   "source": [
    "topic_txt_file = './topic_txt_file.txt'"
   ]
  },
  {
   "cell_type": "code",
   "execution_count": 5,
   "id": "591a4c6a",
   "metadata": {},
   "outputs": [],
   "source": [
    "# with open(topic_txt_file, 'w') as txt:\n",
    "#     for i in topics :\n",
    "#         txt.write(i + ',\\n')"
   ]
  },
  {
   "cell_type": "code",
   "execution_count": 6,
   "id": "f92a673c",
   "metadata": {},
   "outputs": [
    {
     "ename": "FileNotFoundError",
     "evalue": "[Errno 2] No such file or directory: './topic_txt_file.txt'",
     "output_type": "error",
     "traceback": [
      "\u001b[0;31m---------------------------------------------------------------------------\u001b[0m",
      "\u001b[0;31mFileNotFoundError\u001b[0m                         Traceback (most recent call last)",
      "\u001b[0;32m/tmp/ipykernel_623/959421801.py\u001b[0m in \u001b[0;36m<module>\u001b[0;34m\u001b[0m\n\u001b[0;32m----> 1\u001b[0;31m \u001b[0;32mwith\u001b[0m \u001b[0mopen\u001b[0m\u001b[0;34m(\u001b[0m\u001b[0mtopic_txt_file\u001b[0m\u001b[0;34m)\u001b[0m \u001b[0;32mas\u001b[0m \u001b[0mf\u001b[0m \u001b[0;34m:\u001b[0m\u001b[0;34m\u001b[0m\u001b[0;34m\u001b[0m\u001b[0m\n\u001b[0m\u001b[1;32m      2\u001b[0m     \u001b[0mraw\u001b[0m \u001b[0;34m=\u001b[0m \u001b[0mf\u001b[0m\u001b[0;34m.\u001b[0m\u001b[0mread\u001b[0m\u001b[0;34m(\u001b[0m\u001b[0;34m)\u001b[0m\u001b[0;34m.\u001b[0m\u001b[0mreplace\u001b[0m\u001b[0;34m(\u001b[0m\u001b[0;34m','\u001b[0m\u001b[0;34m,\u001b[0m\u001b[0;34m''\u001b[0m\u001b[0;34m)\u001b[0m\u001b[0;34m.\u001b[0m\u001b[0msplitlines\u001b[0m\u001b[0;34m(\u001b[0m\u001b[0;34m)\u001b[0m\u001b[0;34m\u001b[0m\u001b[0;34m\u001b[0m\u001b[0m\n\u001b[1;32m      3\u001b[0m \u001b[0mraw\u001b[0m\u001b[0;34m\u001b[0m\u001b[0;34m\u001b[0m\u001b[0m\n",
      "\u001b[0;31mFileNotFoundError\u001b[0m: [Errno 2] No such file or directory: './topic_txt_file.txt'"
     ]
    }
   ],
   "source": [
    "with open(topic_txt_file) as f :\n",
    "    raw = f.read().replace(',','').splitlines()\n",
    "raw"
   ]
  },
  {
   "cell_type": "code",
   "execution_count": null,
   "id": "c40a6cc4",
   "metadata": {},
   "outputs": [],
   "source": [
    "final_dir = directory + '/final'"
   ]
  },
  {
   "cell_type": "code",
   "execution_count": null,
   "id": "7685eb31",
   "metadata": {},
   "outputs": [],
   "source": [
    "os.listdir(final_dir)"
   ]
  },
  {
   "cell_type": "code",
   "execution_count": null,
   "id": "b6d0fe46",
   "metadata": {},
   "outputs": [],
   "source": [
    "import pandas as pd\n",
    "df = pd.read_csv(final_dir + '/Test_set_data_sampling(0223).csv')"
   ]
  },
  {
   "cell_type": "code",
   "execution_count": null,
   "id": "63994817",
   "metadata": {},
   "outputs": [],
   "source": [
    "df.info()"
   ]
  },
  {
   "cell_type": "code",
   "execution_count": null,
   "id": "6db2e953",
   "metadata": {},
   "outputs": [],
   "source": [
    "df.reg.value_counts()"
   ]
  },
  {
   "cell_type": "code",
   "execution_count": null,
   "id": "0b44e1c6",
   "metadata": {},
   "outputs": [],
   "source": [
    "from transformers import pipeline"
   ]
  },
  {
   "cell_type": "code",
   "execution_count": null,
   "id": "de417951",
   "metadata": {},
   "outputs": [],
   "source": [
    "# model_ckpt = 'ddobokki/klue-roberta-base-nli-sts'\n",
    "# model_ckpt = 'Huffon/klue-roberta-base-nli'\n",
    "model_ckpt ='snunlp/KR-SBERT-V40K-klueNLI-augSTS'"
   ]
  },
  {
   "cell_type": "code",
   "execution_count": null,
   "id": "d6e7282b",
   "metadata": {},
   "outputs": [],
   "source": [
    "pipe = pipeline('fill-mask', model =model_ckpt)"
   ]
  },
  {
   "cell_type": "code",
   "execution_count": null,
   "id": "6899d064",
   "metadata": {},
   "outputs": [],
   "source": [
    "test = df['text'][469]\n",
    "test"
   ]
  },
  {
   "cell_type": "code",
   "execution_count": null,
   "id": "b73ac42b",
   "metadata": {},
   "outputs": [],
   "source": [
    "all_labels = raw"
   ]
  },
  {
   "cell_type": "code",
   "execution_count": null,
   "id": "9ea83a03",
   "metadata": {},
   "outputs": [],
   "source": [
    "# ! pip install sentence_transformers\n",
    "from sentence_transformers import SentenceTransformer,util\n",
    "\n",
    "\n",
    "model = SentenceTransformer('snunlp/KR-SBERT-V40K-klueNLI-augSTS', device=0)\n",
    "\n",
    "def topic_select(x, all_labels) :\n",
    "    \n",
    "    embeddings = model.encode([x], convert_to_tensor=True) # 문장 \n",
    "    tgt_embddings = model.encode(all_labels, convert_to_tensor=True) # topic\n",
    "    top = torch.argmax(util.pytorch_cos_sim(embeddings[0], tgt_embddings)).item()\n",
    "    \n",
    "    return all_labels[top]"
   ]
  },
  {
   "cell_type": "code",
   "execution_count": null,
   "id": "056bda34",
   "metadata": {},
   "outputs": [],
   "source": [
    "df['topic'] = df['text'].apply(lambda x : topic_select(x, all_labels))\n",
    "df"
   ]
  },
  {
   "cell_type": "code",
   "execution_count": null,
   "id": "345ff621",
   "metadata": {},
   "outputs": [],
   "source": [
    "df.head()"
   ]
  }
 ],
 "metadata": {
  "kernelspec": {
   "display_name": "Python 3 (ipykernel)",
   "language": "python",
   "name": "python3"
  },
  "language_info": {
   "codemirror_mode": {
    "name": "ipython",
    "version": 3
   },
   "file_extension": ".py",
   "mimetype": "text/x-python",
   "name": "python",
   "nbconvert_exporter": "python",
   "pygments_lexer": "ipython3",
   "version": "3.9.7"
  }
 },
 "nbformat": 4,
 "nbformat_minor": 5
}
