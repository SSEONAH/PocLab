{
 "cells": [
  {
   "cell_type": "code",
   "execution_count": 1,
   "id": "c904c497",
   "metadata": {},
   "outputs": [],
   "source": [
    "import os\n",
    "import pandas as pd"
   ]
  },
  {
   "cell_type": "markdown",
   "id": "bcd2ecc7",
   "metadata": {},
   "source": [
    "## 선아 file merge"
   ]
  },
  {
   "cell_type": "code",
   "execution_count": 2,
   "id": "ceac1921",
   "metadata": {},
   "outputs": [],
   "source": [
    "directory =os.getenv('HOME') + '/aiffel/aiffelthon/Data_copy/SA/' #Data_copy/SA' "
   ]
  },
  {
   "cell_type": "code",
   "execution_count": 3,
   "id": "cee74bbc",
   "metadata": {},
   "outputs": [],
   "source": [
    "#df = pd.read_csv(directory+'/dataset_full_translated_en_ko_0221_last_added_0221_12h_copy.csv') # 데이터 파일 불러오기"
   ]
  },
  {
   "cell_type": "code",
   "execution_count": 4,
   "id": "1d3ca87d",
   "metadata": {},
   "outputs": [],
   "source": [
    "#df.head()"
   ]
  },
  {
   "cell_type": "code",
   "execution_count": 5,
   "id": "ad0e3796",
   "metadata": {},
   "outputs": [
    {
     "data": {
      "text/plain": [
       "['dataset_en_ko_translated_sa_105000_110000.csv',\n",
       " 'dataset_en_ko_translated_sa_175000_180000.csv',\n",
       " 'dataset_en_ko_translated_sa_135000_140000.csv',\n",
       " 'dataset_en_ko_translated_sa_80000_85000.csv',\n",
       " 'dataset_en_ko_translated_sa_95000_100000.csv',\n",
       " 'dataset_en_ko_translated_sa_15000_20000.csv',\n",
       " 'dataset_en_ko_translated_sa_90000_95000.csv',\n",
       " 'dataset_en_ko_translated_sa_120000_125000.csv',\n",
       " 'dataset_en_ko_translated_sa_150000_155000.csv',\n",
       " 'dataset_en_ko_translated_sa_75000_80000.csv',\n",
       " 'dataset_en_ko_translated_sa_0_5000.csv',\n",
       " 'dataset_en_ko_translated_sa_125000_130000.csv',\n",
       " 'dataset_en_ko_translated_sa_160000_165000.csv',\n",
       " 'dataset_en_ko_translated_sa_130000_135000.csv',\n",
       " 'dataset_en_ko_translated_sa_55000_60000.csv',\n",
       " 'dataset_en_ko_translated_sa_115000_120000.csv',\n",
       " 'dataset_en_ko_translated_sa_20000_25000.csv',\n",
       " 'dataset_en_ko_translated_sa_140000_145000.csv',\n",
       " 'dataset_en_ko_translated_sa_165000_170000.csv',\n",
       " 'dataset_en_ko_translated_sa_155000_160000.csv',\n",
       " 'dataset_en_ko_translated_sa_100000_105000.csv',\n",
       " 'dataset_en_ko_translated_sa_35000_40000.csv',\n",
       " 'dataset_en_ko_translated_sa_10000_15000.csv',\n",
       " 'dataset_en_ko_translated_sa_70000_75000.csv',\n",
       " 'dataset_en_ko_translated_sa_60000_65000.csv',\n",
       " 'dataset_en_ko_translated_sa_5000_10000.csv',\n",
       " 'dataset_en_ko_translated_sa_25000_30000.csv',\n",
       " 'dataset_en_ko_translated_sa_170000_175000.csv',\n",
       " 'dataset_en_ko_translated_sa_85000_90000.csv',\n",
       " 'dataset_en_ko_translated_sa_30000_35000.csv',\n",
       " 'SAdataset_full_ko_en_added_0222_sa.csv',\n",
       " 'dataset_en_ko_translated_sa_65000_70000.csv',\n",
       " 'dataset_en_ko_translated_sa_145000_150000.csv',\n",
       " 'dataset_en_ko_translated_sa_40000_45000.csv',\n",
       " '.ipynb_checkpoints',\n",
       " 'dataset_en_ko_translated_sa_45000_50000.csv',\n",
       " 'dataset_en_ko_translated_sa_50000_55000.csv',\n",
       " 'dataset_en_ko_translated_sa_110000_115000.csv']"
      ]
     },
     "execution_count": 5,
     "metadata": {},
     "output_type": "execute_result"
    }
   ],
   "source": [
    "os.listdir(directory)"
   ]
  },
  {
   "cell_type": "code",
   "execution_count": 6,
   "id": "4754fa1f",
   "metadata": {},
   "outputs": [
    {
     "data": {
      "text/plain": [
       "['/aiffel/aiffel/aiffelthon/Data_copy/SA/dataset_en_ko_translated_sa_105000_110000.csv',\n",
       " '/aiffel/aiffel/aiffelthon/Data_copy/SA/dataset_en_ko_translated_sa_175000_180000.csv',\n",
       " '/aiffel/aiffel/aiffelthon/Data_copy/SA/dataset_en_ko_translated_sa_135000_140000.csv',\n",
       " '/aiffel/aiffel/aiffelthon/Data_copy/SA/dataset_en_ko_translated_sa_80000_85000.csv',\n",
       " '/aiffel/aiffel/aiffelthon/Data_copy/SA/dataset_en_ko_translated_sa_95000_100000.csv',\n",
       " '/aiffel/aiffel/aiffelthon/Data_copy/SA/dataset_en_ko_translated_sa_15000_20000.csv',\n",
       " '/aiffel/aiffel/aiffelthon/Data_copy/SA/dataset_en_ko_translated_sa_90000_95000.csv',\n",
       " '/aiffel/aiffel/aiffelthon/Data_copy/SA/dataset_en_ko_translated_sa_120000_125000.csv',\n",
       " '/aiffel/aiffel/aiffelthon/Data_copy/SA/dataset_en_ko_translated_sa_150000_155000.csv',\n",
       " '/aiffel/aiffel/aiffelthon/Data_copy/SA/dataset_en_ko_translated_sa_75000_80000.csv',\n",
       " '/aiffel/aiffel/aiffelthon/Data_copy/SA/dataset_en_ko_translated_sa_0_5000.csv',\n",
       " '/aiffel/aiffel/aiffelthon/Data_copy/SA/dataset_en_ko_translated_sa_125000_130000.csv',\n",
       " '/aiffel/aiffel/aiffelthon/Data_copy/SA/dataset_en_ko_translated_sa_160000_165000.csv',\n",
       " '/aiffel/aiffel/aiffelthon/Data_copy/SA/dataset_en_ko_translated_sa_130000_135000.csv',\n",
       " '/aiffel/aiffel/aiffelthon/Data_copy/SA/dataset_en_ko_translated_sa_55000_60000.csv',\n",
       " '/aiffel/aiffel/aiffelthon/Data_copy/SA/dataset_en_ko_translated_sa_115000_120000.csv',\n",
       " '/aiffel/aiffel/aiffelthon/Data_copy/SA/dataset_en_ko_translated_sa_20000_25000.csv',\n",
       " '/aiffel/aiffel/aiffelthon/Data_copy/SA/dataset_en_ko_translated_sa_140000_145000.csv',\n",
       " '/aiffel/aiffel/aiffelthon/Data_copy/SA/dataset_en_ko_translated_sa_165000_170000.csv',\n",
       " '/aiffel/aiffel/aiffelthon/Data_copy/SA/dataset_en_ko_translated_sa_155000_160000.csv',\n",
       " '/aiffel/aiffel/aiffelthon/Data_copy/SA/dataset_en_ko_translated_sa_100000_105000.csv',\n",
       " '/aiffel/aiffel/aiffelthon/Data_copy/SA/dataset_en_ko_translated_sa_35000_40000.csv',\n",
       " '/aiffel/aiffel/aiffelthon/Data_copy/SA/dataset_en_ko_translated_sa_10000_15000.csv',\n",
       " '/aiffel/aiffel/aiffelthon/Data_copy/SA/dataset_en_ko_translated_sa_70000_75000.csv',\n",
       " '/aiffel/aiffel/aiffelthon/Data_copy/SA/dataset_en_ko_translated_sa_60000_65000.csv',\n",
       " '/aiffel/aiffel/aiffelthon/Data_copy/SA/dataset_en_ko_translated_sa_5000_10000.csv',\n",
       " '/aiffel/aiffel/aiffelthon/Data_copy/SA/dataset_en_ko_translated_sa_25000_30000.csv',\n",
       " '/aiffel/aiffel/aiffelthon/Data_copy/SA/dataset_en_ko_translated_sa_170000_175000.csv',\n",
       " '/aiffel/aiffel/aiffelthon/Data_copy/SA/dataset_en_ko_translated_sa_85000_90000.csv',\n",
       " '/aiffel/aiffel/aiffelthon/Data_copy/SA/dataset_en_ko_translated_sa_30000_35000.csv',\n",
       " '/aiffel/aiffel/aiffelthon/Data_copy/SA/SAdataset_full_ko_en_added_0222_sa.csv',\n",
       " '/aiffel/aiffel/aiffelthon/Data_copy/SA/dataset_en_ko_translated_sa_65000_70000.csv',\n",
       " '/aiffel/aiffel/aiffelthon/Data_copy/SA/dataset_en_ko_translated_sa_145000_150000.csv',\n",
       " '/aiffel/aiffel/aiffelthon/Data_copy/SA/dataset_en_ko_translated_sa_40000_45000.csv',\n",
       " '/aiffel/aiffel/aiffelthon/Data_copy/SA/dataset_en_ko_translated_sa_45000_50000.csv',\n",
       " '/aiffel/aiffel/aiffelthon/Data_copy/SA/dataset_en_ko_translated_sa_50000_55000.csv',\n",
       " '/aiffel/aiffel/aiffelthon/Data_copy/SA/dataset_en_ko_translated_sa_110000_115000.csv']"
      ]
     },
     "execution_count": 6,
     "metadata": {},
     "output_type": "execute_result"
    }
   ],
   "source": [
    "import glob\n",
    "files = glob.glob(directory+f'*sa*.csv')\n",
    "files"
   ]
  },
  {
   "cell_type": "code",
   "execution_count": 7,
   "id": "fa413dc3",
   "metadata": {
    "scrolled": true
   },
   "outputs": [
    {
     "name": "stdout",
     "output_type": "stream",
     "text": [
      "<class 'pandas.core.frame.DataFrame'>\n",
      "Int64Index: 261124 entries, 0 to 261123\n",
      "Data columns (total 5 columns):\n",
      " #   Column  Non-Null Count   Dtype \n",
      "---  ------  --------------   ----- \n",
      " 0   text    261124 non-null  object\n",
      " 1   dial    261124 non-null  object\n",
      " 2   reg     261124 non-null  object\n",
      " 3   pair    261124 non-null  object\n",
      " 4   eng     261124 non-null  object\n",
      "dtypes: object(5)\n",
      "memory usage: 12.0+ MB\n"
     ]
    }
   ],
   "source": [
    "# data merge하기\n",
    "df_final = pd.DataFrame(columns=['text', 'dial', 'reg', 'pair','eng'])\n",
    "for i in files :\n",
    "    df_new = pd.read_csv(i, usecols =['text', 'dial', 'reg', 'pair','eng'])\n",
    "    df_final = df_final.merge(df_new, how='outer')\n",
    "df_final.head()\n",
    "df_final.info()"
   ]
  },
  {
   "cell_type": "markdown",
   "id": "339ec859",
   "metadata": {},
   "source": [
    "## 시혁님 file merge"
   ]
  },
  {
   "cell_type": "code",
   "execution_count": 8,
   "id": "f05554c7",
   "metadata": {},
   "outputs": [],
   "source": [
    "directory_sh =os.getenv('HOME') + '/aiffel/aiffelthon/Data_copy/SH/' #Data_copy/SA' "
   ]
  },
  {
   "cell_type": "code",
   "execution_count": 9,
   "id": "9391d878",
   "metadata": {},
   "outputs": [
    {
     "data": {
      "text/plain": [
       "['dataset_en_ko_translated_sihyeok_100000_105000.csv',\n",
       " 'dataset_en_ko_translated_sihyeok_50000_55000.csv',\n",
       " 'dataset_en_ko_translated_sihyeok_55000_60000.csv',\n",
       " 'dataset_en_ko_translated_sihyeok_15000_20000.csv',\n",
       " 'dataset_en_ko_translated_sihyeok_75000_80000.csv',\n",
       " 'dataset_en_ko_translated_sihyeok_30000_35000.csv',\n",
       " 'dataset_en_ko_translated_sihyeok_120000_125000.csv',\n",
       " 'dataset_en_ko_translated_sihyeok_10000_15000.csv',\n",
       " 'dataset_en_ko_translated_sihyeok_115000_120000.csv',\n",
       " 'dataset_en_ko_translated_sihyeok_35000_40000.csv',\n",
       " 'dataset_en_ko_translated_sihyeok_70000_75000.csv',\n",
       " 'dataset_en_ko_translated_sihyeok_60000_65000.csv',\n",
       " 'dataset_en_ko_translated_sihyeok_45000_50000.csv',\n",
       " 'dataset_en_ko_translated_sihyeok_140000_145000.csv',\n",
       " 'dataset_en_ko_translated_sihyeok_110000_115000.csv',\n",
       " 'dataset_en_ko_translated_sihyeok_20000_25000.csv',\n",
       " 'dataset_en_ko_translated_sihyeok_125000_130000.csv',\n",
       " 'dataset_en_ko_translated_sihyeok_105000_110000.csv',\n",
       " 'dataset_en_ko_translated_sihyeok_85000_90000.csv',\n",
       " 'dataset_en_ko_translated_sihyeok_95000_100000.csv',\n",
       " 'dataset_en_ko_translated_sihyeok_135000_140000.csv',\n",
       " 'dataset_en_ko_translated_sihyeok_5000_10000.csv',\n",
       " 'dataset_en_ko_translated_sihyeok_0_5000.csv',\n",
       " 'dataset_en_ko_translated_sihyeok_40000_45000.csv',\n",
       " 'dataset_en_ko_translated_sihyeok_25000_30000.csv',\n",
       " '.ipynb_checkpoints',\n",
       " 'dataset_en_ko_translated_sihyeok_80000_85000.csv',\n",
       " 'dataset_en_ko_translated_sihyeok_65000_70000.csv']"
      ]
     },
     "execution_count": 9,
     "metadata": {},
     "output_type": "execute_result"
    }
   ],
   "source": [
    "os.listdir(directory_sh)"
   ]
  },
  {
   "cell_type": "code",
   "execution_count": 10,
   "id": "415316a7",
   "metadata": {},
   "outputs": [
    {
     "data": {
      "text/plain": [
       "['/aiffel/aiffel/aiffelthon/Data_copy/SH/dataset_en_ko_translated_sihyeok_100000_105000.csv',\n",
       " '/aiffel/aiffel/aiffelthon/Data_copy/SH/dataset_en_ko_translated_sihyeok_50000_55000.csv',\n",
       " '/aiffel/aiffel/aiffelthon/Data_copy/SH/dataset_en_ko_translated_sihyeok_55000_60000.csv',\n",
       " '/aiffel/aiffel/aiffelthon/Data_copy/SH/dataset_en_ko_translated_sihyeok_15000_20000.csv',\n",
       " '/aiffel/aiffel/aiffelthon/Data_copy/SH/dataset_en_ko_translated_sihyeok_75000_80000.csv',\n",
       " '/aiffel/aiffel/aiffelthon/Data_copy/SH/dataset_en_ko_translated_sihyeok_30000_35000.csv',\n",
       " '/aiffel/aiffel/aiffelthon/Data_copy/SH/dataset_en_ko_translated_sihyeok_120000_125000.csv',\n",
       " '/aiffel/aiffel/aiffelthon/Data_copy/SH/dataset_en_ko_translated_sihyeok_10000_15000.csv',\n",
       " '/aiffel/aiffel/aiffelthon/Data_copy/SH/dataset_en_ko_translated_sihyeok_115000_120000.csv',\n",
       " '/aiffel/aiffel/aiffelthon/Data_copy/SH/dataset_en_ko_translated_sihyeok_35000_40000.csv',\n",
       " '/aiffel/aiffel/aiffelthon/Data_copy/SH/dataset_en_ko_translated_sihyeok_70000_75000.csv',\n",
       " '/aiffel/aiffel/aiffelthon/Data_copy/SH/dataset_en_ko_translated_sihyeok_60000_65000.csv',\n",
       " '/aiffel/aiffel/aiffelthon/Data_copy/SH/dataset_en_ko_translated_sihyeok_45000_50000.csv',\n",
       " '/aiffel/aiffel/aiffelthon/Data_copy/SH/dataset_en_ko_translated_sihyeok_140000_145000.csv',\n",
       " '/aiffel/aiffel/aiffelthon/Data_copy/SH/dataset_en_ko_translated_sihyeok_110000_115000.csv',\n",
       " '/aiffel/aiffel/aiffelthon/Data_copy/SH/dataset_en_ko_translated_sihyeok_20000_25000.csv',\n",
       " '/aiffel/aiffel/aiffelthon/Data_copy/SH/dataset_en_ko_translated_sihyeok_125000_130000.csv',\n",
       " '/aiffel/aiffel/aiffelthon/Data_copy/SH/dataset_en_ko_translated_sihyeok_105000_110000.csv',\n",
       " '/aiffel/aiffel/aiffelthon/Data_copy/SH/dataset_en_ko_translated_sihyeok_85000_90000.csv',\n",
       " '/aiffel/aiffel/aiffelthon/Data_copy/SH/dataset_en_ko_translated_sihyeok_95000_100000.csv',\n",
       " '/aiffel/aiffel/aiffelthon/Data_copy/SH/dataset_en_ko_translated_sihyeok_135000_140000.csv',\n",
       " '/aiffel/aiffel/aiffelthon/Data_copy/SH/dataset_en_ko_translated_sihyeok_5000_10000.csv',\n",
       " '/aiffel/aiffel/aiffelthon/Data_copy/SH/dataset_en_ko_translated_sihyeok_0_5000.csv',\n",
       " '/aiffel/aiffel/aiffelthon/Data_copy/SH/dataset_en_ko_translated_sihyeok_40000_45000.csv',\n",
       " '/aiffel/aiffel/aiffelthon/Data_copy/SH/dataset_en_ko_translated_sihyeok_25000_30000.csv',\n",
       " '/aiffel/aiffel/aiffelthon/Data_copy/SH/dataset_en_ko_translated_sihyeok_80000_85000.csv',\n",
       " '/aiffel/aiffel/aiffelthon/Data_copy/SH/dataset_en_ko_translated_sihyeok_65000_70000.csv']"
      ]
     },
     "execution_count": 10,
     "metadata": {},
     "output_type": "execute_result"
    }
   ],
   "source": [
    "import glob\n",
    "files = glob.glob(directory_sh+f'*sihyeok*.csv')\n",
    "files"
   ]
  },
  {
   "cell_type": "code",
   "execution_count": 11,
   "id": "151050cb",
   "metadata": {},
   "outputs": [
    {
     "name": "stdout",
     "output_type": "stream",
     "text": [
      "<class 'pandas.core.frame.DataFrame'>\n",
      "Int64Index: 145000 entries, 0 to 144999\n",
      "Data columns (total 5 columns):\n",
      " #   Column  Non-Null Count   Dtype \n",
      "---  ------  --------------   ----- \n",
      " 0   text    145000 non-null  object\n",
      " 1   dial    145000 non-null  object\n",
      " 2   reg     145000 non-null  object\n",
      " 3   pair    145000 non-null  object\n",
      " 4   eng     145000 non-null  object\n",
      "dtypes: object(5)\n",
      "memory usage: 6.6+ MB\n"
     ]
    }
   ],
   "source": [
    "# data merge하기\n",
    "df_final_sh = pd.DataFrame(columns=['text', 'dial', 'reg', 'pair','eng'])\n",
    "for i in files :\n",
    "    df_new = pd.read_csv(i, usecols =['text', 'dial', 'reg', 'pair','eng'])\n",
    "    df_final_sh = df_final_sh.merge(df_new, how='outer')\n",
    "df_final_sh.head()\n",
    "df_final_sh.info()"
   ]
  },
  {
   "cell_type": "code",
   "execution_count": 12,
   "id": "88308016",
   "metadata": {},
   "outputs": [],
   "source": [
    "date = '0222'\n",
    "name = 'sh'"
   ]
  },
  {
   "cell_type": "code",
   "execution_count": 13,
   "id": "fd32c202",
   "metadata": {},
   "outputs": [],
   "source": [
    "df_final_sh.to_csv(directory + f'dataset_full_ko_en_added_{date}_{name}.csv' , index=False)\n"
   ]
  },
  {
   "cell_type": "markdown",
   "id": "a696dd80",
   "metadata": {},
   "source": [
    "## Merge된 file 하나로 합치기 "
   ]
  },
  {
   "cell_type": "code",
   "execution_count": 14,
   "id": "fcaf6767",
   "metadata": {},
   "outputs": [],
   "source": [
    "directory_all = os.getenv('HOME') + '/aiffel/aiffelthon/Data_copy/'"
   ]
  },
  {
   "cell_type": "code",
   "execution_count": 15,
   "id": "fc89857e",
   "metadata": {},
   "outputs": [
    {
     "data": {
      "text/plain": [
       "['/aiffel/aiffel/aiffelthon/Data_copy/dataset_full_translated_en_ko_0221_last_added_0221_12h.csv',\n",
       " '/aiffel/aiffel/aiffelthon/Data_copy/dataset_full_ko_en_added_0221_Jongin.csv',\n",
       " '/aiffel/aiffel/aiffelthon/Data_copy/dataset_full_ko_en_added_0222_sh.csv',\n",
       " '/aiffel/aiffel/aiffelthon/Data_copy/dataset_full_ko_en_added_0222_sa.csv']"
      ]
     },
     "execution_count": 15,
     "metadata": {},
     "output_type": "execute_result"
    }
   ],
   "source": [
    "import glob\n",
    "files = glob.glob(directory_all+f'*added*.csv')\n",
    "files"
   ]
  },
  {
   "cell_type": "code",
   "execution_count": 16,
   "id": "351ec00d",
   "metadata": {
    "scrolled": true
   },
   "outputs": [
    {
     "name": "stdout",
     "output_type": "stream",
     "text": [
      "<class 'pandas.core.frame.DataFrame'>\n",
      "Int64Index: 1200782 entries, 0 to 1200781\n",
      "Data columns (total 4 columns):\n",
      " #   Column  Non-Null Count    Dtype \n",
      "---  ------  --------------    ----- \n",
      " 0   text    1200781 non-null  object\n",
      " 1   dial    1200782 non-null  object\n",
      " 2   reg     1200782 non-null  object\n",
      " 3   eng     1200782 non-null  object\n",
      "dtypes: object(4)\n",
      "memory usage: 45.8+ MB\n"
     ]
    }
   ],
   "source": [
    "# data merge하기\n",
    "df_final_all = pd.DataFrame(columns=['text', 'dial', 'reg','eng'])\n",
    "for i in files :\n",
    "    df_new = pd.read_csv(i, usecols =['text', 'dial', 'reg','eng'])\n",
    "    df_final_all = df_final_all.merge(df_new, how='outer')\n",
    "df_final_all.head()\n",
    "df_final_all.info()"
   ]
  },
  {
   "cell_type": "code",
   "execution_count": 17,
   "id": "b8fb741c",
   "metadata": {},
   "outputs": [
    {
     "data": {
      "text/html": [
       "<div>\n",
       "<style scoped>\n",
       "    .dataframe tbody tr th:only-of-type {\n",
       "        vertical-align: middle;\n",
       "    }\n",
       "\n",
       "    .dataframe tbody tr th {\n",
       "        vertical-align: top;\n",
       "    }\n",
       "\n",
       "    .dataframe thead th {\n",
       "        text-align: right;\n",
       "    }\n",
       "</style>\n",
       "<table border=\"1\" class=\"dataframe\">\n",
       "  <thead>\n",
       "    <tr style=\"text-align: right;\">\n",
       "      <th></th>\n",
       "      <th>text</th>\n",
       "      <th>dial</th>\n",
       "      <th>reg</th>\n",
       "      <th>eng</th>\n",
       "    </tr>\n",
       "  </thead>\n",
       "  <tbody>\n",
       "    <tr>\n",
       "      <th>0</th>\n",
       "      <td>생각이 쪼금씩 바뀌더라고</td>\n",
       "      <td>생각이 쪼금씩 바뀌드라고</td>\n",
       "      <td>jd</td>\n",
       "      <td>I've changed my mind a little bit.</td>\n",
       "    </tr>\n",
       "    <tr>\n",
       "      <th>1</th>\n",
       "      <td>어 알겠는가 외국인들이 그래도 잘 적응하고</td>\n",
       "      <td>어 알겄는가 외국인들이 그래도 잘 적응하고</td>\n",
       "      <td>jd</td>\n",
       "      <td>You know what? Foreigners still get used to it.</td>\n",
       "    </tr>\n",
       "    <tr>\n",
       "      <th>2</th>\n",
       "      <td>아으 갑자기 예전에 맹장 뜯은 게 생각난다.</td>\n",
       "      <td>아으 갑자기 예전에 맹장 뜯은 게 생각난디야.</td>\n",
       "      <td>jd</td>\n",
       "      <td>All of a sudden, I think I've ripped off my ap...</td>\n",
       "    </tr>\n",
       "    <tr>\n",
       "      <th>3</th>\n",
       "      <td>보면은 조금 품위 있게 나이 들어가야 되겠단 생각을 참 많이 해요.</td>\n",
       "      <td>보면은 쫌 품위 있게 나이 들어가야 되겠단 생각을 참 많이 해요.</td>\n",
       "      <td>jd</td>\n",
       "      <td>I have a lot of ideas about getting older in a...</td>\n",
       "    </tr>\n",
       "    <tr>\n",
       "      <th>4</th>\n",
       "      <td>약간 조금 약간 맛이 쪼끔 거시기 하긴 한데 그래도</td>\n",
       "      <td>약간 쫌 약간 맛이 쪼끔 거시기 하긴 한데 그래도</td>\n",
       "      <td>jd</td>\n",
       "      <td>It's a little bit of a tastey, but still...</td>\n",
       "    </tr>\n",
       "  </tbody>\n",
       "</table>\n",
       "</div>"
      ],
      "text/plain": [
       "                                    text  \\\n",
       "0                          생각이 쪼금씩 바뀌더라고   \n",
       "1                어 알겠는가 외국인들이 그래도 잘 적응하고   \n",
       "2               아으 갑자기 예전에 맹장 뜯은 게 생각난다.   \n",
       "3  보면은 조금 품위 있게 나이 들어가야 되겠단 생각을 참 많이 해요.   \n",
       "4           약간 조금 약간 맛이 쪼끔 거시기 하긴 한데 그래도   \n",
       "\n",
       "                                   dial reg  \\\n",
       "0                         생각이 쪼금씩 바뀌드라고  jd   \n",
       "1               어 알겄는가 외국인들이 그래도 잘 적응하고  jd   \n",
       "2             아으 갑자기 예전에 맹장 뜯은 게 생각난디야.  jd   \n",
       "3  보면은 쫌 품위 있게 나이 들어가야 되겠단 생각을 참 많이 해요.  jd   \n",
       "4           약간 쫌 약간 맛이 쪼끔 거시기 하긴 한데 그래도  jd   \n",
       "\n",
       "                                                 eng  \n",
       "0                 I've changed my mind a little bit.  \n",
       "1    You know what? Foreigners still get used to it.  \n",
       "2  All of a sudden, I think I've ripped off my ap...  \n",
       "3  I have a lot of ideas about getting older in a...  \n",
       "4        It's a little bit of a tastey, but still...  "
      ]
     },
     "execution_count": 17,
     "metadata": {},
     "output_type": "execute_result"
    }
   ],
   "source": [
    "df_final_all.head()"
   ]
  },
  {
   "cell_type": "code",
   "execution_count": 18,
   "id": "4a7f7268",
   "metadata": {},
   "outputs": [
    {
     "data": {
      "text/plain": [
       "(1200782, 4)"
      ]
     },
     "execution_count": 18,
     "metadata": {},
     "output_type": "execute_result"
    }
   ],
   "source": [
    "df_final_all.shape"
   ]
  },
  {
   "cell_type": "code",
   "execution_count": 19,
   "id": "26f064c0",
   "metadata": {},
   "outputs": [
    {
     "name": "stdout",
     "output_type": "stream",
     "text": [
      "['jd' 'cc' 'gs' 'jj' 'kw']\n"
     ]
    }
   ],
   "source": [
    "print(df_final_all['reg'].unique())"
   ]
  },
  {
   "cell_type": "code",
   "execution_count": 20,
   "id": "df4fdfcf",
   "metadata": {},
   "outputs": [
    {
     "name": "stdout",
     "output_type": "stream",
     "text": [
      "kw    446207\n",
      "jj    270521\n",
      "jd    227222\n",
      "cc    128632\n",
      "gs    128200\n",
      "Name: reg, dtype: int64\n"
     ]
    }
   ],
   "source": [
    "print(df_final_all['reg'].value_counts())"
   ]
  },
  {
   "cell_type": "markdown",
   "id": "6ef4e2d2",
   "metadata": {},
   "source": [
    "## 데이터 정제"
   ]
  },
  {
   "cell_type": "code",
   "execution_count": 21,
   "id": "9cedd1e6",
   "metadata": {},
   "outputs": [
    {
     "data": {
      "text/plain": [
       "text    1\n",
       "dial    0\n",
       "reg     0\n",
       "eng     0\n",
       "dtype: int64"
      ]
     },
     "execution_count": 21,
     "metadata": {},
     "output_type": "execute_result"
    }
   ],
   "source": [
    "df_final_all.isnull().sum()"
   ]
  },
  {
   "cell_type": "code",
   "execution_count": 22,
   "id": "8302158a",
   "metadata": {},
   "outputs": [],
   "source": [
    "df_final_all.dropna(inplace=True)"
   ]
  },
  {
   "cell_type": "code",
   "execution_count": 23,
   "id": "3b54e784",
   "metadata": {},
   "outputs": [
    {
     "data": {
      "text/plain": [
       "text    0\n",
       "dial    0\n",
       "reg     0\n",
       "eng     0\n",
       "dtype: int64"
      ]
     },
     "execution_count": 23,
     "metadata": {},
     "output_type": "execute_result"
    }
   ],
   "source": [
    "df_final_all.isna().sum()"
   ]
  },
  {
   "cell_type": "code",
   "execution_count": 24,
   "id": "7edcf08a",
   "metadata": {},
   "outputs": [
    {
     "data": {
      "text/plain": [
       "134363"
      ]
     },
     "execution_count": 24,
     "metadata": {},
     "output_type": "execute_result"
    }
   ],
   "source": [
    "df_final_all.duplicated(subset='dial').sum()"
   ]
  },
  {
   "cell_type": "code",
   "execution_count": 25,
   "id": "b48a6cbf",
   "metadata": {},
   "outputs": [],
   "source": [
    "df_final_all.drop_duplicates(subset=\"dial\", inplace = True , ignore_index = True ) "
   ]
  },
  {
   "cell_type": "code",
   "execution_count": 26,
   "id": "4cf353f8",
   "metadata": {},
   "outputs": [
    {
     "data": {
      "text/html": [
       "<div>\n",
       "<style scoped>\n",
       "    .dataframe tbody tr th:only-of-type {\n",
       "        vertical-align: middle;\n",
       "    }\n",
       "\n",
       "    .dataframe tbody tr th {\n",
       "        vertical-align: top;\n",
       "    }\n",
       "\n",
       "    .dataframe thead th {\n",
       "        text-align: right;\n",
       "    }\n",
       "</style>\n",
       "<table border=\"1\" class=\"dataframe\">\n",
       "  <thead>\n",
       "    <tr style=\"text-align: right;\">\n",
       "      <th></th>\n",
       "      <th>text</th>\n",
       "      <th>dial</th>\n",
       "      <th>reg</th>\n",
       "      <th>eng</th>\n",
       "    </tr>\n",
       "  </thead>\n",
       "  <tbody>\n",
       "    <tr>\n",
       "      <th>0</th>\n",
       "      <td>생각이 쪼금씩 바뀌더라고</td>\n",
       "      <td>생각이 쪼금씩 바뀌드라고</td>\n",
       "      <td>jd</td>\n",
       "      <td>I've changed my mind a little bit.</td>\n",
       "    </tr>\n",
       "    <tr>\n",
       "      <th>1</th>\n",
       "      <td>어 알겠는가 외국인들이 그래도 잘 적응하고</td>\n",
       "      <td>어 알겄는가 외국인들이 그래도 잘 적응하고</td>\n",
       "      <td>jd</td>\n",
       "      <td>You know what? Foreigners still get used to it.</td>\n",
       "    </tr>\n",
       "    <tr>\n",
       "      <th>2</th>\n",
       "      <td>아으 갑자기 예전에 맹장 뜯은 게 생각난다.</td>\n",
       "      <td>아으 갑자기 예전에 맹장 뜯은 게 생각난디야.</td>\n",
       "      <td>jd</td>\n",
       "      <td>All of a sudden, I think I've ripped off my ap...</td>\n",
       "    </tr>\n",
       "    <tr>\n",
       "      <th>3</th>\n",
       "      <td>보면은 조금 품위 있게 나이 들어가야 되겠단 생각을 참 많이 해요.</td>\n",
       "      <td>보면은 쫌 품위 있게 나이 들어가야 되겠단 생각을 참 많이 해요.</td>\n",
       "      <td>jd</td>\n",
       "      <td>I have a lot of ideas about getting older in a...</td>\n",
       "    </tr>\n",
       "    <tr>\n",
       "      <th>4</th>\n",
       "      <td>약간 조금 약간 맛이 쪼끔 거시기 하긴 한데 그래도</td>\n",
       "      <td>약간 쫌 약간 맛이 쪼끔 거시기 하긴 한데 그래도</td>\n",
       "      <td>jd</td>\n",
       "      <td>It's a little bit of a tastey, but still...</td>\n",
       "    </tr>\n",
       "    <tr>\n",
       "      <th>...</th>\n",
       "      <td>...</td>\n",
       "      <td>...</td>\n",
       "      <td>...</td>\n",
       "      <td>...</td>\n",
       "    </tr>\n",
       "    <tr>\n",
       "      <th>1066413</th>\n",
       "      <td>뭐~ 맨날 집에서 인제 음식도 그냥 가까운 데 나가서 먹는 게 아니라 되게 시켜먹는...</td>\n",
       "      <td>뭐~ 맨날 집에서 인제 음식도 그냥 가까운 데 나가서 먹는 게 아니라 되게 시켜먹는...</td>\n",
       "      <td>jd</td>\n",
       "      <td>I suppose I dont just go out to the nearest pl...</td>\n",
       "    </tr>\n",
       "    <tr>\n",
       "      <th>1066414</th>\n",
       "      <td>너는 만약에 그런 시대가 오면 네가 어떻게 활동할 것 같애?</td>\n",
       "      <td>너는 만약에 그런 시대가 오면 니가 어떻게 활동할 것 같애?</td>\n",
       "      <td>gs</td>\n",
       "      <td>How do you think you will be active when that ...</td>\n",
       "    </tr>\n",
       "    <tr>\n",
       "      <th>1066415</th>\n",
       "      <td>하이브도 있고 #조석 작가 이제 조의 영역이라는 웹툰도 있고 마음의 소리도 있는데</td>\n",
       "      <td>하이브도 있고 조석 작가 이제 조의 영역이라는 웹툰도 있고 마음의 소리도 있는디</td>\n",
       "      <td>jd</td>\n",
       "      <td>There is a hive a webtoon called the area of J...</td>\n",
       "    </tr>\n",
       "    <tr>\n",
       "      <th>1066416</th>\n",
       "      <td>추석도 친척들도 사촌까지만 모이긴 했는데 이~ 다 모이니까 할 말도 많고 이~</td>\n",
       "      <td>추석도 친척들도 사촌까지만 모이긴 했는데 이~ 다 모이난이 할 말도 많고 이~</td>\n",
       "      <td>jj</td>\n",
       "      <td>On Chuseok relatives and cousins only gathered...</td>\n",
       "    </tr>\n",
       "    <tr>\n",
       "      <th>1066417</th>\n",
       "      <td>커피숍 가서 이렇게 먹고 하는 거가 훨씬 맛있거든 기분상으로도 그렇고</td>\n",
       "      <td>커피숍 가서 이케 먹고 하는 거가 훨씬 맛있거든 기분상으로도 그렇고</td>\n",
       "      <td>cc</td>\n",
       "      <td>Its much better to eat at a coffee shop and it...</td>\n",
       "    </tr>\n",
       "  </tbody>\n",
       "</table>\n",
       "<p>1066418 rows × 4 columns</p>\n",
       "</div>"
      ],
      "text/plain": [
       "                                                      text  \\\n",
       "0                                            생각이 쪼금씩 바뀌더라고   \n",
       "1                                  어 알겠는가 외국인들이 그래도 잘 적응하고   \n",
       "2                                 아으 갑자기 예전에 맹장 뜯은 게 생각난다.   \n",
       "3                    보면은 조금 품위 있게 나이 들어가야 되겠단 생각을 참 많이 해요.   \n",
       "4                             약간 조금 약간 맛이 쪼끔 거시기 하긴 한데 그래도   \n",
       "...                                                    ...   \n",
       "1066413  뭐~ 맨날 집에서 인제 음식도 그냥 가까운 데 나가서 먹는 게 아니라 되게 시켜먹는...   \n",
       "1066414                  너는 만약에 그런 시대가 오면 네가 어떻게 활동할 것 같애?   \n",
       "1066415      하이브도 있고 #조석 작가 이제 조의 영역이라는 웹툰도 있고 마음의 소리도 있는데   \n",
       "1066416        추석도 친척들도 사촌까지만 모이긴 했는데 이~ 다 모이니까 할 말도 많고 이~   \n",
       "1066417             커피숍 가서 이렇게 먹고 하는 거가 훨씬 맛있거든 기분상으로도 그렇고   \n",
       "\n",
       "                                                      dial reg  \\\n",
       "0                                            생각이 쪼금씩 바뀌드라고  jd   \n",
       "1                                  어 알겄는가 외국인들이 그래도 잘 적응하고  jd   \n",
       "2                                아으 갑자기 예전에 맹장 뜯은 게 생각난디야.  jd   \n",
       "3                     보면은 쫌 품위 있게 나이 들어가야 되겠단 생각을 참 많이 해요.  jd   \n",
       "4                              약간 쫌 약간 맛이 쪼끔 거시기 하긴 한데 그래도  jd   \n",
       "...                                                    ...  ..   \n",
       "1066413  뭐~ 맨날 집에서 인제 음식도 그냥 가까운 데 나가서 먹는 게 아니라 되게 시켜먹는...  jd   \n",
       "1066414                  너는 만약에 그런 시대가 오면 니가 어떻게 활동할 것 같애?  gs   \n",
       "1066415       하이브도 있고 조석 작가 이제 조의 영역이라는 웹툰도 있고 마음의 소리도 있는디  jd   \n",
       "1066416        추석도 친척들도 사촌까지만 모이긴 했는데 이~ 다 모이난이 할 말도 많고 이~  jj   \n",
       "1066417              커피숍 가서 이케 먹고 하는 거가 훨씬 맛있거든 기분상으로도 그렇고  cc   \n",
       "\n",
       "                                                       eng  \n",
       "0                       I've changed my mind a little bit.  \n",
       "1          You know what? Foreigners still get used to it.  \n",
       "2        All of a sudden, I think I've ripped off my ap...  \n",
       "3        I have a lot of ideas about getting older in a...  \n",
       "4              It's a little bit of a tastey, but still...  \n",
       "...                                                    ...  \n",
       "1066413  I suppose I dont just go out to the nearest pl...  \n",
       "1066414  How do you think you will be active when that ...  \n",
       "1066415  There is a hive a webtoon called the area of J...  \n",
       "1066416  On Chuseok relatives and cousins only gathered...  \n",
       "1066417  Its much better to eat at a coffee shop and it...  \n",
       "\n",
       "[1066418 rows x 4 columns]"
      ]
     },
     "execution_count": 26,
     "metadata": {},
     "output_type": "execute_result"
    }
   ],
   "source": [
    "df_final_all"
   ]
  },
  {
   "cell_type": "code",
   "execution_count": 27,
   "id": "396e91d7",
   "metadata": {},
   "outputs": [
    {
     "data": {
      "text/plain": [
       "0"
      ]
     },
     "execution_count": 27,
     "metadata": {},
     "output_type": "execute_result"
    }
   ],
   "source": [
    "df_final_all.duplicated().sum()"
   ]
  },
  {
   "cell_type": "code",
   "execution_count": 28,
   "id": "6725bb87",
   "metadata": {},
   "outputs": [
    {
     "data": {
      "text/plain": [
       "0"
      ]
     },
     "execution_count": 28,
     "metadata": {},
     "output_type": "execute_result"
    }
   ],
   "source": [
    "df_final_all.duplicated(subset='dial').sum()"
   ]
  },
  {
   "cell_type": "markdown",
   "id": "89969f05",
   "metadata": {},
   "source": [
    "## 지역별 100개씩 데이터 추출"
   ]
  },
  {
   "cell_type": "code",
   "execution_count": 29,
   "id": "a2f5adfb",
   "metadata": {},
   "outputs": [],
   "source": [
    "jj_sample = df_final_all[df_final_all['reg'] == 'jj']\n",
    "gs_sample = df_final_all[df_final_all['reg'] == 'gs']\n",
    "cc_sample = df_final_all[df_final_all['reg'] == 'cc']\n",
    "jd_sample = df_final_all[df_final_all['reg'] == 'jd']\n",
    "kw_sample = df_final_all[df_final_all['reg'] == 'kw']"
   ]
  },
  {
   "cell_type": "code",
   "execution_count": 30,
   "id": "84b324cd",
   "metadata": {},
   "outputs": [
    {
     "data": {
      "text/html": [
       "<div>\n",
       "<style scoped>\n",
       "    .dataframe tbody tr th:only-of-type {\n",
       "        vertical-align: middle;\n",
       "    }\n",
       "\n",
       "    .dataframe tbody tr th {\n",
       "        vertical-align: top;\n",
       "    }\n",
       "\n",
       "    .dataframe thead th {\n",
       "        text-align: right;\n",
       "    }\n",
       "</style>\n",
       "<table border=\"1\" class=\"dataframe\">\n",
       "  <thead>\n",
       "    <tr style=\"text-align: right;\">\n",
       "      <th></th>\n",
       "      <th>text</th>\n",
       "      <th>dial</th>\n",
       "      <th>reg</th>\n",
       "      <th>eng</th>\n",
       "    </tr>\n",
       "  </thead>\n",
       "  <tbody>\n",
       "    <tr>\n",
       "      <th>0</th>\n",
       "      <td>생각이 쪼금씩 바뀌더라고</td>\n",
       "      <td>생각이 쪼금씩 바뀌드라고</td>\n",
       "      <td>jd</td>\n",
       "      <td>I've changed my mind a little bit.</td>\n",
       "    </tr>\n",
       "    <tr>\n",
       "      <th>1</th>\n",
       "      <td>어 알겠는가 외국인들이 그래도 잘 적응하고</td>\n",
       "      <td>어 알겄는가 외국인들이 그래도 잘 적응하고</td>\n",
       "      <td>jd</td>\n",
       "      <td>You know what? Foreigners still get used to it.</td>\n",
       "    </tr>\n",
       "    <tr>\n",
       "      <th>2</th>\n",
       "      <td>아으 갑자기 예전에 맹장 뜯은 게 생각난다.</td>\n",
       "      <td>아으 갑자기 예전에 맹장 뜯은 게 생각난디야.</td>\n",
       "      <td>jd</td>\n",
       "      <td>All of a sudden, I think I've ripped off my ap...</td>\n",
       "    </tr>\n",
       "    <tr>\n",
       "      <th>3</th>\n",
       "      <td>보면은 조금 품위 있게 나이 들어가야 되겠단 생각을 참 많이 해요.</td>\n",
       "      <td>보면은 쫌 품위 있게 나이 들어가야 되겠단 생각을 참 많이 해요.</td>\n",
       "      <td>jd</td>\n",
       "      <td>I have a lot of ideas about getting older in a...</td>\n",
       "    </tr>\n",
       "    <tr>\n",
       "      <th>4</th>\n",
       "      <td>약간 조금 약간 맛이 쪼끔 거시기 하긴 한데 그래도</td>\n",
       "      <td>약간 쫌 약간 맛이 쪼끔 거시기 하긴 한데 그래도</td>\n",
       "      <td>jd</td>\n",
       "      <td>It's a little bit of a tastey, but still...</td>\n",
       "    </tr>\n",
       "    <tr>\n",
       "      <th>...</th>\n",
       "      <td>...</td>\n",
       "      <td>...</td>\n",
       "      <td>...</td>\n",
       "      <td>...</td>\n",
       "    </tr>\n",
       "    <tr>\n",
       "      <th>1066397</th>\n",
       "      <td>바꾸면서 자기 개성대로 쫌 쫌 이렇게</td>\n",
       "      <td>바꾸면서 자기 개성대로 쫌 쫌 이케</td>\n",
       "      <td>jd</td>\n",
       "      <td>Changing it as you personally like this</td>\n",
       "    </tr>\n",
       "    <tr>\n",
       "      <th>1066401</th>\n",
       "      <td>뭐~ 이런 거 온라인 강의로 합격한 사람 많으니까 걱정 안 해도 될 거 같아.</td>\n",
       "      <td>뭐~ 이런 거 온라인 강의로 합격한 사람 많으니까 걱정 안 해도 될 거 같여.</td>\n",
       "      <td>jd</td>\n",
       "      <td>I dont think you need to worry because many pe...</td>\n",
       "    </tr>\n",
       "    <tr>\n",
       "      <th>1066412</th>\n",
       "      <td>거기서 길 읽고 나서 더 이상 하기가 싫더라고 그래가지고</td>\n",
       "      <td>거기서 길 읽고 나서 더 이상 하기가 싫더라고 그래가꼬</td>\n",
       "      <td>jd</td>\n",
       "      <td>They said they didnt want to do it anymore aft...</td>\n",
       "    </tr>\n",
       "    <tr>\n",
       "      <th>1066413</th>\n",
       "      <td>뭐~ 맨날 집에서 인제 음식도 그냥 가까운 데 나가서 먹는 게 아니라 되게 시켜먹는...</td>\n",
       "      <td>뭐~ 맨날 집에서 인제 음식도 그냥 가까운 데 나가서 먹는 게 아니라 되게 시켜먹는...</td>\n",
       "      <td>jd</td>\n",
       "      <td>I suppose I dont just go out to the nearest pl...</td>\n",
       "    </tr>\n",
       "    <tr>\n",
       "      <th>1066415</th>\n",
       "      <td>하이브도 있고 #조석 작가 이제 조의 영역이라는 웹툰도 있고 마음의 소리도 있는데</td>\n",
       "      <td>하이브도 있고 조석 작가 이제 조의 영역이라는 웹툰도 있고 마음의 소리도 있는디</td>\n",
       "      <td>jd</td>\n",
       "      <td>There is a hive a webtoon called the area of J...</td>\n",
       "    </tr>\n",
       "  </tbody>\n",
       "</table>\n",
       "<p>191123 rows × 4 columns</p>\n",
       "</div>"
      ],
      "text/plain": [
       "                                                      text  \\\n",
       "0                                            생각이 쪼금씩 바뀌더라고   \n",
       "1                                  어 알겠는가 외국인들이 그래도 잘 적응하고   \n",
       "2                                 아으 갑자기 예전에 맹장 뜯은 게 생각난다.   \n",
       "3                    보면은 조금 품위 있게 나이 들어가야 되겠단 생각을 참 많이 해요.   \n",
       "4                             약간 조금 약간 맛이 쪼끔 거시기 하긴 한데 그래도   \n",
       "...                                                    ...   \n",
       "1066397                               바꾸면서 자기 개성대로 쫌 쫌 이렇게   \n",
       "1066401        뭐~ 이런 거 온라인 강의로 합격한 사람 많으니까 걱정 안 해도 될 거 같아.   \n",
       "1066412                    거기서 길 읽고 나서 더 이상 하기가 싫더라고 그래가지고   \n",
       "1066413  뭐~ 맨날 집에서 인제 음식도 그냥 가까운 데 나가서 먹는 게 아니라 되게 시켜먹는...   \n",
       "1066415      하이브도 있고 #조석 작가 이제 조의 영역이라는 웹툰도 있고 마음의 소리도 있는데   \n",
       "\n",
       "                                                      dial reg  \\\n",
       "0                                            생각이 쪼금씩 바뀌드라고  jd   \n",
       "1                                  어 알겄는가 외국인들이 그래도 잘 적응하고  jd   \n",
       "2                                아으 갑자기 예전에 맹장 뜯은 게 생각난디야.  jd   \n",
       "3                     보면은 쫌 품위 있게 나이 들어가야 되겠단 생각을 참 많이 해요.  jd   \n",
       "4                              약간 쫌 약간 맛이 쪼끔 거시기 하긴 한데 그래도  jd   \n",
       "...                                                    ...  ..   \n",
       "1066397                                바꾸면서 자기 개성대로 쫌 쫌 이케  jd   \n",
       "1066401        뭐~ 이런 거 온라인 강의로 합격한 사람 많으니까 걱정 안 해도 될 거 같여.  jd   \n",
       "1066412                     거기서 길 읽고 나서 더 이상 하기가 싫더라고 그래가꼬  jd   \n",
       "1066413  뭐~ 맨날 집에서 인제 음식도 그냥 가까운 데 나가서 먹는 게 아니라 되게 시켜먹는...  jd   \n",
       "1066415       하이브도 있고 조석 작가 이제 조의 영역이라는 웹툰도 있고 마음의 소리도 있는디  jd   \n",
       "\n",
       "                                                       eng  \n",
       "0                       I've changed my mind a little bit.  \n",
       "1          You know what? Foreigners still get used to it.  \n",
       "2        All of a sudden, I think I've ripped off my ap...  \n",
       "3        I have a lot of ideas about getting older in a...  \n",
       "4              It's a little bit of a tastey, but still...  \n",
       "...                                                    ...  \n",
       "1066397            Changing it as you personally like this  \n",
       "1066401  I dont think you need to worry because many pe...  \n",
       "1066412  They said they didnt want to do it anymore aft...  \n",
       "1066413  I suppose I dont just go out to the nearest pl...  \n",
       "1066415  There is a hive a webtoon called the area of J...  \n",
       "\n",
       "[191123 rows x 4 columns]"
      ]
     },
     "execution_count": 30,
     "metadata": {},
     "output_type": "execute_result"
    }
   ],
   "source": [
    "jd_sample"
   ]
  },
  {
   "cell_type": "code",
   "execution_count": 46,
   "id": "b8a0f018",
   "metadata": {},
   "outputs": [],
   "source": [
    "jj_df = jj_sample.sample(n=100, \n",
    "                         replace=False, \n",
    "                         weights=None, \n",
    "                         random_state=220, axis=0, ignore_index=True)\n",
    "gs_df = gs_sample.sample(n=100,\n",
    "                         replace=False, \n",
    "                         weights=None, \n",
    "                         random_state=220, axis=0, ignore_index=True)\n",
    "cc_df = cc_sample.sample(n=100, \n",
    "                         replace=False, \n",
    "                         weights=None, \n",
    "                         random_state=220, axis=0, ignore_index=True)\n",
    "jd_df = jd_sample.sample(n=100, \n",
    "                         replace=False, \n",
    "                         weights=None, \n",
    "                         random_state=220, axis=0, ignore_index=True)\n",
    "kw_df = kw_sample.sample(n=100, \n",
    "                         replace=False, \n",
    "                         weights=None, \n",
    "                         random_state=220, axis=0, ignore_index=True)"
   ]
  },
  {
   "cell_type": "code",
   "execution_count": 47,
   "id": "d8e408cf",
   "metadata": {},
   "outputs": [
    {
     "data": {
      "text/html": [
       "<div>\n",
       "<style scoped>\n",
       "    .dataframe tbody tr th:only-of-type {\n",
       "        vertical-align: middle;\n",
       "    }\n",
       "\n",
       "    .dataframe tbody tr th {\n",
       "        vertical-align: top;\n",
       "    }\n",
       "\n",
       "    .dataframe thead th {\n",
       "        text-align: right;\n",
       "    }\n",
       "</style>\n",
       "<table border=\"1\" class=\"dataframe\">\n",
       "  <thead>\n",
       "    <tr style=\"text-align: right;\">\n",
       "      <th></th>\n",
       "      <th>text</th>\n",
       "      <th>dial</th>\n",
       "      <th>reg</th>\n",
       "      <th>eng</th>\n",
       "    </tr>\n",
       "  </thead>\n",
       "  <tbody>\n",
       "    <tr>\n",
       "      <th>0</th>\n",
       "      <td>빨리 죽고 싶구먼.</td>\n",
       "      <td>빨라당 죽고 싶구먼.</td>\n",
       "      <td>kw</td>\n",
       "      <td>You want to die fast.</td>\n",
       "    </tr>\n",
       "    <tr>\n",
       "      <th>1</th>\n",
       "      <td>기억을 잃어버리다.</td>\n",
       "      <td>기억을 잃어먹다.</td>\n",
       "      <td>kw</td>\n",
       "      <td>I lose my memory.</td>\n",
       "    </tr>\n",
       "    <tr>\n",
       "      <th>2</th>\n",
       "      <td>대화는 결혼준비에 대한 말보단 아들 딸 자랑하는게 분위기도 띄우고 좋은것 같아요.</td>\n",
       "      <td>대화는 결혼준비에 대한 말보단 아덜 딸 자랑하는게 분위기도 띄우고 좋은것 같아요.</td>\n",
       "      <td>kw</td>\n",
       "      <td>It's not so much about preparing for marriage ...</td>\n",
       "    </tr>\n",
       "    <tr>\n",
       "      <th>3</th>\n",
       "      <td>그런 같잖은 일을 가지고 말다툼을 하니?</td>\n",
       "      <td>그렁이 같잖은 일을 가주구 말다툼을 하니?</td>\n",
       "      <td>kw</td>\n",
       "      <td>Do you argue about something like that?</td>\n",
       "    </tr>\n",
       "    <tr>\n",
       "      <th>4</th>\n",
       "      <td>어머니 장 보러 가셨어.</td>\n",
       "      <td>엄니 장 보러 가셨어.</td>\n",
       "      <td>kw</td>\n",
       "      <td>He went to see his mother's funeral.</td>\n",
       "    </tr>\n",
       "    <tr>\n",
       "      <th>...</th>\n",
       "      <td>...</td>\n",
       "      <td>...</td>\n",
       "      <td>...</td>\n",
       "      <td>...</td>\n",
       "    </tr>\n",
       "    <tr>\n",
       "      <th>95</th>\n",
       "      <td>부부 연이 아니예요.</td>\n",
       "      <td>에펜사나 연이 아니래요.</td>\n",
       "      <td>kw</td>\n",
       "      <td>It's not a marriage bond.</td>\n",
       "    </tr>\n",
       "    <tr>\n",
       "      <th>96</th>\n",
       "      <td>내가 때가 필요하다구 했다니까 아범 깐깐한 성격에 이럴까 저럴까 복 잡하게 생각할 ...</td>\n",
       "      <td>내가 때가 필요하다구 했다니까 아범 깐깐한 승격에 이럴까 저럴까 복 잡하게 생각할 ...</td>\n",
       "      <td>kw</td>\n",
       "      <td>I told you I needed a time, and you're being s...</td>\n",
       "    </tr>\n",
       "    <tr>\n",
       "      <th>97</th>\n",
       "      <td>눈치 어떠시니?</td>\n",
       "      <td>말금 어떠시디?</td>\n",
       "      <td>kw</td>\n",
       "      <td>How would you like to know?</td>\n",
       "    </tr>\n",
       "    <tr>\n",
       "      <th>98</th>\n",
       "      <td>맛있는 케잌은 금방 다 팔렸네?</td>\n",
       "      <td>맛있는 케잌은 곰방 다 팔렸네?</td>\n",
       "      <td>kw</td>\n",
       "      <td>It's been a while since I sold all the delicio...</td>\n",
       "    </tr>\n",
       "    <tr>\n",
       "      <th>99</th>\n",
       "      <td>이따 따뜻한 거 먹어.</td>\n",
       "      <td>게따 따뜻한 거 먹어.</td>\n",
       "      <td>kw</td>\n",
       "      <td>Eat some warm stuff later.</td>\n",
       "    </tr>\n",
       "  </tbody>\n",
       "</table>\n",
       "<p>100 rows × 4 columns</p>\n",
       "</div>"
      ],
      "text/plain": [
       "                                                 text  \\\n",
       "0                                          빨리 죽고 싶구먼.   \n",
       "1                                          기억을 잃어버리다.   \n",
       "2       대화는 결혼준비에 대한 말보단 아들 딸 자랑하는게 분위기도 띄우고 좋은것 같아요.   \n",
       "3                              그런 같잖은 일을 가지고 말다툼을 하니?   \n",
       "4                                       어머니 장 보러 가셨어.   \n",
       "..                                                ...   \n",
       "95                                        부부 연이 아니예요.   \n",
       "96  내가 때가 필요하다구 했다니까 아범 깐깐한 성격에 이럴까 저럴까 복 잡하게 생각할 ...   \n",
       "97                                           눈치 어떠시니?   \n",
       "98                                  맛있는 케잌은 금방 다 팔렸네?   \n",
       "99                                       이따 따뜻한 거 먹어.   \n",
       "\n",
       "                                                 dial reg  \\\n",
       "0                                         빨라당 죽고 싶구먼.  kw   \n",
       "1                                           기억을 잃어먹다.  kw   \n",
       "2       대화는 결혼준비에 대한 말보단 아덜 딸 자랑하는게 분위기도 띄우고 좋은것 같아요.  kw   \n",
       "3                             그렁이 같잖은 일을 가주구 말다툼을 하니?  kw   \n",
       "4                                        엄니 장 보러 가셨어.  kw   \n",
       "..                                                ...  ..   \n",
       "95                                      에펜사나 연이 아니래요.  kw   \n",
       "96  내가 때가 필요하다구 했다니까 아범 깐깐한 승격에 이럴까 저럴까 복 잡하게 생각할 ...  kw   \n",
       "97                                           말금 어떠시디?  kw   \n",
       "98                                  맛있는 케잌은 곰방 다 팔렸네?  kw   \n",
       "99                                       게따 따뜻한 거 먹어.  kw   \n",
       "\n",
       "                                                  eng  \n",
       "0                               You want to die fast.  \n",
       "1                                   I lose my memory.  \n",
       "2   It's not so much about preparing for marriage ...  \n",
       "3             Do you argue about something like that?  \n",
       "4                He went to see his mother's funeral.  \n",
       "..                                                ...  \n",
       "95                          It's not a marriage bond.  \n",
       "96  I told you I needed a time, and you're being s...  \n",
       "97                        How would you like to know?  \n",
       "98  It's been a while since I sold all the delicio...  \n",
       "99                         Eat some warm stuff later.  \n",
       "\n",
       "[100 rows x 4 columns]"
      ]
     },
     "execution_count": 47,
     "metadata": {},
     "output_type": "execute_result"
    }
   ],
   "source": [
    "kw_df"
   ]
  },
  {
   "cell_type": "code",
   "execution_count": 48,
   "id": "360f74e6",
   "metadata": {},
   "outputs": [],
   "source": [
    "obaek_data = pd.concat([jj_df, cc_df, kw_df, jd_df, gs_df], axis=0)"
   ]
  },
  {
   "cell_type": "code",
   "execution_count": 49,
   "id": "a142b8a7",
   "metadata": {},
   "outputs": [
    {
     "data": {
      "text/html": [
       "<div>\n",
       "<style scoped>\n",
       "    .dataframe tbody tr th:only-of-type {\n",
       "        vertical-align: middle;\n",
       "    }\n",
       "\n",
       "    .dataframe tbody tr th {\n",
       "        vertical-align: top;\n",
       "    }\n",
       "\n",
       "    .dataframe thead th {\n",
       "        text-align: right;\n",
       "    }\n",
       "</style>\n",
       "<table border=\"1\" class=\"dataframe\">\n",
       "  <thead>\n",
       "    <tr style=\"text-align: right;\">\n",
       "      <th></th>\n",
       "      <th>text</th>\n",
       "      <th>dial</th>\n",
       "      <th>reg</th>\n",
       "      <th>eng</th>\n",
       "    </tr>\n",
       "  </thead>\n",
       "  <tbody>\n",
       "    <tr>\n",
       "      <th>0</th>\n",
       "      <td>그니까 거기 그 사진 찍는아니야 주상절리 마냥</td>\n",
       "      <td>그니까 거기 그 사진 찍는아니 주상절리 마냥</td>\n",
       "      <td>jj</td>\n",
       "      <td>So youre not taking that picture there are you...</td>\n",
       "    </tr>\n",
       "    <tr>\n",
       "      <th>1</th>\n",
       "      <td>집에 있으면</td>\n",
       "      <td>집에 이시믄</td>\n",
       "      <td>jj</td>\n",
       "      <td>If you are at home</td>\n",
       "    </tr>\n",
       "    <tr>\n",
       "      <th>2</th>\n",
       "      <td>먹고 취하잖아 그러면 취하면 한이 있잖아 사람이 왜 이게</td>\n",
       "      <td>먹어지믄 취하잖아 겅하*믄이 취하면 한이 있네 사람이 왜 이게</td>\n",
       "      <td>jj</td>\n",
       "      <td>You're eating and getting drunk, and if you're...</td>\n",
       "    </tr>\n",
       "    <tr>\n",
       "      <th>3</th>\n",
       "      <td>그렇지 그렇게하겠지</td>\n",
       "      <td>그렇지 겅하겠주게</td>\n",
       "      <td>jj</td>\n",
       "      <td>Thats right Ill do that</td>\n",
       "    </tr>\n",
       "    <tr>\n",
       "      <th>4</th>\n",
       "      <td>나 아는사람이라고 해서 십만 원 더 지원해서 이십만 원 지원해 줬어</td>\n",
       "      <td>나 아는사람이라고 해서 십만 원 더 지원해서 이십만 원 지원해 줜</td>\n",
       "      <td>jj</td>\n",
       "      <td>I ot it as I know so I applied for another 100...</td>\n",
       "    </tr>\n",
       "    <tr>\n",
       "      <th>...</th>\n",
       "      <td>...</td>\n",
       "      <td>...</td>\n",
       "      <td>...</td>\n",
       "      <td>...</td>\n",
       "    </tr>\n",
       "    <tr>\n",
       "      <th>95</th>\n",
       "      <td>뭐~ 두 분 쓰시는 게 없어서 뭐~ 안정적인 건지 살 잘 얘기를 안 하시더라고요 그...</td>\n",
       "      <td>뭐~ 두 분 쓰시는 게 없어서 뭐~ 안정적인 건지 살 잘 얘기를 안 하시더라고요 그...</td>\n",
       "      <td>gs</td>\n",
       "      <td>Im worried about whether its stable or not bec...</td>\n",
       "    </tr>\n",
       "    <tr>\n",
       "      <th>96</th>\n",
       "      <td>잘 치거나 이렇게 했을 때 다 그냥 이렇게 손 한 번씩 다</td>\n",
       "      <td>잘 치거나 이렇게 했을 때 다 그냥 이케 손 한 번씩 다</td>\n",
       "      <td>gs</td>\n",
       "      <td>When you hit well or did this, you're all just...</td>\n",
       "    </tr>\n",
       "    <tr>\n",
       "      <th>97</th>\n",
       "      <td>아니 잘 안 맞지 넌</td>\n",
       "      <td>아니 잘 안 맞지 닌</td>\n",
       "      <td>gs</td>\n",
       "      <td>No it doesnt fit well you</td>\n",
       "    </tr>\n",
       "    <tr>\n",
       "      <th>98</th>\n",
       "      <td>진짜 너무 이거 조금 조금 미안하기도 하고 다른 사람들한테</td>\n",
       "      <td>진짜 너무 이거 쪼끔 쪼끔 미안하기도 하고 다른 사람들한테</td>\n",
       "      <td>gs</td>\n",
       "      <td>I'm so sorry about this.</td>\n",
       "    </tr>\n",
       "    <tr>\n",
       "      <th>99</th>\n",
       "      <td>바퀴벌레가 방역을 해도 기어나와 가지고 이제는 쪼끔 마음이 조금 나아지긴 했는데 처...</td>\n",
       "      <td>바퀴벌레가 방역을 해도 기어나와 가지고 이제는 쪼끔 마음이 쫌 나아지긴 했는데 처음...</td>\n",
       "      <td>gs</td>\n",
       "      <td>I fot it out even if the cockroaches crawled o...</td>\n",
       "    </tr>\n",
       "  </tbody>\n",
       "</table>\n",
       "<p>500 rows × 4 columns</p>\n",
       "</div>"
      ],
      "text/plain": [
       "                                                 text  \\\n",
       "0                           그니까 거기 그 사진 찍는아니야 주상절리 마냥   \n",
       "1                                              집에 있으면   \n",
       "2                     먹고 취하잖아 그러면 취하면 한이 있잖아 사람이 왜 이게   \n",
       "3                                          그렇지 그렇게하겠지   \n",
       "4               나 아는사람이라고 해서 십만 원 더 지원해서 이십만 원 지원해 줬어   \n",
       "..                                                ...   \n",
       "95  뭐~ 두 분 쓰시는 게 없어서 뭐~ 안정적인 건지 살 잘 얘기를 안 하시더라고요 그...   \n",
       "96                   잘 치거나 이렇게 했을 때 다 그냥 이렇게 손 한 번씩 다   \n",
       "97                                        아니 잘 안 맞지 넌   \n",
       "98                   진짜 너무 이거 조금 조금 미안하기도 하고 다른 사람들한테   \n",
       "99  바퀴벌레가 방역을 해도 기어나와 가지고 이제는 쪼끔 마음이 조금 나아지긴 했는데 처...   \n",
       "\n",
       "                                                 dial reg  \\\n",
       "0                            그니까 거기 그 사진 찍는아니 주상절리 마냥  jj   \n",
       "1                                              집에 이시믄  jj   \n",
       "2                  먹어지믄 취하잖아 겅하*믄이 취하면 한이 있네 사람이 왜 이게  jj   \n",
       "3                                           그렇지 겅하겠주게  jj   \n",
       "4                나 아는사람이라고 해서 십만 원 더 지원해서 이십만 원 지원해 줜  jj   \n",
       "..                                                ...  ..   \n",
       "95  뭐~ 두 분 쓰시는 게 없어서 뭐~ 안정적인 건지 살 잘 얘기를 안 하시더라고요 그...  gs   \n",
       "96                    잘 치거나 이렇게 했을 때 다 그냥 이케 손 한 번씩 다  gs   \n",
       "97                                        아니 잘 안 맞지 닌  gs   \n",
       "98                   진짜 너무 이거 쪼끔 쪼끔 미안하기도 하고 다른 사람들한테  gs   \n",
       "99  바퀴벌레가 방역을 해도 기어나와 가지고 이제는 쪼끔 마음이 쫌 나아지긴 했는데 처음...  gs   \n",
       "\n",
       "                                                  eng  \n",
       "0   So youre not taking that picture there are you...  \n",
       "1                                  If you are at home  \n",
       "2   You're eating and getting drunk, and if you're...  \n",
       "3                             Thats right Ill do that  \n",
       "4   I ot it as I know so I applied for another 100...  \n",
       "..                                                ...  \n",
       "95  Im worried about whether its stable or not bec...  \n",
       "96  When you hit well or did this, you're all just...  \n",
       "97                          No it doesnt fit well you  \n",
       "98                           I'm so sorry about this.  \n",
       "99  I fot it out even if the cockroaches crawled o...  \n",
       "\n",
       "[500 rows x 4 columns]"
      ]
     },
     "execution_count": 49,
     "metadata": {},
     "output_type": "execute_result"
    }
   ],
   "source": [
    "obaek_data"
   ]
  },
  {
   "cell_type": "code",
   "execution_count": 50,
   "id": "8e12b81d",
   "metadata": {},
   "outputs": [
    {
     "name": "stdout",
     "output_type": "stream",
     "text": [
      "<class 'pandas.core.frame.DataFrame'>\n"
     ]
    }
   ],
   "source": [
    "print(type(obaek_data))"
   ]
  },
  {
   "cell_type": "code",
   "execution_count": 51,
   "id": "131a246a",
   "metadata": {},
   "outputs": [
    {
     "name": "stdout",
     "output_type": "stream",
     "text": [
      "['jj' 'cc' 'kw' 'jd' 'gs']\n"
     ]
    }
   ],
   "source": [
    "print(obaek_data['reg'].unique())"
   ]
  },
  {
   "cell_type": "code",
   "execution_count": null,
   "id": "63f988c7",
   "metadata": {},
   "outputs": [],
   "source": [
    "# obaek_data.to_csv(directory_all + 'Test_set_sampling.csv' , index=False)"
   ]
  },
  {
   "cell_type": "code",
   "execution_count": 52,
   "id": "1b41bac9",
   "metadata": {},
   "outputs": [],
   "source": [
    "# obaek_data = pd.DataFrame(columns = df_final_all.columns)\n",
    "# test_set = [jj_df, cc_df, kw_df, jd_df, gs_df]\n",
    "\n",
    "# for i in test_set:"
   ]
  },
  {
   "cell_type": "markdown",
   "id": "59ed0523",
   "metadata": {},
   "source": [
    "1. raw = 전체 통합\n",
    "2. test\n",
    "3. train = raw - test"
   ]
  }
 ],
 "metadata": {
  "kernelspec": {
   "display_name": "Python 3 (ipykernel)",
   "language": "python",
   "name": "python3"
  },
  "language_info": {
   "codemirror_mode": {
    "name": "ipython",
    "version": 3
   },
   "file_extension": ".py",
   "mimetype": "text/x-python",
   "name": "python",
   "nbconvert_exporter": "python",
   "pygments_lexer": "ipython3",
   "version": "3.9.7"
  }
 },
 "nbformat": 4,
 "nbformat_minor": 5
}
