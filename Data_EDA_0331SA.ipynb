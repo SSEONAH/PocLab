{
 "cells": [
  {
   "cell_type": "code",
   "execution_count": 1,
   "id": "90cd9c84",
   "metadata": {
    "scrolled": true
   },
   "outputs": [],
   "source": [
    "import os \n",
    "import pandas as pd \n",
    "import numpy as np \n",
    "import re\n",
    "import tqdm \n",
    "import matplotlib.pyplot as plt\n",
    "import pickle\n",
    "\n",
    "import nltk\n",
    "from nltk import ngrams\n",
    "import seaborn as sns"
   ]
  },
  {
   "cell_type": "code",
   "execution_count": 2,
   "id": "b558ecfb",
   "metadata": {},
   "outputs": [],
   "source": [
    "import matplotlib as mpl\n",
    "import matplotlib.font_manager as fm\n",
    "from collections import Counter\n",
    "import sentencepiece as spm"
   ]
  },
  {
   "cell_type": "code",
   "execution_count": 3,
   "id": "6b513176",
   "metadata": {},
   "outputs": [
    {
     "name": "stdout",
     "output_type": "stream",
     "text": [
      "1.5.3\n"
     ]
    }
   ],
   "source": [
    "print(pd.__version__)"
   ]
  },
  {
   "cell_type": "code",
   "execution_count": 4,
   "id": "da0792e0",
   "metadata": {},
   "outputs": [],
   "source": [
    "directory = os.getenv('HOME') + '/aiffel/aiffelthon'"
   ]
  },
  {
   "cell_type": "code",
   "execution_count": 5,
   "id": "a57bb7fa",
   "metadata": {},
   "outputs": [],
   "source": [
    "df_train = pd.read_csv(directory + '/train_data_0324.csv')\n",
    "df_test = pd.read_csv(directory + '/test_data_0324.csv')\n",
    "# df_test['weight'] = df_test['tok_cat'].apply(lambda x : 14 - x)\n",
    "# df_test = df_test.loc[df_test['tok_cat'] < 6].sample(n=250, weights = 'weight' ,random_state=6) # validation 시간이 너무 오래 걸림, 250개만 사용"
   ]
  },
  {
   "cell_type": "markdown",
   "id": "c3e4f6aa",
   "metadata": {},
   "source": [
    "### import Tokenizer"
   ]
  },
  {
   "cell_type": "code",
   "execution_count": 6,
   "id": "ba1ad375",
   "metadata": {},
   "outputs": [
    {
     "data": {
      "text/plain": [
       "True"
      ]
     },
     "execution_count": 6,
     "metadata": {},
     "output_type": "execute_result"
    }
   ],
   "source": [
    "data_path = os.getenv('HOME') +'/PocLab/Preprocessing'\n",
    "\n",
    "spm_8000 = spm.SentencePieceProcessor()\n",
    "spm_8000.Load(data_path + '/vocab_8000/spm_dec_spm8009.model')\n",
    "\n",
    "msp_8000 = spm.SentencePieceProcessor()\n",
    "msp_8000.Load(data_path + '/vocab_8000/spm_dec_msp8009.model')\n",
    "\n",
    "custom_msp_8000 =  spm.SentencePieceProcessor()\n",
    "custom_msp_8000.Load(data_path + '/vocab_8000/spm_dec_cmsp8009.model')\n",
    "\n"
   ]
  },
  {
   "cell_type": "code",
   "execution_count": 7,
   "id": "76e0a110",
   "metadata": {},
   "outputs": [
    {
     "data": {
      "text/plain": [
       "True"
      ]
     },
     "execution_count": 7,
     "metadata": {},
     "output_type": "execute_result"
    }
   ],
   "source": [
    "data_path = os.getenv('HOME') +'/PocLab/Preprocessing'\n",
    "\n",
    "spm_16000 = spm.SentencePieceProcessor()\n",
    "spm_16000.Load(data_path + '/vocab_16000/spm_dec_cmsp16000.model')\n",
    "\n",
    "msp_16000 = spm.SentencePieceProcessor()\n",
    "msp_16000.Load(data_path + '/vocab_16000/spm_dec_msp16000.model')\n",
    "\n",
    "custom_msp_16000 =  spm.SentencePieceProcessor()\n",
    "custom_msp_16000.Load(data_path + '/vocab_16000/spm_dec_cmsp16000.model')"
   ]
  },
  {
   "cell_type": "code",
   "execution_count": 8,
   "id": "1a5f6478",
   "metadata": {},
   "outputs": [],
   "source": [
    "# 토크나이저 dict 만들기\n",
    "\n",
    "tokenizers_8000 = {'spm' : spm_8000, 'msp' : msp_8000, 'custom_msp' : custom_msp_8000}\n",
    "tokenizers_16000 = {'spm' : spm_16000, 'msp' : msp_16000, 'custom_msp' : custom_msp_16000}"
   ]
  },
  {
   "cell_type": "markdown",
   "id": "a1e21cd2",
   "metadata": {},
   "source": [
    "## unk count\n",
    "- OOV 개수 확인"
   ]
  },
  {
   "cell_type": "markdown",
   "id": "d9401da2",
   "metadata": {},
   "source": [
    "### 8000"
   ]
  },
  {
   "cell_type": "code",
   "execution_count": 9,
   "id": "5c628545",
   "metadata": {},
   "outputs": [
    {
     "name": "stderr",
     "output_type": "stream",
     "text": [
      "100%|██████████| 948219/948219 [00:53<00:00, 17658.21it/s]\n"
     ]
    }
   ],
   "source": [
    "tok_spm= []\n",
    "tok_msp= []\n",
    "tok_coustom = []\n",
    "split_token = set()\n",
    "dial = df_train['dial'].values\n",
    "for i in tqdm.tqdm(dial) :\n",
    "    split_token |= set(i.split())\n",
    "    tok_spm.extend(spm_8000.encode(i))\n",
    "    tok_msp.extend(msp_8000.encode(i))\n",
    "    tok_coustom.extend(custom_msp_8000.encode(i))"
   ]
  },
  {
   "cell_type": "code",
   "execution_count": 10,
   "id": "ebcc3eaa",
   "metadata": {},
   "outputs": [
    {
     "name": "stdout",
     "output_type": "stream",
     "text": [
      "split unk cnt :  750827\n",
      "spm unk cnt :  12226\n",
      "msp unk cnt :  15055\n",
      "custom_msp unk cnt :  14715\n"
     ]
    }
   ],
   "source": [
    "print('split unk cnt : ', 8000 -  len(split_token)*-1)\n",
    "print('spm unk cnt : ', tok_spm.count(spm_8000.unk_id()))\n",
    "print('msp unk cnt : ', tok_msp.count(msp_8000.unk_id()))\n",
    "print('custom_msp unk cnt : ', tok_coustom.count(custom_msp_8000.unk_id()))"
   ]
  },
  {
   "cell_type": "code",
   "execution_count": 14,
   "id": "8b2634ce",
   "metadata": {},
   "outputs": [
    {
     "data": {
      "image/png": "[encoded data removed]",
      "text/plain": [
       "<Figure size 432x288 with 1 Axes>"
      ]
     },
     "metadata": {
      "needs_background": "light"
     },
     "output_type": "display_data"
    }
   ],
   "source": [
    "fig, ax = plt.subplots()\n",
    "bar = ax.bar(x=['split','spm','msp','custom'], height = [750827,tok_spm.count(spm_8000.unk_id()),tok_msp.count(msp_8000.unk_id()),tok_coustom.count(custom_msp_8000.unk_id())])\n",
    "ax.bar_label(bar,fontsize=12)\n",
    "sns.despine()\n",
    "plt.title('8000_data : Unknown token count by tokenizer', fontsize=13)\n",
    "plt.xticks(fontsize=12)\n",
    "plt.yticks(fontsize=12)\n",
    "plt.ylim(0,850000)\n",
    "plt.show()"
   ]
  },
  {
   "cell_type": "markdown",
   "id": "b54ac324",
   "metadata": {},
   "source": [
    "### 16000\n"
   ]
  },
  {
   "cell_type": "code",
   "execution_count": 15,
   "id": "cac6afb4",
   "metadata": {},
   "outputs": [
    {
     "name": "stderr",
     "output_type": "stream",
     "text": [
      "100%|██████████| 948219/948219 [00:02<00:00, 432635.18it/s]\n"
     ]
    }
   ],
   "source": [
    "split_token = set()\n",
    "dial = df_train['dial'].values\n",
    "for i in tqdm.tqdm(dial) :\n",
    "    split_token |= set(i.split())"
   ]
  },
  {
   "cell_type": "code",
   "execution_count": 16,
   "id": "d11403e8",
   "metadata": {},
   "outputs": [
    {
     "name": "stderr",
     "output_type": "stream",
     "text": [
      "100%|██████████| 948219/948219 [00:49<00:00, 19215.92it/s]\n"
     ]
    }
   ],
   "source": [
    "tok_spm= []\n",
    "tok_msp= []\n",
    "tok_coustom = []\n",
    "dial = df_train['dial'].values\n",
    "for i in tqdm.tqdm(dial) :\n",
    "    tok_spm.extend(spm_16000.encode(i))\n",
    "    tok_msp.extend(msp_16000.encode(i))\n",
    "    tok_coustom.extend(custom_msp_16000.encode(i))"
   ]
  },
  {
   "cell_type": "code",
   "execution_count": 18,
   "id": "7a2ef7f3",
   "metadata": {},
   "outputs": [
    {
     "name": "stdout",
     "output_type": "stream",
     "text": [
      "split unk cnt :  758827\n",
      "spm unk cnt :  14715\n",
      "msp unk cnt :  15055\n",
      "custom_msp unk cnt :  14715\n"
     ]
    }
   ],
   "source": [
    "print('split unk cnt : ', 16000 -  len(split_token)*-1)\n",
    "print('spm unk cnt : ', tok_spm.count(spm_16000.unk_id()))\n",
    "print('msp unk cnt : ', tok_msp.count(msp_16000.unk_id()))\n",
    "print('custom_msp unk cnt : ', tok_coustom.count(custom_msp_16000.unk_id()))"
   ]
  },
  {
   "cell_type": "code",
   "execution_count": 20,
   "id": "5c39aa69",
   "metadata": {},
   "outputs": [
    {
     "data": {
      "image/png": "[encoded data removed]",
      "text/plain": [
       "<Figure size 432x288 with 1 Axes>"
      ]
     },
     "metadata": {
      "needs_background": "light"
     },
     "output_type": "display_data"
    }
   ],
   "source": [
    "fig, ax = plt.subplots()\n",
    "bar = ax.bar(x=['split','spm','msp','custom'], height = [758827,tok_spm.count(spm_16000.unk_id()),tok_msp.count(msp_16000.unk_id()),tok_coustom.count(custom_msp_16000.unk_id())])\n",
    "ax.bar_label(bar,fontsize=12)\n",
    "sns.despine()\n",
    "plt.title('16000_data : Unknown token count by tokenizer',fontsize=13) \n",
    "plt.xticks(fontsize=12)\n",
    "plt.yticks(fontsize=12)\n",
    "plt.ylim(0,850000)\n",
    "plt.show()"
   ]
  },
  {
   "cell_type": "markdown",
   "id": "df951527",
   "metadata": {},
   "source": [
    "## 요약 \n",
    "- 8000data oov 개수 \n",
    "    - msp, custom msp 동일 ( 각 15055 , 14715 ) \n",
    "    - split 750827 > 758827 로 증가 \n",
    "    - spm 12226 > 14715 증가 "
   ]
  },
  {
   "cell_type": "markdown",
   "id": "9dbdeab2",
   "metadata": {},
   "source": [
    "### subword fertility\n",
    "- 토큰화된 단어마다 생성되는 부분단어의 평균 개수"
   ]
  },
  {
   "cell_type": "code",
   "execution_count": 21,
   "id": "c11dae1e",
   "metadata": {},
   "outputs": [
    {
     "name": "stderr",
     "output_type": "stream",
     "text": [
      "100%|██████████| 948219/948219 [00:49<00:00, 19312.95it/s]\n"
     ]
    }
   ],
   "source": [
    "# 8000_data\n",
    "\n",
    "tok_spm= []\n",
    "tok_msp= []\n",
    "tok_custom= []\n",
    "dial = df_train['dial'].values\n",
    "for i in tqdm.tqdm(dial) :\n",
    "    #split by empty space\n",
    "    tok_spm_len_split = len(i.split())\n",
    "    \n",
    "    #split by tokenzier\n",
    "    tok_spm_len = len(spm_8000.encode(i))\n",
    "    tok_msp_len = len(msp_8000.encode(i))\n",
    "    tok_custom_len = len(custom_msp_8000.encode(i))\n",
    "    \n",
    "    # find percentage of subword split\n",
    "    tok_spm.append(tok_spm_len / tok_spm_len_split )\n",
    "    tok_msp.append(tok_msp_len / tok_spm_len_split)\n",
    "    tok_custom.append(tok_custom_len / tok_spm_len_split)    "
   ]
  },
  {
   "cell_type": "code",
   "execution_count": 22,
   "id": "28fd5367",
   "metadata": {},
   "outputs": [
    {
     "name": "stdout",
     "output_type": "stream",
     "text": [
      "spm subword fertility : 1.7330845280521454\n",
      "msp subword fertility : 2.0786015144762375\n",
      "custom_msp subword fertility : 1.9454232228041808\n"
     ]
    }
   ],
   "source": [
    "print('spm subword fertility :',sum(tok_spm)/len(tok_spm))\n",
    "print('msp subword fertility :',sum(tok_msp)/len(tok_msp))\n",
    "print('custom_msp subword fertility :',sum(tok_custom)/len(tok_custom))"
   ]
  },
  {
   "cell_type": "code",
   "execution_count": 25,
   "id": "3dd55176",
   "metadata": {},
   "outputs": [
    {
     "data": {
      "image/png": "[encoded data removed]",
      "text/plain": [
       "<Figure size 432x288 with 1 Axes>"
      ]
     },
     "metadata": {
      "needs_background": "light"
     },
     "output_type": "display_data"
    }
   ],
   "source": [
    "fig, ax = plt.subplots()\n",
    "bar = ax.bar(x=['spm','msp','custom_msp'], height = [round(sum(tok_spm)/len(tok_spm),2),round(sum(tok_msp)/len(tok_msp),2),round(sum(tok_custom)/len(tok_custom),2)])\n",
    "ax.bar_label(bar,fontsize=12)\n",
    "sns.despine()\n",
    "plt.title('8000_data subword fertility by tokenizer', fontsize=13)\n",
    "plt.xticks(fontsize=12)\n",
    "plt.yticks(fontsize=12)\n",
    "plt.ylim(0,2.5)\n",
    "plt.show()"
   ]
  },
  {
   "cell_type": "code",
   "execution_count": 26,
   "id": "909de05d",
   "metadata": {},
   "outputs": [
    {
     "name": "stderr",
     "output_type": "stream",
     "text": [
      "100%|██████████| 948219/948219 [00:49<00:00, 19194.32it/s]\n"
     ]
    }
   ],
   "source": [
    "# 16000_data\n",
    "\n",
    "tok_spm= []\n",
    "tok_msp= []\n",
    "tok_custom= []\n",
    "dial = df_train['dial'].values\n",
    "for i in tqdm.tqdm(dial) :\n",
    "    #split by empty space\n",
    "    tok_spm_len_split = len(i.split())\n",
    "    \n",
    "    #split by tokenzier\n",
    "    tok_spm_len = len(spm_16000.encode(i))\n",
    "    tok_msp_len = len(msp_16000.encode(i))\n",
    "    tok_custom_len = len(custom_msp_16000.encode(i))\n",
    "    \n",
    "    # find percentage of subword split\n",
    "    tok_spm.append(tok_spm_len / tok_spm_len_split )\n",
    "    tok_msp.append(tok_msp_len / tok_spm_len_split)\n",
    "    tok_custom.append(tok_custom_len / tok_spm_len_split)    "
   ]
  },
  {
   "cell_type": "code",
   "execution_count": 27,
   "id": "2bf158a2",
   "metadata": {},
   "outputs": [
    {
     "name": "stdout",
     "output_type": "stream",
     "text": [
      "spm subword fertility : 1.784230129181664\n",
      "msp subword fertility : 1.9611424670843276\n",
      "custom_msp subword fertility : 1.784230129181664\n"
     ]
    }
   ],
   "source": [
    "print('spm subword fertility :',sum(tok_spm)/len(tok_spm))\n",
    "print('msp subword fertility :',sum(tok_msp)/len(tok_msp))\n",
    "print('custom_msp subword fertility :',sum(tok_custom)/len(tok_custom))"
   ]
  },
  {
   "cell_type": "code",
   "execution_count": 29,
   "id": "b7552457",
   "metadata": {},
   "outputs": [
    {
     "data": {
      "image/png": "[encoded data removed]",
      "text/plain": [
       "<Figure size 432x288 with 1 Axes>"
      ]
     },
     "metadata": {
      "needs_background": "light"
     },
     "output_type": "display_data"
    }
   ],
   "source": [
    "fig, ax = plt.subplots()\n",
    "bar = ax.bar(x=['spm','msp','custom_msp'], height = [round(sum(tok_spm)/len(tok_spm),2),round(sum(tok_msp)/len(tok_msp),2),round(sum(tok_custom)/len(tok_custom),2)])\n",
    "ax.bar_label(bar,fontsize=12)\n",
    "sns.despine()\n",
    "plt.title('16000_data subword fertility by tokenizer', fontsize=13)\n",
    "plt.xticks(fontsize=12)\n",
    "plt.yticks(fontsize=12)\n",
    "plt.ylim(0,2.5)\n",
    "plt.show()"
   ]
  },
  {
   "cell_type": "markdown",
   "id": "b9a5a4fb",
   "metadata": {},
   "source": [
    "## 요약 \n",
    "- 8000 > 16000\n",
    "    - spm만 0.05% 소폭 상승 \n",
    "    - msp , custom_msp는 감소 "
   ]
  },
  {
   "cell_type": "markdown",
   "id": "ac015851",
   "metadata": {},
   "source": [
    "### proportion of continued words\n",
    "- 말뭉치에서 적어도 두 개의 부분 토큰으로 분할된 토큰화된 단어의 비율 "
   ]
  },
  {
   "cell_type": "code",
   "execution_count": 40,
   "id": "7549aa1b",
   "metadata": {},
   "outputs": [
    {
     "name": "stderr",
     "output_type": "stream",
     "text": [
      "100%|██████████| 948219/948219 [01:07<00:00, 14137.86it/s]\n"
     ]
    }
   ],
   "source": [
    "# 8000_data\n",
    "\n",
    "tok_spm= []\n",
    "tok_msp= []\n",
    "tok_split = []\n",
    "tok_custom= []\n",
    "dial = df_train['dial'].values\n",
    "for i in tqdm.tqdm(dial) :\n",
    "    total_cnt = 0\n",
    "    spm_temp = 0\n",
    "    msp_temp = 0\n",
    "    custom_temp = 0    \n",
    "    for k in i.split() :\n",
    "        if k == ' ' or k ==  '\\u200b' or k =='\\x9f':\n",
    "            continue\n",
    "        total_cnt += 1\n",
    "        word_spm = spm_8000.encode_as_pieces(k)\n",
    "        word_msp = msp_8000.encode_as_pieces(k)\n",
    "        word_custom = custom_msp_8000.encode_as_pieces(k)        \n",
    "        \n",
    "        if word_spm[0] == '▁' :\n",
    "            word_spm.remove('▁')\n",
    "            \n",
    "        if word_msp[0] == '▁' :\n",
    "            word_msp.remove('▁')\n",
    "            \n",
    "        if word_custom[0] == '▁' :\n",
    "            word_custom.remove('▁')\n",
    "            \n",
    "        if len(word_spm) > 1 : spm_temp+=1\n",
    "        if len(word_msp) > 1 : msp_temp+=1\n",
    "        if len(word_custom) > 1 : custom_temp+=1            \n",
    "                        \n",
    "    tok_spm.append(spm_temp)\n",
    "    tok_msp.append(msp_temp)\n",
    "    tok_split.append(total_cnt)\n",
    "    tok_custom.append(custom_temp)    "
   ]
  },
  {
   "cell_type": "code",
   "execution_count": 41,
   "id": "7d609fda",
   "metadata": {},
   "outputs": [
    {
     "name": "stdout",
     "output_type": "stream",
     "text": [
      "spm proportion of continued words : 41.42488511139195\n",
      "msp proportion of continued words : 58.19201897129543\n",
      "custom_msp proportion of continued words : 53.84054996010769\n"
     ]
    }
   ],
   "source": [
    "print('spm proportion of continued words :',sum(tok_spm)/sum(tok_split) * 100)\n",
    "print('msp proportion of continued words :',sum(tok_msp)/sum(tok_split) * 100)\n",
    "print('custom_msp proportion of continued words :',sum(tok_custom)/sum(tok_split) * 100)"
   ]
  },
  {
   "cell_type": "code",
   "execution_count": 44,
   "id": "13639e2f",
   "metadata": {},
   "outputs": [
    {
     "data": {
      "image/png": "[encoded data removed]",
      "text/plain": [
       "<Figure size 432x288 with 1 Axes>"
      ]
     },
     "metadata": {
      "needs_background": "light"
     },
     "output_type": "display_data"
    }
   ],
   "source": [
    "fig, ax = plt.subplots()\n",
    "bar = ax.bar(x=['spm','msp','custom_msp'], height = [round(sum(tok_spm)/sum(tok_split) * 100,2),round(sum(tok_msp)/sum(tok_split) * 100,2),round(sum(tok_custom)/sum(tok_split) * 100,2)])\n",
    "ax.bar_label(bar,fontsize=12)\n",
    "sns.despine()\n",
    "plt.title('8000_data : proportion of continued words by tokenizer', fontsize=13)\n",
    "plt.xticks(fontsize=12)\n",
    "plt.yticks(fontsize=12)\n",
    "plt.ylim(0,65)\n",
    "plt.show()"
   ]
  },
  {
   "cell_type": "code",
   "execution_count": 45,
   "id": "22cdf1f1",
   "metadata": {},
   "outputs": [
    {
     "name": "stderr",
     "output_type": "stream",
     "text": [
      "100%|██████████| 948219/948219 [01:07<00:00, 14116.00it/s]\n"
     ]
    }
   ],
   "source": [
    "# 16000_data\n",
    "\n",
    "tok_spm= []\n",
    "tok_msp= []\n",
    "tok_split = []\n",
    "tok_custom= []\n",
    "dial = df_train['dial'].values\n",
    "for i in tqdm.tqdm(dial) :\n",
    "    total_cnt = 0\n",
    "    spm_temp = 0\n",
    "    msp_temp = 0\n",
    "    custom_temp = 0    \n",
    "    for k in i.split() :\n",
    "        if k == ' ' or k ==  '\\u200b' or k =='\\x9f':\n",
    "            continue\n",
    "        total_cnt += 1\n",
    "        word_spm = spm_16000.encode_as_pieces(k)\n",
    "        word_msp = msp_16000.encode_as_pieces(k)\n",
    "        word_custom = custom_msp_16000.encode_as_pieces(k)        \n",
    "        \n",
    "        if word_spm[0] == '▁' :\n",
    "            word_spm.remove('▁')\n",
    "            \n",
    "        if word_msp[0] == '▁' :\n",
    "            word_msp.remove('▁')\n",
    "            \n",
    "        if word_custom[0] == '▁' :\n",
    "            word_custom.remove('▁')\n",
    "            \n",
    "        if len(word_spm) > 1 : spm_temp+=1\n",
    "        if len(word_msp) > 1 : msp_temp+=1\n",
    "        if len(word_custom) > 1 : custom_temp+=1            \n",
    "                        \n",
    "    tok_spm.append(spm_temp)\n",
    "    tok_msp.append(msp_temp)\n",
    "    tok_split.append(total_cnt)\n",
    "    tok_custom.append(custom_temp)    "
   ]
  },
  {
   "cell_type": "code",
   "execution_count": 46,
   "id": "4716c44f",
   "metadata": {},
   "outputs": [
    {
     "name": "stdout",
     "output_type": "stream",
     "text": [
      "spm proportion of continued words : 49.00529938547085\n",
      "msp proportion of continued words : 55.49070088287387\n",
      "custom_msp proportion of continued words : 49.00529938547085\n"
     ]
    }
   ],
   "source": [
    "print('spm proportion of continued words :',sum(tok_spm)/sum(tok_split) * 100)\n",
    "print('msp proportion of continued words :',sum(tok_msp)/sum(tok_split) * 100)\n",
    "print('custom_msp proportion of continued words :',sum(tok_custom)/sum(tok_split) * 100)"
   ]
  },
  {
   "cell_type": "code",
   "execution_count": 47,
   "id": "68948a43",
   "metadata": {
    "scrolled": true
   },
   "outputs": [
    {
     "data": {
      "image/png": "[encoded data removed]",
      "text/plain": [
       "<Figure size 432x288 with 1 Axes>"
      ]
     },
     "metadata": {
      "needs_background": "light"
     },
     "output_type": "display_data"
    }
   ],
   "source": [
    "fig, ax = plt.subplots()\n",
    "bar = ax.bar(x=['spm','msp','custom_msp'], height = [round(sum(tok_spm)/sum(tok_split) * 100,2),round(sum(tok_msp)/sum(tok_split) * 100,2),round(sum(tok_custom)/sum(tok_split) * 100,2)])\n",
    "ax.bar_label(bar,fontsize=12)\n",
    "sns.despine()\n",
    "plt.title('16000_data : proportion of continued words by tokenizer', fontsize=13)\n",
    "plt.xticks(fontsize=12)\n",
    "plt.yticks(fontsize=12)\n",
    "plt.ylim(0,65)\n",
    "plt.show()"
   ]
  },
  {
   "cell_type": "markdown",
   "id": "f6c5b667",
   "metadata": {},
   "source": [
    "### proportion of continued words 요약\n",
    "- 8000 > 16000\n",
    "    - spm , custom_msp는 8000과 16000 비율 동일하게 증가  \n",
    "    - msp 52.48 > 55.49 증가 "
   ]
  },
  {
   "cell_type": "code",
   "execution_count": null,
   "id": "de3743ef",
   "metadata": {},
   "outputs": [],
   "source": []
  }
 ],
 "metadata": {
  "kernelspec": {
   "display_name": "Python 3 (ipykernel)",
   "language": "python",
   "name": "python3"
  },
  "language_info": {
   "codemirror_mode": {
    "name": "ipython",
    "version": 3
   },
   "file_extension": ".py",
   "mimetype": "text/x-python",
   "name": "python",
   "nbconvert_exporter": "python",
   "pygments_lexer": "ipython3",
   "version": "3.9.7"
  }
 },
 "nbformat": 4,
 "nbformat_minor": 5
}
