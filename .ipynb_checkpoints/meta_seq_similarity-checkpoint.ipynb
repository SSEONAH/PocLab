{
 "cells": [
  {
   "cell_type": "code",
   "execution_count": 1,
   "id": "a85e5f5c",
   "metadata": {},
   "outputs": [],
   "source": [
    "import os \n",
    "import pandas as pd"
   ]
  },
  {
   "cell_type": "code",
   "execution_count": 2,
   "id": "f0a41c89",
   "metadata": {},
   "outputs": [],
   "source": [
    "directory = os.getenv('HOME') + '/aiffel/aiffelthon/'"
   ]
  },
  {
   "cell_type": "code",
   "execution_count": 3,
   "id": "78af4399",
   "metadata": {},
   "outputs": [
    {
     "name": "stderr",
     "output_type": "stream",
     "text": [
      "/opt/conda/lib/python3.9/site-packages/IPython/core/interactiveshell.py:3444: DtypeWarning: Columns (6,12) have mixed types.Specify dtype option on import or set low_memory=False.\n",
      "  exec(code_obj, self.user_global_ns, self.user_ns)\n"
     ]
    }
   ],
   "source": [
    "df = pd.read_csv(directory + 'meta_eng_raw_0306_v1.csv')"
   ]
  },
  {
   "cell_type": "code",
   "execution_count": 4,
   "id": "906e42f7",
   "metadata": {},
   "outputs": [],
   "source": [
    "df_copy = df.copy()"
   ]
  },
  {
   "cell_type": "code",
   "execution_count": 5,
   "id": "7ae6befc",
   "metadata": {},
   "outputs": [
    {
     "data": {
      "text/html": [
       "<div>\n",
       "<style scoped>\n",
       "    .dataframe tbody tr th:only-of-type {\n",
       "        vertical-align: middle;\n",
       "    }\n",
       "\n",
       "    .dataframe tbody tr th {\n",
       "        vertical-align: top;\n",
       "    }\n",
       "\n",
       "    .dataframe thead th {\n",
       "        text-align: right;\n",
       "    }\n",
       "</style>\n",
       "<table border=\"1\" class=\"dataframe\">\n",
       "  <thead>\n",
       "    <tr style=\"text-align: right;\">\n",
       "      <th></th>\n",
       "      <th>text</th>\n",
       "      <th>dial</th>\n",
       "      <th>eng</th>\n",
       "      <th>title</th>\n",
       "      <th>creator</th>\n",
       "      <th>distributor</th>\n",
       "      <th>year</th>\n",
       "      <th>category</th>\n",
       "      <th>annotation_level</th>\n",
       "      <th>sampling</th>\n",
       "      <th>...</th>\n",
       "      <th>sex</th>\n",
       "      <th>prin_res</th>\n",
       "      <th>curr_res</th>\n",
       "      <th>age2</th>\n",
       "      <th>sex2</th>\n",
       "      <th>prin_res2</th>\n",
       "      <th>curr_res2</th>\n",
       "      <th>stdn</th>\n",
       "      <th>eojeol_stdn</th>\n",
       "      <th>reg</th>\n",
       "    </tr>\n",
       "  </thead>\n",
       "  <tbody>\n",
       "    <tr>\n",
       "      <th>0</th>\n",
       "      <td>생각이 쪼금씩 바뀌더라고</td>\n",
       "      <td>생각이 쪼금씩 바뀌드라고</td>\n",
       "      <td>I've changed my mind a little bit.</td>\n",
       "      <td>DJSX20003625</td>\n",
       "      <td>솔트룩스</td>\n",
       "      <td>솔트룩스</td>\n",
       "      <td>2020.0</td>\n",
       "      <td>전라방언 &gt; 사적 대화 &gt; 일상 대화</td>\n",
       "      <td>['원시']</td>\n",
       "      <td>본문 전체</td>\n",
       "      <td>...</td>\n",
       "      <td>남성</td>\n",
       "      <td>광주</td>\n",
       "      <td>광주</td>\n",
       "      <td>40대</td>\n",
       "      <td>남성</td>\n",
       "      <td>광주</td>\n",
       "      <td>전남</td>\n",
       "      <td>생각이 쪼금씩 바뀌더라고</td>\n",
       "      <td>[['(바뀌드라고)/(바뀌더라고)']]</td>\n",
       "      <td>jd</td>\n",
       "    </tr>\n",
       "    <tr>\n",
       "      <th>1</th>\n",
       "      <td>어 알겠는가 외국인들이 그래도 잘 적응하고</td>\n",
       "      <td>어 알겄는가 외국인들이 그래도 잘 적응하고</td>\n",
       "      <td>You know what? Foreigners still get used to it.</td>\n",
       "      <td>DJSX20004230</td>\n",
       "      <td>솔트룩스</td>\n",
       "      <td>솔트룩스</td>\n",
       "      <td>2020.0</td>\n",
       "      <td>전라방언 &gt; 사적대화 &gt; 일상대화</td>\n",
       "      <td>['원시']</td>\n",
       "      <td>본문 전체</td>\n",
       "      <td>...</td>\n",
       "      <td>여성</td>\n",
       "      <td>전남</td>\n",
       "      <td>광주</td>\n",
       "      <td>50대</td>\n",
       "      <td>여성</td>\n",
       "      <td>광주</td>\n",
       "      <td>광주</td>\n",
       "      <td>어 알겠는가 외국인들이 그래도 잘 적응하고</td>\n",
       "      <td>[['(알겄는가)/(알겠는가)']]</td>\n",
       "      <td>jd</td>\n",
       "    </tr>\n",
       "    <tr>\n",
       "      <th>2</th>\n",
       "      <td>아으 갑자기 예전에 맹장 뜯은 게 생각난다.</td>\n",
       "      <td>아으 갑자기 예전에 맹장 뜯은 게 생각난디야.</td>\n",
       "      <td>All of a sudden, I think I've ripped off my ap...</td>\n",
       "      <td>전라방언 AI 학습데이터 DJDG20001138</td>\n",
       "      <td>솔트룩스</td>\n",
       "      <td>솔트룩스</td>\n",
       "      <td>2020.0</td>\n",
       "      <td>전라방언 &gt; 사적 대화 &gt; 일상 대화</td>\n",
       "      <td>['원시']</td>\n",
       "      <td>본문 전체</td>\n",
       "      <td>...</td>\n",
       "      <td>여성</td>\n",
       "      <td>광주</td>\n",
       "      <td>전북</td>\n",
       "      <td>20대</td>\n",
       "      <td>여성</td>\n",
       "      <td>전북</td>\n",
       "      <td>전북</td>\n",
       "      <td>아으 갑자기 예전에 맹장 뜯은 게 생각난다.</td>\n",
       "      <td>[['(생각난디야.)/(생각난다.)']]</td>\n",
       "      <td>jd</td>\n",
       "    </tr>\n",
       "    <tr>\n",
       "      <th>3</th>\n",
       "      <td>보면은 조금 품위 있게 나이 들어가야 되겠단 생각을 참 많이 해요.</td>\n",
       "      <td>보면은 쫌 품위 있게 나이 들어가야 되겠단 생각을 참 많이 해요.</td>\n",
       "      <td>I have a lot of ideas about getting older in a...</td>\n",
       "      <td>전라방언 AI 학습데이터 DJDG20001095</td>\n",
       "      <td>솔트룩스</td>\n",
       "      <td>솔트룩스</td>\n",
       "      <td>2020.0</td>\n",
       "      <td>전라방언 &gt; 사적 대화 &gt; 일상 대화</td>\n",
       "      <td>['원시']</td>\n",
       "      <td>본문 전체</td>\n",
       "      <td>...</td>\n",
       "      <td>여성</td>\n",
       "      <td>전북</td>\n",
       "      <td>전북</td>\n",
       "      <td>50대</td>\n",
       "      <td>여성</td>\n",
       "      <td>전북</td>\n",
       "      <td>경기</td>\n",
       "      <td>보면은 조금 품위 있게 나이 들어가야 되겠단 생각을 참 많이 해요.</td>\n",
       "      <td>[['(쫌)/(조금)']]</td>\n",
       "      <td>jd</td>\n",
       "    </tr>\n",
       "    <tr>\n",
       "      <th>4</th>\n",
       "      <td>약간 조금 약간 맛이 쪼끔 거시기 하긴 한데 그래도</td>\n",
       "      <td>약간 쫌 약간 맛이 쪼끔 거시기 하긴 한데 그래도</td>\n",
       "      <td>It's a little bit of a tastey, but still...</td>\n",
       "      <td>전라방언 AI 학습데이터 DJDG20001507</td>\n",
       "      <td>솔트룩스</td>\n",
       "      <td>솔트룩스</td>\n",
       "      <td>2020.0</td>\n",
       "      <td>전라방언 &gt; 사적 대화 &gt; 일상 대화</td>\n",
       "      <td>['원시']</td>\n",
       "      <td>본문 전체</td>\n",
       "      <td>...</td>\n",
       "      <td>남성</td>\n",
       "      <td>전북</td>\n",
       "      <td>전북</td>\n",
       "      <td>20대</td>\n",
       "      <td>남성</td>\n",
       "      <td>전북</td>\n",
       "      <td>전북</td>\n",
       "      <td>약간 조금 약간 맛이 쪼끔 거시기 하긴 한데 그래도</td>\n",
       "      <td>[['(쫌)/(조금)']]</td>\n",
       "      <td>jd</td>\n",
       "    </tr>\n",
       "  </tbody>\n",
       "</table>\n",
       "<p>5 rows × 25 columns</p>\n",
       "</div>"
      ],
      "text/plain": [
       "                                    text  \\\n",
       "0                          생각이 쪼금씩 바뀌더라고   \n",
       "1                어 알겠는가 외국인들이 그래도 잘 적응하고   \n",
       "2               아으 갑자기 예전에 맹장 뜯은 게 생각난다.   \n",
       "3  보면은 조금 품위 있게 나이 들어가야 되겠단 생각을 참 많이 해요.   \n",
       "4           약간 조금 약간 맛이 쪼끔 거시기 하긴 한데 그래도   \n",
       "\n",
       "                                   dial  \\\n",
       "0                         생각이 쪼금씩 바뀌드라고   \n",
       "1               어 알겄는가 외국인들이 그래도 잘 적응하고   \n",
       "2             아으 갑자기 예전에 맹장 뜯은 게 생각난디야.   \n",
       "3  보면은 쫌 품위 있게 나이 들어가야 되겠단 생각을 참 많이 해요.   \n",
       "4           약간 쫌 약간 맛이 쪼끔 거시기 하긴 한데 그래도   \n",
       "\n",
       "                                                 eng  \\\n",
       "0                 I've changed my mind a little bit.   \n",
       "1    You know what? Foreigners still get used to it.   \n",
       "2  All of a sudden, I think I've ripped off my ap...   \n",
       "3  I have a lot of ideas about getting older in a...   \n",
       "4        It's a little bit of a tastey, but still...   \n",
       "\n",
       "                        title creator distributor    year  \\\n",
       "0                DJSX20003625    솔트룩스        솔트룩스  2020.0   \n",
       "1                DJSX20004230    솔트룩스        솔트룩스  2020.0   \n",
       "2  전라방언 AI 학습데이터 DJDG20001138    솔트룩스        솔트룩스  2020.0   \n",
       "3  전라방언 AI 학습데이터 DJDG20001095    솔트룩스        솔트룩스  2020.0   \n",
       "4  전라방언 AI 학습데이터 DJDG20001507    솔트룩스        솔트룩스  2020.0   \n",
       "\n",
       "               category annotation_level sampling  ... sex prin_res curr_res  \\\n",
       "0  전라방언 > 사적 대화 > 일상 대화           ['원시']    본문 전체  ...  남성       광주       광주   \n",
       "1    전라방언 > 사적대화 > 일상대화           ['원시']    본문 전체  ...  여성       전남       광주   \n",
       "2  전라방언 > 사적 대화 > 일상 대화           ['원시']    본문 전체  ...  여성       광주       전북   \n",
       "3  전라방언 > 사적 대화 > 일상 대화           ['원시']    본문 전체  ...  여성       전북       전북   \n",
       "4  전라방언 > 사적 대화 > 일상 대화           ['원시']    본문 전체  ...  남성       전북       전북   \n",
       "\n",
       "  age2 sex2 prin_res2 curr_res2                                   stdn  \\\n",
       "0  40대   남성        광주        전남                          생각이 쪼금씩 바뀌더라고   \n",
       "1  50대   여성        광주        광주                어 알겠는가 외국인들이 그래도 잘 적응하고   \n",
       "2  20대   여성        전북        전북               아으 갑자기 예전에 맹장 뜯은 게 생각난다.   \n",
       "3  50대   여성        전북        경기  보면은 조금 품위 있게 나이 들어가야 되겠단 생각을 참 많이 해요.   \n",
       "4  20대   남성        전북        전북           약간 조금 약간 맛이 쪼끔 거시기 하긴 한데 그래도   \n",
       "\n",
       "              eojeol_stdn reg  \n",
       "0   [['(바뀌드라고)/(바뀌더라고)']]  jd  \n",
       "1     [['(알겄는가)/(알겠는가)']]  jd  \n",
       "2  [['(생각난디야.)/(생각난다.)']]  jd  \n",
       "3          [['(쫌)/(조금)']]  jd  \n",
       "4          [['(쫌)/(조금)']]  jd  \n",
       "\n",
       "[5 rows x 25 columns]"
      ]
     },
     "execution_count": 5,
     "metadata": {},
     "output_type": "execute_result"
    }
   ],
   "source": [
    "df.head()"
   ]
  },
  {
   "cell_type": "code",
   "execution_count": 6,
   "id": "cd6039a2",
   "metadata": {},
   "outputs": [
    {
     "name": "stdout",
     "output_type": "stream",
     "text": [
      "<class 'pandas.core.frame.DataFrame'>\n",
      "RangeIndex: 949888 entries, 0 to 949887\n",
      "Data columns (total 25 columns):\n",
      " #   Column            Non-Null Count   Dtype \n",
      "---  ------            --------------   ----- \n",
      " 0   text              949888 non-null  object\n",
      " 1   dial              949888 non-null  object\n",
      " 2   eng               949888 non-null  object\n",
      " 3   title             949888 non-null  object\n",
      " 4   creator           949888 non-null  object\n",
      " 5   distributor       949706 non-null  object\n",
      " 6   year              949888 non-null  object\n",
      " 7   category          949706 non-null  object\n",
      " 8   annotation_level  949888 non-null  object\n",
      " 9   sampling          949417 non-null  object\n",
      " 10  author            925576 non-null  object\n",
      " 11  publisher         925576 non-null  object\n",
      " 12  date              949888 non-null  object\n",
      " 13  topic             949888 non-null  object\n",
      " 14  age               949888 non-null  object\n",
      " 15  sex               949888 non-null  object\n",
      " 16  prin_res          949888 non-null  object\n",
      " 17  curr_res          949888 non-null  object\n",
      " 18  age2              659954 non-null  object\n",
      " 19  sex2              659954 non-null  object\n",
      " 20  prin_res2         659954 non-null  object\n",
      " 21  curr_res2         659954 non-null  object\n",
      " 22  stdn              949888 non-null  object\n",
      " 23  eojeol_stdn       949888 non-null  object\n",
      " 24  reg               949888 non-null  object\n",
      "dtypes: object(25)\n",
      "memory usage: 181.2+ MB\n"
     ]
    }
   ],
   "source": [
    "df.info()"
   ]
  },
  {
   "cell_type": "code",
   "execution_count": 7,
   "id": "8fdadc19",
   "metadata": {},
   "outputs": [
    {
     "data": {
      "text/plain": [
       "kw    345244\n",
       "jj    203349\n",
       "jd    174833\n",
       "gs    114787\n",
       "cc    111675\n",
       "Name: reg, dtype: int64"
      ]
     },
     "execution_count": 7,
     "metadata": {},
     "output_type": "execute_result"
    }
   ],
   "source": [
    "df.reg.value_counts()"
   ]
  },
  {
   "cell_type": "code",
   "execution_count": 8,
   "id": "ac91f1b0",
   "metadata": {},
   "outputs": [],
   "source": [
    "model_ckpt3 ='ddobokki/klue-roberta-small-nli-sts'\n",
    "gpt_ckpt = 'skt/kogpt2-base-v2'"
   ]
  },
  {
   "cell_type": "code",
   "execution_count": 10,
   "id": "c6b6505f",
   "metadata": {},
   "outputs": [],
   "source": [
    "# ! pip install sentence_transformers"
   ]
  },
  {
   "cell_type": "code",
   "execution_count": 11,
   "id": "05a35f50",
   "metadata": {},
   "outputs": [
    {
     "data": {
      "application/vnd.jupyter.widget-view+json": {
       "model_id": "9f9bccc9631d4ac08df459a9a366cb23",
       "version_major": 2,
       "version_minor": 0
      },
      "text/plain": [
       "Downloading (…)a9eb0/.gitattributes:   0%|          | 0.00/1.35k [00:00<?, ?B/s]"
      ]
     },
     "metadata": {},
     "output_type": "display_data"
    },
    {
     "data": {
      "application/vnd.jupyter.widget-view+json": {
       "model_id": "38974f80c6f64395806ff953021d1866",
       "version_major": 2,
       "version_minor": 0
      },
      "text/plain": [
       "Downloading (…)_Pooling/config.json:   0%|          | 0.00/190 [00:00<?, ?B/s]"
      ]
     },
     "metadata": {},
     "output_type": "display_data"
    },
    {
     "data": {
      "application/vnd.jupyter.widget-view+json": {
       "model_id": "5a578814e8bd47f7a6fff19c3f4e4d2d",
       "version_major": 2,
       "version_minor": 0
      },
      "text/plain": [
       "Downloading (…)998eaa9eb0/README.md:   0%|          | 0.00/2.95k [00:00<?, ?B/s]"
      ]
     },
     "metadata": {},
     "output_type": "display_data"
    },
    {
     "data": {
      "application/vnd.jupyter.widget-view+json": {
       "model_id": "d817db65c21947fa96edfbf639132891",
       "version_major": 2,
       "version_minor": 0
      },
      "text/plain": [
       "Downloading (…)8eaa9eb0/config.json:   0%|          | 0.00/778 [00:00<?, ?B/s]"
      ]
     },
     "metadata": {},
     "output_type": "display_data"
    },
    {
     "data": {
      "application/vnd.jupyter.widget-view+json": {
       "model_id": "2eaa1f8088e64df49ed16f482b238a3f",
       "version_major": 2,
       "version_minor": 0
      },
      "text/plain": [
       "Downloading (…)ce_transformers.json:   0%|          | 0.00/124 [00:00<?, ?B/s]"
      ]
     },
     "metadata": {},
     "output_type": "display_data"
    },
    {
     "data": {
      "application/vnd.jupyter.widget-view+json": {
       "model_id": "c0973ba9cd464d8ebccb27cb5ff8a687",
       "version_major": 2,
       "version_minor": 0
      },
      "text/plain": [
       "Downloading pytorch_model.bin:   0%|          | 0.00/272M [00:00<?, ?B/s]"
      ]
     },
     "metadata": {},
     "output_type": "display_data"
    },
    {
     "data": {
      "application/vnd.jupyter.widget-view+json": {
       "model_id": "af4f31e2365a40dfb0e196991b9a0e49",
       "version_major": 2,
       "version_minor": 0
      },
      "text/plain": [
       "Downloading (…)nce_bert_config.json:   0%|          | 0.00/53.0 [00:00<?, ?B/s]"
      ]
     },
     "metadata": {},
     "output_type": "display_data"
    },
    {
     "data": {
      "application/vnd.jupyter.widget-view+json": {
       "model_id": "6b0cd291d096409ba2cb2b51dde84786",
       "version_major": 2,
       "version_minor": 0
      },
      "text/plain": [
       "Downloading (…)cial_tokens_map.json:   0%|          | 0.00/156 [00:00<?, ?B/s]"
      ]
     },
     "metadata": {},
     "output_type": "display_data"
    },
    {
     "data": {
      "application/vnd.jupyter.widget-view+json": {
       "model_id": "eec63e043b0040e2980d4c5c37f441a8",
       "version_major": 2,
       "version_minor": 0
      },
      "text/plain": [
       "Downloading (…)a9eb0/tokenizer.json:   0%|          | 0.00/495k [00:00<?, ?B/s]"
      ]
     },
     "metadata": {},
     "output_type": "display_data"
    },
    {
     "data": {
      "application/vnd.jupyter.widget-view+json": {
       "model_id": "a0ef32b7b40b496f987d96d6eb0d99c4",
       "version_major": 2,
       "version_minor": 0
      },
      "text/plain": [
       "Downloading (…)okenizer_config.json:   0%|          | 0.00/530 [00:00<?, ?B/s]"
      ]
     },
     "metadata": {},
     "output_type": "display_data"
    },
    {
     "data": {
      "application/vnd.jupyter.widget-view+json": {
       "model_id": "fb4cc861b4ae41eebbbfb1748d2ed4f6",
       "version_major": 2,
       "version_minor": 0
      },
      "text/plain": [
       "Downloading (…)998eaa9eb0/vocab.txt:   0%|          | 0.00/248k [00:00<?, ?B/s]"
      ]
     },
     "metadata": {},
     "output_type": "display_data"
    },
    {
     "data": {
      "application/vnd.jupyter.widget-view+json": {
       "model_id": "4798f8b026e54d6e8ac8b37c63d4e753",
       "version_major": 2,
       "version_minor": 0
      },
      "text/plain": [
       "Downloading (…)eaa9eb0/modules.json:   0%|          | 0.00/229 [00:00<?, ?B/s]"
      ]
     },
     "metadata": {},
     "output_type": "display_data"
    },
    {
     "data": {
      "application/vnd.jupyter.widget-view+json": {
       "model_id": "a7a514f273844d16bd9ec665bb53d43d",
       "version_major": 2,
       "version_minor": 0
      },
      "text/plain": [
       "Downloading:   0%|          | 0.00/778 [00:00<?, ?B/s]"
      ]
     },
     "metadata": {},
     "output_type": "display_data"
    },
    {
     "data": {
      "application/vnd.jupyter.widget-view+json": {
       "model_id": "4730fb4be787453884f7aa8fae938eb4",
       "version_major": 2,
       "version_minor": 0
      },
      "text/plain": [
       "Downloading:   0%|          | 0.00/260M [00:00<?, ?B/s]"
      ]
     },
     "metadata": {},
     "output_type": "display_data"
    },
    {
     "data": {
      "application/vnd.jupyter.widget-view+json": {
       "model_id": "90c9fb9970bc4282b2f1b51db79e1918",
       "version_major": 2,
       "version_minor": 0
      },
      "text/plain": [
       "Downloading:   0%|          | 0.00/530 [00:00<?, ?B/s]"
      ]
     },
     "metadata": {},
     "output_type": "display_data"
    },
    {
     "data": {
      "application/vnd.jupyter.widget-view+json": {
       "model_id": "3716603615a44f4db66817e06ac99369",
       "version_major": 2,
       "version_minor": 0
      },
      "text/plain": [
       "Downloading:   0%|          | 0.00/243k [00:00<?, ?B/s]"
      ]
     },
     "metadata": {},
     "output_type": "display_data"
    },
    {
     "data": {
      "application/vnd.jupyter.widget-view+json": {
       "model_id": "516e3bcc0e3f4a34b292276448a7565b",
       "version_major": 2,
       "version_minor": 0
      },
      "text/plain": [
       "Downloading:   0%|          | 0.00/483k [00:00<?, ?B/s]"
      ]
     },
     "metadata": {},
     "output_type": "display_data"
    },
    {
     "data": {
      "application/vnd.jupyter.widget-view+json": {
       "model_id": "1854739d202e4c2eaf65f366b57ec5b8",
       "version_major": 2,
       "version_minor": 0
      },
      "text/plain": [
       "Downloading:   0%|          | 0.00/156 [00:00<?, ?B/s]"
      ]
     },
     "metadata": {},
     "output_type": "display_data"
    }
   ],
   "source": [
    "from transformers import AutoTokenizer, AutoModel\n",
    "from sentence_transformers import SentenceTransformer, util\n",
    "model = SentenceTransformer(model_ckpt3)\n",
    "model1 = AutoModel.from_pretrained(model_ckpt3)\n",
    "tokenizer = AutoTokenizer.from_pretrained(model_ckpt3)"
   ]
  },
  {
   "cell_type": "code",
   "execution_count": 15,
   "id": "f48c1f6e",
   "metadata": {},
   "outputs": [],
   "source": [
    "def get_sts(text,stdn):\n",
    "#     model loading\n",
    "    model = SentenceTransformer(model_ckpt3)\n",
    "    \n",
    "    # get embedding\n",
    "#     start_time = perf_counter()\n",
    "    stdn_embedding = model.encode(stdn.sample(), convert_to_tensor=True)\n",
    "    src_embedding = model.encode(text.sample(), convert_to_tensor=True)\n",
    "    \n",
    "    # 유사도 계산\n",
    "    sts = util.pytorch_cos_sim(src_embedding, stdn_embedding).to('cpu').numpy()\n",
    "    \n",
    "#     latency = perf_counter() - start_time\n",
    "#     print(f'{latency * 1000:.3f} ms')\n",
    "    return sts"
   ]
  },
  {
   "cell_type": "code",
   "execution_count": 16,
   "id": "e6dcb02e",
   "metadata": {},
   "outputs": [],
   "source": [
    "stdns = df['stdn'].values\n",
    "texts = df['text'].values"
   ]
  },
  {
   "cell_type": "code",
   "execution_count": 17,
   "id": "1aecf923",
   "metadata": {},
   "outputs": [],
   "source": [
    "input_val = tokenizer(stdns[0], return_tensors ='pt')"
   ]
  },
  {
   "cell_type": "code",
   "execution_count": 18,
   "id": "2d5e1753",
   "metadata": {},
   "outputs": [
    {
     "data": {
      "text/plain": [
       "tensor(25.7711)"
      ]
     },
     "execution_count": 18,
     "metadata": {},
     "output_type": "execute_result"
    }
   ],
   "source": [
    "import torch\n",
    "with torch.no_grad():\n",
    "    output = model1(**input_val)\n",
    "output[0].mean(axis=1).sum()"
   ]
  },
  {
   "cell_type": "code",
   "execution_count": null,
   "id": "990011f9",
   "metadata": {},
   "outputs": [],
   "source": []
  },
  {
   "cell_type": "code",
   "execution_count": null,
   "id": "94b7ddf9",
   "metadata": {},
   "outputs": [],
   "source": []
  }
 ],
 "metadata": {
  "kernelspec": {
   "display_name": "Python 3 (ipykernel)",
   "language": "python",
   "name": "python3"
  },
  "language_info": {
   "codemirror_mode": {
    "name": "ipython",
    "version": 3
   },
   "file_extension": ".py",
   "mimetype": "text/x-python",
   "name": "python",
   "nbconvert_exporter": "python",
   "pygments_lexer": "ipython3",
   "version": "3.9.7"
  }
 },
 "nbformat": 4,
 "nbformat_minor": 5
}
