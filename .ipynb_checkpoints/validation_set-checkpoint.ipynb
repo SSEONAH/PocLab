{
 "cells": [
  {
   "cell_type": "code",
   "execution_count": 3,
   "id": "2821b9ae",
   "metadata": {},
   "outputs": [],
   "source": [
    "import os\n",
    "import pandas as pd"
   ]
  },
  {
   "cell_type": "markdown",
   "id": "4fddf104",
   "metadata": {},
   "source": [
    "## 선아 file merge"
   ]
  },
  {
   "cell_type": "code",
   "execution_count": 49,
   "id": "bd0a5a7a",
   "metadata": {},
   "outputs": [],
   "source": [
    "directory =os.getenv('HOME') + '/aiffel/aiffelthon/Data_copy/SA/' #Data_copy/SA' "
   ]
  },
  {
   "cell_type": "code",
   "execution_count": 39,
   "id": "6bff8cb4",
   "metadata": {},
   "outputs": [],
   "source": [
    "#df = pd.read_csv(directory+'/dataset_full_translated_en_ko_0221_last_added_0221_12h_copy.csv') # 데이터 파일 불러오기"
   ]
  },
  {
   "cell_type": "code",
   "execution_count": 40,
   "id": "b50501d9",
   "metadata": {},
   "outputs": [
    {
     "data": {
      "text/html": [
       "<div>\n",
       "<style scoped>\n",
       "    .dataframe tbody tr th:only-of-type {\n",
       "        vertical-align: middle;\n",
       "    }\n",
       "\n",
       "    .dataframe tbody tr th {\n",
       "        vertical-align: top;\n",
       "    }\n",
       "\n",
       "    .dataframe thead th {\n",
       "        text-align: right;\n",
       "    }\n",
       "</style>\n",
       "<table border=\"1\" class=\"dataframe\">\n",
       "  <thead>\n",
       "    <tr style=\"text-align: right;\">\n",
       "      <th></th>\n",
       "      <th>Unnamed: 0</th>\n",
       "      <th>text</th>\n",
       "      <th>dial</th>\n",
       "      <th>reg</th>\n",
       "      <th>eng</th>\n",
       "    </tr>\n",
       "  </thead>\n",
       "  <tbody>\n",
       "    <tr>\n",
       "      <th>0</th>\n",
       "      <td>0</td>\n",
       "      <td>생각이 쪼금씩 바뀌더라고</td>\n",
       "      <td>생각이 쪼금씩 바뀌드라고</td>\n",
       "      <td>jd</td>\n",
       "      <td>I've changed my mind a little bit.</td>\n",
       "    </tr>\n",
       "    <tr>\n",
       "      <th>1</th>\n",
       "      <td>1</td>\n",
       "      <td>어 알겠는가 외국인들이 그래도 잘 적응하고</td>\n",
       "      <td>어 알겄는가 외국인들이 그래도 잘 적응하고</td>\n",
       "      <td>jd</td>\n",
       "      <td>You know what? Foreigners still get used to it.</td>\n",
       "    </tr>\n",
       "    <tr>\n",
       "      <th>2</th>\n",
       "      <td>2</td>\n",
       "      <td>아으 갑자기 예전에 맹장 뜯은 게 생각난다.</td>\n",
       "      <td>아으 갑자기 예전에 맹장 뜯은 게 생각난디야.</td>\n",
       "      <td>jd</td>\n",
       "      <td>All of a sudden, I think I've ripped off my ap...</td>\n",
       "    </tr>\n",
       "    <tr>\n",
       "      <th>3</th>\n",
       "      <td>3</td>\n",
       "      <td>보면은 조금 품위 있게 나이 들어가야 되겠단 생각을 참 많이 해요.</td>\n",
       "      <td>보면은 쫌 품위 있게 나이 들어가야 되겠단 생각을 참 많이 해요.</td>\n",
       "      <td>jd</td>\n",
       "      <td>I have a lot of ideas about getting older in a...</td>\n",
       "    </tr>\n",
       "    <tr>\n",
       "      <th>4</th>\n",
       "      <td>4</td>\n",
       "      <td>약간 조금 약간 맛이 쪼끔 거시기 하긴 한데 그래도</td>\n",
       "      <td>약간 쫌 약간 맛이 쪼끔 거시기 하긴 한데 그래도</td>\n",
       "      <td>jd</td>\n",
       "      <td>It's a little bit of a tastey, but still...</td>\n",
       "    </tr>\n",
       "  </tbody>\n",
       "</table>\n",
       "</div>"
      ],
      "text/plain": [
       "   Unnamed: 0                                   text  \\\n",
       "0           0                          생각이 쪼금씩 바뀌더라고   \n",
       "1           1                어 알겠는가 외국인들이 그래도 잘 적응하고   \n",
       "2           2               아으 갑자기 예전에 맹장 뜯은 게 생각난다.   \n",
       "3           3  보면은 조금 품위 있게 나이 들어가야 되겠단 생각을 참 많이 해요.   \n",
       "4           4           약간 조금 약간 맛이 쪼끔 거시기 하긴 한데 그래도   \n",
       "\n",
       "                                   dial reg  \\\n",
       "0                         생각이 쪼금씩 바뀌드라고  jd   \n",
       "1               어 알겄는가 외국인들이 그래도 잘 적응하고  jd   \n",
       "2             아으 갑자기 예전에 맹장 뜯은 게 생각난디야.  jd   \n",
       "3  보면은 쫌 품위 있게 나이 들어가야 되겠단 생각을 참 많이 해요.  jd   \n",
       "4           약간 쫌 약간 맛이 쪼끔 거시기 하긴 한데 그래도  jd   \n",
       "\n",
       "                                                 eng  \n",
       "0                 I've changed my mind a little bit.  \n",
       "1    You know what? Foreigners still get used to it.  \n",
       "2  All of a sudden, I think I've ripped off my ap...  \n",
       "3  I have a lot of ideas about getting older in a...  \n",
       "4        It's a little bit of a tastey, but still...  "
      ]
     },
     "execution_count": 40,
     "metadata": {},
     "output_type": "execute_result"
    }
   ],
   "source": [
    "#df.head()"
   ]
  },
  {
   "cell_type": "code",
   "execution_count": 50,
   "id": "c006288c",
   "metadata": {},
   "outputs": [
    {
     "data": {
      "text/plain": [
       "['dataset_en_ko_translated_sa_105000_110000.csv',\n",
       " 'dataset_en_ko_translated_sa_175000_180000.csv',\n",
       " 'dataset_en_ko_translated_sa_135000_140000.csv',\n",
       " 'dataset_en_ko_translated_sa_80000_85000.csv',\n",
       " 'dataset_en_ko_translated_sa_95000_100000.csv',\n",
       " 'dataset_en_ko_translated_sa_15000_20000.csv',\n",
       " 'dataset_en_ko_translated_sa_90000_95000.csv',\n",
       " 'dataset_en_ko_translated_sa_120000_125000.csv',\n",
       " 'dataset_en_ko_translated_sa_150000_155000.csv',\n",
       " 'dataset_en_ko_translated_sa_75000_80000.csv',\n",
       " 'dataset_en_ko_translated_sa_0_5000.csv',\n",
       " 'dataset_en_ko_translated_sa_125000_130000.csv',\n",
       " 'dataset_en_ko_translated_sa_160000_165000.csv',\n",
       " 'dataset_en_ko_translated_sa_130000_135000.csv',\n",
       " 'dataset_en_ko_translated_sa_55000_60000.csv',\n",
       " 'dataset_en_ko_translated_sa_115000_120000.csv',\n",
       " 'dataset_en_ko_translated_sa_20000_25000.csv',\n",
       " 'dataset_en_ko_translated_sa_140000_145000.csv',\n",
       " 'dataset_en_ko_translated_sa_165000_170000.csv',\n",
       " 'dataset_en_ko_translated_sa_155000_160000.csv',\n",
       " 'dataset_en_ko_translated_sa_100000_105000.csv',\n",
       " 'dataset_en_ko_translated_sa_35000_40000.csv',\n",
       " 'dataset_en_ko_translated_sa_10000_15000.csv',\n",
       " 'dataset_en_ko_translated_sa_70000_75000.csv',\n",
       " 'dataset_en_ko_translated_sa_60000_65000.csv',\n",
       " 'dataset_en_ko_translated_sa_5000_10000.csv',\n",
       " 'dataset_en_ko_translated_sa_25000_30000.csv',\n",
       " 'dataset_en_ko_translated_sa_170000_175000.csv',\n",
       " 'dataset_en_ko_translated_sa_85000_90000.csv',\n",
       " 'dataset_en_ko_translated_sa_30000_35000.csv',\n",
       " 'dataset_en_ko_translated_sa_65000_70000.csv',\n",
       " 'dataset_en_ko_translated_sa_145000_150000.csv',\n",
       " 'dataset_en_ko_translated_sa_40000_45000.csv',\n",
       " '.ipynb_checkpoints',\n",
       " 'dataset_en_ko_translated_sa_45000_50000.csv',\n",
       " 'dataset_en_ko_translated_sa_50000_55000.csv',\n",
       " 'dataset_en_ko_translated_sa_110000_115000.csv']"
      ]
     },
     "execution_count": 50,
     "metadata": {},
     "output_type": "execute_result"
    }
   ],
   "source": [
    "os.listdir(directory)"
   ]
  },
  {
   "cell_type": "code",
   "execution_count": 51,
   "id": "4393f7c0",
   "metadata": {},
   "outputs": [
    {
     "data": {
      "text/plain": [
       "['/aiffel/aiffel/aiffelthon/Data_copy/SA/dataset_en_ko_translated_sa_105000_110000.csv',\n",
       " '/aiffel/aiffel/aiffelthon/Data_copy/SA/dataset_en_ko_translated_sa_175000_180000.csv',\n",
       " '/aiffel/aiffel/aiffelthon/Data_copy/SA/dataset_en_ko_translated_sa_135000_140000.csv',\n",
       " '/aiffel/aiffel/aiffelthon/Data_copy/SA/dataset_en_ko_translated_sa_80000_85000.csv',\n",
       " '/aiffel/aiffel/aiffelthon/Data_copy/SA/dataset_en_ko_translated_sa_95000_100000.csv',\n",
       " '/aiffel/aiffel/aiffelthon/Data_copy/SA/dataset_en_ko_translated_sa_15000_20000.csv',\n",
       " '/aiffel/aiffel/aiffelthon/Data_copy/SA/dataset_en_ko_translated_sa_90000_95000.csv',\n",
       " '/aiffel/aiffel/aiffelthon/Data_copy/SA/dataset_en_ko_translated_sa_120000_125000.csv',\n",
       " '/aiffel/aiffel/aiffelthon/Data_copy/SA/dataset_en_ko_translated_sa_150000_155000.csv',\n",
       " '/aiffel/aiffel/aiffelthon/Data_copy/SA/dataset_en_ko_translated_sa_75000_80000.csv',\n",
       " '/aiffel/aiffel/aiffelthon/Data_copy/SA/dataset_en_ko_translated_sa_0_5000.csv',\n",
       " '/aiffel/aiffel/aiffelthon/Data_copy/SA/dataset_en_ko_translated_sa_125000_130000.csv',\n",
       " '/aiffel/aiffel/aiffelthon/Data_copy/SA/dataset_en_ko_translated_sa_160000_165000.csv',\n",
       " '/aiffel/aiffel/aiffelthon/Data_copy/SA/dataset_en_ko_translated_sa_130000_135000.csv',\n",
       " '/aiffel/aiffel/aiffelthon/Data_copy/SA/dataset_en_ko_translated_sa_55000_60000.csv',\n",
       " '/aiffel/aiffel/aiffelthon/Data_copy/SA/dataset_en_ko_translated_sa_115000_120000.csv',\n",
       " '/aiffel/aiffel/aiffelthon/Data_copy/SA/dataset_en_ko_translated_sa_20000_25000.csv',\n",
       " '/aiffel/aiffel/aiffelthon/Data_copy/SA/dataset_en_ko_translated_sa_140000_145000.csv',\n",
       " '/aiffel/aiffel/aiffelthon/Data_copy/SA/dataset_en_ko_translated_sa_165000_170000.csv',\n",
       " '/aiffel/aiffel/aiffelthon/Data_copy/SA/dataset_en_ko_translated_sa_155000_160000.csv',\n",
       " '/aiffel/aiffel/aiffelthon/Data_copy/SA/dataset_en_ko_translated_sa_100000_105000.csv',\n",
       " '/aiffel/aiffel/aiffelthon/Data_copy/SA/dataset_en_ko_translated_sa_35000_40000.csv',\n",
       " '/aiffel/aiffel/aiffelthon/Data_copy/SA/dataset_en_ko_translated_sa_10000_15000.csv',\n",
       " '/aiffel/aiffel/aiffelthon/Data_copy/SA/dataset_en_ko_translated_sa_70000_75000.csv',\n",
       " '/aiffel/aiffel/aiffelthon/Data_copy/SA/dataset_en_ko_translated_sa_60000_65000.csv',\n",
       " '/aiffel/aiffel/aiffelthon/Data_copy/SA/dataset_en_ko_translated_sa_5000_10000.csv',\n",
       " '/aiffel/aiffel/aiffelthon/Data_copy/SA/dataset_en_ko_translated_sa_25000_30000.csv',\n",
       " '/aiffel/aiffel/aiffelthon/Data_copy/SA/dataset_en_ko_translated_sa_170000_175000.csv',\n",
       " '/aiffel/aiffel/aiffelthon/Data_copy/SA/dataset_en_ko_translated_sa_85000_90000.csv',\n",
       " '/aiffel/aiffel/aiffelthon/Data_copy/SA/dataset_en_ko_translated_sa_30000_35000.csv',\n",
       " '/aiffel/aiffel/aiffelthon/Data_copy/SA/dataset_en_ko_translated_sa_65000_70000.csv',\n",
       " '/aiffel/aiffel/aiffelthon/Data_copy/SA/dataset_en_ko_translated_sa_145000_150000.csv',\n",
       " '/aiffel/aiffel/aiffelthon/Data_copy/SA/dataset_en_ko_translated_sa_40000_45000.csv',\n",
       " '/aiffel/aiffel/aiffelthon/Data_copy/SA/dataset_en_ko_translated_sa_45000_50000.csv',\n",
       " '/aiffel/aiffel/aiffelthon/Data_copy/SA/dataset_en_ko_translated_sa_50000_55000.csv',\n",
       " '/aiffel/aiffel/aiffelthon/Data_copy/SA/dataset_en_ko_translated_sa_110000_115000.csv']"
      ]
     },
     "execution_count": 51,
     "metadata": {},
     "output_type": "execute_result"
    }
   ],
   "source": [
    "import glob\n",
    "files = glob.glob(directory+f'*sa*.csv')\n",
    "files"
   ]
  },
  {
   "cell_type": "code",
   "execution_count": 52,
   "id": "45056422",
   "metadata": {
    "scrolled": true
   },
   "outputs": [
    {
     "name": "stdout",
     "output_type": "stream",
     "text": [
      "<class 'pandas.core.frame.DataFrame'>\n",
      "Int64Index: 261124 entries, 0 to 261123\n",
      "Data columns (total 5 columns):\n",
      " #   Column  Non-Null Count   Dtype \n",
      "---  ------  --------------   ----- \n",
      " 0   text    261124 non-null  object\n",
      " 1   dial    261124 non-null  object\n",
      " 2   reg     261124 non-null  object\n",
      " 3   pair    261124 non-null  object\n",
      " 4   eng     261124 non-null  object\n",
      "dtypes: object(5)\n",
      "memory usage: 12.0+ MB\n"
     ]
    }
   ],
   "source": [
    "# data merge하기\n",
    "df_final = pd.DataFrame(columns=['text', 'dial', 'reg', 'pair','eng'])\n",
    "for i in files :\n",
    "    df_new = pd.read_csv(i, usecols =['text', 'dial', 'reg', 'pair','eng'])\n",
    "    df_final = df_final.merge(df_new, how='outer')\n",
    "df_final.head()\n",
    "df_final.info()"
   ]
  },
  {
   "cell_type": "markdown",
   "id": "c177e8a6",
   "metadata": {},
   "source": [
    "## 시혁님 file merge"
   ]
  },
  {
   "cell_type": "code",
   "execution_count": 57,
   "id": "af5b437d",
   "metadata": {},
   "outputs": [],
   "source": [
    "directory_sh =os.getenv('HOME') + '/aiffel/aiffelthon/Data_copy/SH/' #Data_copy/SA' "
   ]
  },
  {
   "cell_type": "code",
   "execution_count": 58,
   "id": "0bed9c5d",
   "metadata": {},
   "outputs": [
    {
     "data": {
      "text/plain": [
       "['dataset_en_ko_translated_sihyeok_100000_105000.csv',\n",
       " 'dataset_en_ko_translated_sihyeok_50000_55000.csv',\n",
       " 'dataset_en_ko_translated_sihyeok_55000_60000.csv',\n",
       " 'dataset_en_ko_translated_sihyeok_15000_20000.csv',\n",
       " 'dataset_en_ko_translated_sihyeok_75000_80000.csv',\n",
       " 'dataset_en_ko_translated_sihyeok_30000_35000.csv',\n",
       " 'dataset_en_ko_translated_sihyeok_120000_125000.csv',\n",
       " 'dataset_en_ko_translated_sihyeok_10000_15000.csv',\n",
       " 'dataset_en_ko_translated_sihyeok_115000_120000.csv',\n",
       " 'dataset_en_ko_translated_sihyeok_35000_40000.csv',\n",
       " 'dataset_en_ko_translated_sihyeok_70000_75000.csv',\n",
       " 'dataset_en_ko_translated_sihyeok_60000_65000.csv',\n",
       " 'dataset_en_ko_translated_sihyeok_45000_50000.csv',\n",
       " 'dataset_en_ko_translated_sihyeok_140000_145000.csv',\n",
       " 'dataset_en_ko_translated_sihyeok_110000_115000.csv',\n",
       " 'dataset_en_ko_translated_sihyeok_20000_25000.csv',\n",
       " 'dataset_en_ko_translated_sihyeok_125000_130000.csv',\n",
       " 'dataset_en_ko_translated_sihyeok_105000_110000.csv',\n",
       " 'dataset_en_ko_translated_sihyeok_85000_90000.csv',\n",
       " 'dataset_en_ko_translated_sihyeok_95000_100000.csv',\n",
       " 'dataset_en_ko_translated_sihyeok_135000_140000.csv',\n",
       " 'dataset_en_ko_translated_sihyeok_5000_10000.csv',\n",
       " 'dataset_en_ko_translated_sihyeok_0_5000.csv',\n",
       " 'dataset_en_ko_translated_sihyeok_40000_45000.csv',\n",
       " 'dataset_en_ko_translated_sihyeok_25000_30000.csv',\n",
       " '.ipynb_checkpoints',\n",
       " 'dataset_en_ko_translated_sihyeok_80000_85000.csv',\n",
       " 'dataset_en_ko_translated_sihyeok_65000_70000.csv']"
      ]
     },
     "execution_count": 58,
     "metadata": {},
     "output_type": "execute_result"
    }
   ],
   "source": [
    "os.listdir(directory_sh)"
   ]
  },
  {
   "cell_type": "code",
   "execution_count": 59,
   "id": "5ff83281",
   "metadata": {},
   "outputs": [
    {
     "data": {
      "text/plain": [
       "['/aiffel/aiffel/aiffelthon/Data_copy/SH/dataset_en_ko_translated_sihyeok_100000_105000.csv',\n",
       " '/aiffel/aiffel/aiffelthon/Data_copy/SH/dataset_en_ko_translated_sihyeok_50000_55000.csv',\n",
       " '/aiffel/aiffel/aiffelthon/Data_copy/SH/dataset_en_ko_translated_sihyeok_55000_60000.csv',\n",
       " '/aiffel/aiffel/aiffelthon/Data_copy/SH/dataset_en_ko_translated_sihyeok_15000_20000.csv',\n",
       " '/aiffel/aiffel/aiffelthon/Data_copy/SH/dataset_en_ko_translated_sihyeok_75000_80000.csv',\n",
       " '/aiffel/aiffel/aiffelthon/Data_copy/SH/dataset_en_ko_translated_sihyeok_30000_35000.csv',\n",
       " '/aiffel/aiffel/aiffelthon/Data_copy/SH/dataset_en_ko_translated_sihyeok_120000_125000.csv',\n",
       " '/aiffel/aiffel/aiffelthon/Data_copy/SH/dataset_en_ko_translated_sihyeok_10000_15000.csv',\n",
       " '/aiffel/aiffel/aiffelthon/Data_copy/SH/dataset_en_ko_translated_sihyeok_115000_120000.csv',\n",
       " '/aiffel/aiffel/aiffelthon/Data_copy/SH/dataset_en_ko_translated_sihyeok_35000_40000.csv',\n",
       " '/aiffel/aiffel/aiffelthon/Data_copy/SH/dataset_en_ko_translated_sihyeok_70000_75000.csv',\n",
       " '/aiffel/aiffel/aiffelthon/Data_copy/SH/dataset_en_ko_translated_sihyeok_60000_65000.csv',\n",
       " '/aiffel/aiffel/aiffelthon/Data_copy/SH/dataset_en_ko_translated_sihyeok_45000_50000.csv',\n",
       " '/aiffel/aiffel/aiffelthon/Data_copy/SH/dataset_en_ko_translated_sihyeok_140000_145000.csv',\n",
       " '/aiffel/aiffel/aiffelthon/Data_copy/SH/dataset_en_ko_translated_sihyeok_110000_115000.csv',\n",
       " '/aiffel/aiffel/aiffelthon/Data_copy/SH/dataset_en_ko_translated_sihyeok_20000_25000.csv',\n",
       " '/aiffel/aiffel/aiffelthon/Data_copy/SH/dataset_en_ko_translated_sihyeok_125000_130000.csv',\n",
       " '/aiffel/aiffel/aiffelthon/Data_copy/SH/dataset_en_ko_translated_sihyeok_105000_110000.csv',\n",
       " '/aiffel/aiffel/aiffelthon/Data_copy/SH/dataset_en_ko_translated_sihyeok_85000_90000.csv',\n",
       " '/aiffel/aiffel/aiffelthon/Data_copy/SH/dataset_en_ko_translated_sihyeok_95000_100000.csv',\n",
       " '/aiffel/aiffel/aiffelthon/Data_copy/SH/dataset_en_ko_translated_sihyeok_135000_140000.csv',\n",
       " '/aiffel/aiffel/aiffelthon/Data_copy/SH/dataset_en_ko_translated_sihyeok_5000_10000.csv',\n",
       " '/aiffel/aiffel/aiffelthon/Data_copy/SH/dataset_en_ko_translated_sihyeok_0_5000.csv',\n",
       " '/aiffel/aiffel/aiffelthon/Data_copy/SH/dataset_en_ko_translated_sihyeok_40000_45000.csv',\n",
       " '/aiffel/aiffel/aiffelthon/Data_copy/SH/dataset_en_ko_translated_sihyeok_25000_30000.csv',\n",
       " '/aiffel/aiffel/aiffelthon/Data_copy/SH/dataset_en_ko_translated_sihyeok_80000_85000.csv',\n",
       " '/aiffel/aiffel/aiffelthon/Data_copy/SH/dataset_en_ko_translated_sihyeok_65000_70000.csv']"
      ]
     },
     "execution_count": 59,
     "metadata": {},
     "output_type": "execute_result"
    }
   ],
   "source": [
    "import glob\n",
    "files = glob.glob(directory_sh+f'*sihyeok*.csv')\n",
    "files"
   ]
  },
  {
   "cell_type": "code",
   "execution_count": 2,
   "id": "f50e8d0c",
   "metadata": {},
   "outputs": [
    {
     "ename": "NameError",
     "evalue": "name 'pd' is not defined",
     "output_type": "error",
     "traceback": [
      "\u001b[0;31m---------------------------------------------------------------------------\u001b[0m",
      "\u001b[0;31mNameError\u001b[0m                                 Traceback (most recent call last)",
      "\u001b[0;32m/tmp/ipykernel_246/570431140.py\u001b[0m in \u001b[0;36m<module>\u001b[0;34m\u001b[0m\n\u001b[1;32m      1\u001b[0m \u001b[0;31m# data merge하기\u001b[0m\u001b[0;34m\u001b[0m\u001b[0;34m\u001b[0m\u001b[0m\n\u001b[0;32m----> 2\u001b[0;31m \u001b[0mdf_final_sh\u001b[0m \u001b[0;34m=\u001b[0m \u001b[0mpd\u001b[0m\u001b[0;34m.\u001b[0m\u001b[0mDataFrame\u001b[0m\u001b[0;34m(\u001b[0m\u001b[0mcolumns\u001b[0m\u001b[0;34m=\u001b[0m\u001b[0;34m[\u001b[0m\u001b[0;34m'text'\u001b[0m\u001b[0;34m,\u001b[0m \u001b[0;34m'dial'\u001b[0m\u001b[0;34m,\u001b[0m \u001b[0;34m'reg'\u001b[0m\u001b[0;34m,\u001b[0m \u001b[0;34m'pair'\u001b[0m\u001b[0;34m,\u001b[0m\u001b[0;34m'eng'\u001b[0m\u001b[0;34m]\u001b[0m\u001b[0;34m)\u001b[0m\u001b[0;34m\u001b[0m\u001b[0;34m\u001b[0m\u001b[0m\n\u001b[0m\u001b[1;32m      3\u001b[0m \u001b[0;32mfor\u001b[0m \u001b[0mi\u001b[0m \u001b[0;32min\u001b[0m \u001b[0mfiles\u001b[0m \u001b[0;34m:\u001b[0m\u001b[0;34m\u001b[0m\u001b[0;34m\u001b[0m\u001b[0m\n\u001b[1;32m      4\u001b[0m     \u001b[0mdf_new\u001b[0m \u001b[0;34m=\u001b[0m \u001b[0mpd\u001b[0m\u001b[0;34m.\u001b[0m\u001b[0mread_csv\u001b[0m\u001b[0;34m(\u001b[0m\u001b[0mi\u001b[0m\u001b[0;34m,\u001b[0m \u001b[0musecols\u001b[0m \u001b[0;34m=\u001b[0m\u001b[0;34m[\u001b[0m\u001b[0;34m'text'\u001b[0m\u001b[0;34m,\u001b[0m \u001b[0;34m'dial'\u001b[0m\u001b[0;34m,\u001b[0m \u001b[0;34m'reg'\u001b[0m\u001b[0;34m,\u001b[0m \u001b[0;34m'pair'\u001b[0m\u001b[0;34m,\u001b[0m\u001b[0;34m'eng'\u001b[0m\u001b[0;34m]\u001b[0m\u001b[0;34m)\u001b[0m\u001b[0;34m\u001b[0m\u001b[0;34m\u001b[0m\u001b[0m\n\u001b[1;32m      5\u001b[0m     \u001b[0mdf_final_sh\u001b[0m \u001b[0;34m=\u001b[0m \u001b[0mdf_final_sh\u001b[0m\u001b[0;34m.\u001b[0m\u001b[0mmerge\u001b[0m\u001b[0;34m(\u001b[0m\u001b[0mdf_new\u001b[0m\u001b[0;34m,\u001b[0m \u001b[0mhow\u001b[0m\u001b[0;34m=\u001b[0m\u001b[0;34m'outer'\u001b[0m\u001b[0;34m)\u001b[0m\u001b[0;34m\u001b[0m\u001b[0;34m\u001b[0m\u001b[0m\n",
      "\u001b[0;31mNameError\u001b[0m: name 'pd' is not defined"
     ]
    }
   ],
   "source": [
    "# data merge하기\n",
    "df_final_sh = pd.DataFrame(columns=['text', 'dial', 'reg', 'pair','eng'])\n",
    "for i in files :\n",
    "    df_new = pd.read_csv(i, usecols =['text', 'dial', 'reg', 'pair','eng'])\n",
    "    df_final_sh = df_final_sh.merge(df_new, how='outer')\n",
    "df_final_sh.head()\n",
    "df_final_sh.info()"
   ]
  },
  {
   "cell_type": "code",
   "execution_count": 61,
   "id": "1d38ca60",
   "metadata": {},
   "outputs": [],
   "source": [
    "date = '0222'\n",
    "name = 'sh'"
   ]
  },
  {
   "cell_type": "code",
   "execution_count": 63,
   "id": "0e8735f3",
   "metadata": {},
   "outputs": [],
   "source": [
    "df_final_sh.to_csv(directory + f'dataset_full_ko_en_added_{date}_{name}.csv' , index=False)\n"
   ]
  },
  {
   "cell_type": "markdown",
   "id": "00a13fd3",
   "metadata": {},
   "source": [
    "## Merge된 file 하나로 합치기 "
   ]
  },
  {
   "cell_type": "code",
   "execution_count": 5,
   "id": "dc19d699",
   "metadata": {},
   "outputs": [],
   "source": [
    "directory_all = os.getenv('HOME') + '/aiffel/aiffelthon/Data_copy/'"
   ]
  },
  {
   "cell_type": "code",
   "execution_count": 6,
   "id": "0824c84f",
   "metadata": {},
   "outputs": [
    {
     "data": {
      "text/plain": [
       "['/aiffel/aiffel/aiffelthon/Data_copy/dataset_full_translated_en_ko_0221_last_added_0221_12h.csv',\n",
       " '/aiffel/aiffel/aiffelthon/Data_copy/dataset_full_ko_en_added_0221_Jongin.csv',\n",
       " '/aiffel/aiffel/aiffelthon/Data_copy/dataset_full_ko_en_added_0222_sh.csv',\n",
       " '/aiffel/aiffel/aiffelthon/Data_copy/dataset_full_ko_en_added_0222_sa.csv']"
      ]
     },
     "execution_count": 6,
     "metadata": {},
     "output_type": "execute_result"
    }
   ],
   "source": [
    "import glob\n",
    "files = glob.glob(directory_all+f'*added*.csv')\n",
    "files"
   ]
  },
  {
   "cell_type": "code",
   "execution_count": 7,
   "id": "c15f4aa7",
   "metadata": {
    "scrolled": true
   },
   "outputs": [
    {
     "name": "stdout",
     "output_type": "stream",
     "text": [
      "<class 'pandas.core.frame.DataFrame'>\n",
      "Int64Index: 1200782 entries, 0 to 1200781\n",
      "Data columns (total 4 columns):\n",
      " #   Column  Non-Null Count    Dtype \n",
      "---  ------  --------------    ----- \n",
      " 0   text    1200781 non-null  object\n",
      " 1   dial    1200782 non-null  object\n",
      " 2   reg     1200782 non-null  object\n",
      " 3   eng     1200782 non-null  object\n",
      "dtypes: object(4)\n",
      "memory usage: 45.8+ MB\n"
     ]
    }
   ],
   "source": [
    "# data merge하기\n",
    "df_final_all = pd.DataFrame(columns=['text', 'dial', 'reg','eng'])\n",
    "for i in files :\n",
    "    df_new = pd.read_csv(i, usecols =['text', 'dial', 'reg','eng'])\n",
    "    df_final_all = df_final_all.merge(df_new, how='outer')\n",
    "df_final_all.head()\n",
    "df_final_all.info()"
   ]
  },
  {
   "cell_type": "code",
   "execution_count": 8,
   "id": "566083ff",
   "metadata": {},
   "outputs": [
    {
     "data": {
      "text/html": [
       "<div>\n",
       "<style scoped>\n",
       "    .dataframe tbody tr th:only-of-type {\n",
       "        vertical-align: middle;\n",
       "    }\n",
       "\n",
       "    .dataframe tbody tr th {\n",
       "        vertical-align: top;\n",
       "    }\n",
       "\n",
       "    .dataframe thead th {\n",
       "        text-align: right;\n",
       "    }\n",
       "</style>\n",
       "<table border=\"1\" class=\"dataframe\">\n",
       "  <thead>\n",
       "    <tr style=\"text-align: right;\">\n",
       "      <th></th>\n",
       "      <th>text</th>\n",
       "      <th>dial</th>\n",
       "      <th>reg</th>\n",
       "      <th>eng</th>\n",
       "    </tr>\n",
       "  </thead>\n",
       "  <tbody>\n",
       "    <tr>\n",
       "      <th>0</th>\n",
       "      <td>생각이 쪼금씩 바뀌더라고</td>\n",
       "      <td>생각이 쪼금씩 바뀌드라고</td>\n",
       "      <td>jd</td>\n",
       "      <td>I've changed my mind a little bit.</td>\n",
       "    </tr>\n",
       "    <tr>\n",
       "      <th>1</th>\n",
       "      <td>어 알겠는가 외국인들이 그래도 잘 적응하고</td>\n",
       "      <td>어 알겄는가 외국인들이 그래도 잘 적응하고</td>\n",
       "      <td>jd</td>\n",
       "      <td>You know what? Foreigners still get used to it.</td>\n",
       "    </tr>\n",
       "    <tr>\n",
       "      <th>2</th>\n",
       "      <td>아으 갑자기 예전에 맹장 뜯은 게 생각난다.</td>\n",
       "      <td>아으 갑자기 예전에 맹장 뜯은 게 생각난디야.</td>\n",
       "      <td>jd</td>\n",
       "      <td>All of a sudden, I think I've ripped off my ap...</td>\n",
       "    </tr>\n",
       "    <tr>\n",
       "      <th>3</th>\n",
       "      <td>보면은 조금 품위 있게 나이 들어가야 되겠단 생각을 참 많이 해요.</td>\n",
       "      <td>보면은 쫌 품위 있게 나이 들어가야 되겠단 생각을 참 많이 해요.</td>\n",
       "      <td>jd</td>\n",
       "      <td>I have a lot of ideas about getting older in a...</td>\n",
       "    </tr>\n",
       "    <tr>\n",
       "      <th>4</th>\n",
       "      <td>약간 조금 약간 맛이 쪼끔 거시기 하긴 한데 그래도</td>\n",
       "      <td>약간 쫌 약간 맛이 쪼끔 거시기 하긴 한데 그래도</td>\n",
       "      <td>jd</td>\n",
       "      <td>It's a little bit of a tastey, but still...</td>\n",
       "    </tr>\n",
       "  </tbody>\n",
       "</table>\n",
       "</div>"
      ],
      "text/plain": [
       "                                    text  \\\n",
       "0                          생각이 쪼금씩 바뀌더라고   \n",
       "1                어 알겠는가 외국인들이 그래도 잘 적응하고   \n",
       "2               아으 갑자기 예전에 맹장 뜯은 게 생각난다.   \n",
       "3  보면은 조금 품위 있게 나이 들어가야 되겠단 생각을 참 많이 해요.   \n",
       "4           약간 조금 약간 맛이 쪼끔 거시기 하긴 한데 그래도   \n",
       "\n",
       "                                   dial reg  \\\n",
       "0                         생각이 쪼금씩 바뀌드라고  jd   \n",
       "1               어 알겄는가 외국인들이 그래도 잘 적응하고  jd   \n",
       "2             아으 갑자기 예전에 맹장 뜯은 게 생각난디야.  jd   \n",
       "3  보면은 쫌 품위 있게 나이 들어가야 되겠단 생각을 참 많이 해요.  jd   \n",
       "4           약간 쫌 약간 맛이 쪼끔 거시기 하긴 한데 그래도  jd   \n",
       "\n",
       "                                                 eng  \n",
       "0                 I've changed my mind a little bit.  \n",
       "1    You know what? Foreigners still get used to it.  \n",
       "2  All of a sudden, I think I've ripped off my ap...  \n",
       "3  I have a lot of ideas about getting older in a...  \n",
       "4        It's a little bit of a tastey, but still...  "
      ]
     },
     "execution_count": 8,
     "metadata": {},
     "output_type": "execute_result"
    }
   ],
   "source": [
    "df_final_all.head()"
   ]
  },
  {
   "cell_type": "code",
   "execution_count": 10,
   "id": "b6af8b73",
   "metadata": {},
   "outputs": [
    {
     "name": "stdout",
     "output_type": "stream",
     "text": [
      "['jd' 'cc' 'gs' 'jj' 'kw']\n"
     ]
    }
   ],
   "source": [
    "print(df_final_all['reg'].unique())"
   ]
  },
  {
   "cell_type": "code",
   "execution_count": 11,
   "id": "6b2294ee",
   "metadata": {},
   "outputs": [
    {
     "name": "stdout",
     "output_type": "stream",
     "text": [
      "kw    446207\n",
      "jj    270521\n",
      "jd    227222\n",
      "cc    128632\n",
      "gs    128200\n",
      "Name: reg, dtype: int64\n"
     ]
    }
   ],
   "source": [
    "print(df_final_all['reg'].value_counts())"
   ]
  },
  {
   "cell_type": "code",
   "execution_count": 13,
   "id": "aa08f06d",
   "metadata": {},
   "outputs": [],
   "source": [
    "jj_sample = df_final_all[df_final_all['reg'] == 'jj']\n",
    "gs_sample = df_final_all[df_final_all['reg'] == 'gs']\n",
    "cc_sample = df_final_all[df_final_all['reg'] == 'cc']\n",
    "jd_sample = df_final_all[df_final_all['reg'] == 'jd']\n",
    "kw_sample = df_final_all[df_final_all['reg'] == 'kw']"
   ]
  },
  {
   "cell_type": "code",
   "execution_count": 15,
   "id": "d254544c",
   "metadata": {},
   "outputs": [
    {
     "data": {
      "text/html": [
       "<div>\n",
       "<style scoped>\n",
       "    .dataframe tbody tr th:only-of-type {\n",
       "        vertical-align: middle;\n",
       "    }\n",
       "\n",
       "    .dataframe tbody tr th {\n",
       "        vertical-align: top;\n",
       "    }\n",
       "\n",
       "    .dataframe thead th {\n",
       "        text-align: right;\n",
       "    }\n",
       "</style>\n",
       "<table border=\"1\" class=\"dataframe\">\n",
       "  <thead>\n",
       "    <tr style=\"text-align: right;\">\n",
       "      <th></th>\n",
       "      <th>text</th>\n",
       "      <th>dial</th>\n",
       "      <th>reg</th>\n",
       "      <th>eng</th>\n",
       "    </tr>\n",
       "  </thead>\n",
       "  <tbody>\n",
       "    <tr>\n",
       "      <th>0</th>\n",
       "      <td>생각이 쪼금씩 바뀌더라고</td>\n",
       "      <td>생각이 쪼금씩 바뀌드라고</td>\n",
       "      <td>jd</td>\n",
       "      <td>I've changed my mind a little bit.</td>\n",
       "    </tr>\n",
       "    <tr>\n",
       "      <th>1</th>\n",
       "      <td>어 알겠는가 외국인들이 그래도 잘 적응하고</td>\n",
       "      <td>어 알겄는가 외국인들이 그래도 잘 적응하고</td>\n",
       "      <td>jd</td>\n",
       "      <td>You know what? Foreigners still get used to it.</td>\n",
       "    </tr>\n",
       "    <tr>\n",
       "      <th>2</th>\n",
       "      <td>아으 갑자기 예전에 맹장 뜯은 게 생각난다.</td>\n",
       "      <td>아으 갑자기 예전에 맹장 뜯은 게 생각난디야.</td>\n",
       "      <td>jd</td>\n",
       "      <td>All of a sudden, I think I've ripped off my ap...</td>\n",
       "    </tr>\n",
       "    <tr>\n",
       "      <th>3</th>\n",
       "      <td>보면은 조금 품위 있게 나이 들어가야 되겠단 생각을 참 많이 해요.</td>\n",
       "      <td>보면은 쫌 품위 있게 나이 들어가야 되겠단 생각을 참 많이 해요.</td>\n",
       "      <td>jd</td>\n",
       "      <td>I have a lot of ideas about getting older in a...</td>\n",
       "    </tr>\n",
       "    <tr>\n",
       "      <th>4</th>\n",
       "      <td>약간 조금 약간 맛이 쪼끔 거시기 하긴 한데 그래도</td>\n",
       "      <td>약간 쫌 약간 맛이 쪼끔 거시기 하긴 한데 그래도</td>\n",
       "      <td>jd</td>\n",
       "      <td>It's a little bit of a tastey, but still...</td>\n",
       "    </tr>\n",
       "    <tr>\n",
       "      <th>...</th>\n",
       "      <td>...</td>\n",
       "      <td>...</td>\n",
       "      <td>...</td>\n",
       "      <td>...</td>\n",
       "    </tr>\n",
       "    <tr>\n",
       "      <th>1200755</th>\n",
       "      <td>바꾸면서 자기 개성대로 쫌 쫌 이렇게</td>\n",
       "      <td>바꾸면서 자기 개성대로 쫌 쫌 이케</td>\n",
       "      <td>jd</td>\n",
       "      <td>Changing it as you personally like this</td>\n",
       "    </tr>\n",
       "    <tr>\n",
       "      <th>1200760</th>\n",
       "      <td>뭐~ 이런 거 온라인 강의로 합격한 사람 많으니까 걱정 안 해도 될 거 같아.</td>\n",
       "      <td>뭐~ 이런 거 온라인 강의로 합격한 사람 많으니까 걱정 안 해도 될 거 같여.</td>\n",
       "      <td>jd</td>\n",
       "      <td>I dont think you need to worry because many pe...</td>\n",
       "    </tr>\n",
       "    <tr>\n",
       "      <th>1200776</th>\n",
       "      <td>거기서 길 읽고 나서 더 이상 하기가 싫더라고 그래가지고</td>\n",
       "      <td>거기서 길 읽고 나서 더 이상 하기가 싫더라고 그래가꼬</td>\n",
       "      <td>jd</td>\n",
       "      <td>They said they didnt want to do it anymore aft...</td>\n",
       "    </tr>\n",
       "    <tr>\n",
       "      <th>1200777</th>\n",
       "      <td>뭐~ 맨날 집에서 인제 음식도 그냥 가까운 데 나가서 먹는 게 아니라 되게 시켜먹는...</td>\n",
       "      <td>뭐~ 맨날 집에서 인제 음식도 그냥 가까운 데 나가서 먹는 게 아니라 되게 시켜먹는...</td>\n",
       "      <td>jd</td>\n",
       "      <td>I suppose I dont just go out to the nearest pl...</td>\n",
       "    </tr>\n",
       "    <tr>\n",
       "      <th>1200779</th>\n",
       "      <td>하이브도 있고 #조석 작가 이제 조의 영역이라는 웹툰도 있고 마음의 소리도 있는데</td>\n",
       "      <td>하이브도 있고 조석 작가 이제 조의 영역이라는 웹툰도 있고 마음의 소리도 있는디</td>\n",
       "      <td>jd</td>\n",
       "      <td>There is a hive a webtoon called the area of J...</td>\n",
       "    </tr>\n",
       "  </tbody>\n",
       "</table>\n",
       "<p>227222 rows × 4 columns</p>\n",
       "</div>"
      ],
      "text/plain": [
       "                                                      text  \\\n",
       "0                                            생각이 쪼금씩 바뀌더라고   \n",
       "1                                  어 알겠는가 외국인들이 그래도 잘 적응하고   \n",
       "2                                 아으 갑자기 예전에 맹장 뜯은 게 생각난다.   \n",
       "3                    보면은 조금 품위 있게 나이 들어가야 되겠단 생각을 참 많이 해요.   \n",
       "4                             약간 조금 약간 맛이 쪼끔 거시기 하긴 한데 그래도   \n",
       "...                                                    ...   \n",
       "1200755                               바꾸면서 자기 개성대로 쫌 쫌 이렇게   \n",
       "1200760        뭐~ 이런 거 온라인 강의로 합격한 사람 많으니까 걱정 안 해도 될 거 같아.   \n",
       "1200776                    거기서 길 읽고 나서 더 이상 하기가 싫더라고 그래가지고   \n",
       "1200777  뭐~ 맨날 집에서 인제 음식도 그냥 가까운 데 나가서 먹는 게 아니라 되게 시켜먹는...   \n",
       "1200779      하이브도 있고 #조석 작가 이제 조의 영역이라는 웹툰도 있고 마음의 소리도 있는데   \n",
       "\n",
       "                                                      dial reg  \\\n",
       "0                                            생각이 쪼금씩 바뀌드라고  jd   \n",
       "1                                  어 알겄는가 외국인들이 그래도 잘 적응하고  jd   \n",
       "2                                아으 갑자기 예전에 맹장 뜯은 게 생각난디야.  jd   \n",
       "3                     보면은 쫌 품위 있게 나이 들어가야 되겠단 생각을 참 많이 해요.  jd   \n",
       "4                              약간 쫌 약간 맛이 쪼끔 거시기 하긴 한데 그래도  jd   \n",
       "...                                                    ...  ..   \n",
       "1200755                                바꾸면서 자기 개성대로 쫌 쫌 이케  jd   \n",
       "1200760        뭐~ 이런 거 온라인 강의로 합격한 사람 많으니까 걱정 안 해도 될 거 같여.  jd   \n",
       "1200776                     거기서 길 읽고 나서 더 이상 하기가 싫더라고 그래가꼬  jd   \n",
       "1200777  뭐~ 맨날 집에서 인제 음식도 그냥 가까운 데 나가서 먹는 게 아니라 되게 시켜먹는...  jd   \n",
       "1200779       하이브도 있고 조석 작가 이제 조의 영역이라는 웹툰도 있고 마음의 소리도 있는디  jd   \n",
       "\n",
       "                                                       eng  \n",
       "0                       I've changed my mind a little bit.  \n",
       "1          You know what? Foreigners still get used to it.  \n",
       "2        All of a sudden, I think I've ripped off my ap...  \n",
       "3        I have a lot of ideas about getting older in a...  \n",
       "4              It's a little bit of a tastey, but still...  \n",
       "...                                                    ...  \n",
       "1200755            Changing it as you personally like this  \n",
       "1200760  I dont think you need to worry because many pe...  \n",
       "1200776  They said they didnt want to do it anymore aft...  \n",
       "1200777  I suppose I dont just go out to the nearest pl...  \n",
       "1200779  There is a hive a webtoon called the area of J...  \n",
       "\n",
       "[227222 rows x 4 columns]"
      ]
     },
     "execution_count": 15,
     "metadata": {},
     "output_type": "execute_result"
    }
   ],
   "source": [
    "jd_sample"
   ]
  },
  {
   "cell_type": "code",
   "execution_count": 16,
   "id": "c47bc8d6",
   "metadata": {},
   "outputs": [],
   "source": [
    "jj_df = jj_sample.sample(n=100, \n",
    "                         replace=False, \n",
    "                         weights=None, \n",
    "                         random_state=220, axis=0, ignore_index=True)\n",
    "gs_df = gs_sample.sample(n=100,\n",
    "                         replace=False, \n",
    "                         weights=None, \n",
    "                         random_state=220, axis=0, ignore_index=True)\n",
    "cc_df = cc_sample.sample(n=100, \n",
    "                         replace=False, \n",
    "                         weights=None, \n",
    "                         random_state=220, axis=0, ignore_index=True)\n",
    "jd_df = cc_sample.sample(n=100, \n",
    "                         replace=False, \n",
    "                         weights=None, \n",
    "                         random_state=220, axis=0, ignore_index=True)\n",
    "kw_df = cc_sample.sample(n=100, \n",
    "                         replace=False, \n",
    "                         weights=None, \n",
    "                         random_state=220, axis=0, ignore_index=True)"
   ]
  },
  {
   "cell_type": "code",
   "execution_count": 27,
   "id": "b6b42ca5",
   "metadata": {},
   "outputs": [],
   "source": [
    "test_set = [jj_df, gs_df, cc_df, jd_df, kw_df]"
   ]
  },
  {
   "cell_type": "code",
   "execution_count": 28,
   "id": "f3f8d0cc",
   "metadata": {},
   "outputs": [
    {
     "name": "stdout",
     "output_type": "stream",
     "text": [
      "<class 'list'>\n"
     ]
    }
   ],
   "source": [
    "print(type(test_set))"
   ]
  },
  {
   "cell_type": "code",
   "execution_count": null,
   "id": "89e1e93f",
   "metadata": {},
   "outputs": [],
   "source": []
  },
  {
   "cell_type": "code",
   "execution_count": null,
   "id": "b615eede",
   "metadata": {},
   "outputs": [],
   "source": []
  },
  {
   "cell_type": "code",
   "execution_count": null,
   "id": "d0e6ed18",
   "metadata": {},
   "outputs": [],
   "source": []
  },
  {
   "cell_type": "code",
   "execution_count": null,
   "id": "88f8da34",
   "metadata": {},
   "outputs": [],
   "source": []
  },
  {
   "cell_type": "code",
   "execution_count": null,
   "id": "81b29cf4",
   "metadata": {},
   "outputs": [],
   "source": []
  },
  {
   "cell_type": "code",
   "execution_count": null,
   "id": "f2f2aab1",
   "metadata": {},
   "outputs": [],
   "source": []
  }
 ],
 "metadata": {
  "kernelspec": {
   "display_name": "Python 3 (ipykernel)",
   "language": "python",
   "name": "python3"
  },
  "language_info": {
   "codemirror_mode": {
    "name": "ipython",
    "version": 3
   },
   "file_extension": ".py",
   "mimetype": "text/x-python",
   "name": "python",
   "nbconvert_exporter": "python",
   "pygments_lexer": "ipython3",
   "version": "3.9.7"
  }
 },
 "nbformat": 4,
 "nbformat_minor": 5
}
