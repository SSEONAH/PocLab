{
 "cells": [
  {
   "cell_type": "code",
   "execution_count": 3,
   "id": "329f579c",
   "metadata": {},
   "outputs": [],
   "source": [
    "import os \n",
    "import pandas as pd \n",
    "import numpy as np \n",
    "import re\n",
    "import tqdm \n",
    "import matplotlib.pyplot as plt\n",
    "import pickle\n",
    "\n",
    "from nltk import ngrams\n",
    "import seaborn as sns"
   ]
  },
  {
   "cell_type": "code",
   "execution_count": 4,
   "id": "375fcece",
   "metadata": {},
   "outputs": [],
   "source": [
    "import matplotlib as mpl\n",
    "import matplotlib.font_manager as fm\n",
    "from collections import Counter\n",
    "import sentencepiece as spm"
   ]
  },
  {
   "cell_type": "code",
   "execution_count": 8,
   "id": "9110e27a",
   "metadata": {},
   "outputs": [],
   "source": [
    "directory = os.getenv('HOME') + '/aiffel/aiffelthon'"
   ]
  },
  {
   "cell_type": "code",
   "execution_count": 9,
   "id": "8212686d",
   "metadata": {},
   "outputs": [],
   "source": [
    "df_train = pd.read_pickle(directory + '/data_train_spm_4000_0317.pkl','gzip')\n",
    "df_test = pd.read_pickle(directory + '/data_test_spm_4000_0317.pkl','gzip')\n",
    "df_test['weight'] = df_test['tok_cat'].apply(lambda x : 14 - x)\n",
    "df_test = df_test.loc[df_test['tok_cat'] < 6].sample(n=250, weights = 'weight' ,random_state=6) # validation 시간이 너무 오래 걸림, 250개만 사용"
   ]
  },
  {
   "cell_type": "code",
   "execution_count": 10,
   "id": "8cfbede2",
   "metadata": {},
   "outputs": [
    {
     "data": {
      "text/plain": [
       "True"
      ]
     },
     "execution_count": 10,
     "metadata": {},
     "output_type": "execute_result"
    }
   ],
   "source": [
    "data_path = os.getenv('HOME') +'/PocLab/Preprocessing'\n",
    "\n",
    "spm_4000 = spm.SentencePieceProcessor()\n",
    "spm_4000.Load(data_path + '/vocab_4000/spm_dec_v.model')\n",
    "\n",
    "\n",
    "spm_8000 = spm.SentencePieceProcessor()\n",
    "spm_8000.Load(data_path + '/vocab_8000/spm_dec_8009.model')\n",
    "\n",
    "msp_4000 = spm.SentencePieceProcessor()\n",
    "msp_4000.Load(data_path + '/vocab_4000/spm_dec_mecab_4009.model')\n",
    "\n",
    "msp_8000 = spm.SentencePieceProcessor()\n",
    "msp_8000.Load(data_path + '/vocab_8000/spm_dec_msp8009.model')\n",
    "\n",
    "custom_msp_4000 = spm.SentencePieceProcessor()\n",
    "custom_msp_4000.Load(data_path + '/vocab_4000/spm_dec_custom_msp4009.model')\n",
    "\n",
    "custom_msp_8000 =  spm.SentencePieceProcessor()\n",
    "custom_msp_8000.Load(data_path + '/vocab_8000/spm_dec_custom_msp8009.model')\n"
   ]
  },
  {
   "cell_type": "code",
   "execution_count": 11,
   "id": "05fd8452",
   "metadata": {},
   "outputs": [
    {
     "data": {
      "text/plain": [
       "[5011, 2710]"
      ]
     },
     "execution_count": 11,
     "metadata": {},
     "output_type": "execute_result"
    }
   ],
   "source": [
    "spm_8000.encode('안녕하세요')"
   ]
  },
  {
   "cell_type": "code",
   "execution_count": 12,
   "id": "b54fd645",
   "metadata": {},
   "outputs": [
    {
     "name": "stderr",
     "output_type": "stream",
     "text": [
      "100%|██████████| 1340262/1340262 [03:37<00:00, 6153.13it/s]\n"
     ]
    }
   ],
   "source": [
    "tok_spm= []\n",
    "tok_msp= []\n",
    "tok_coustom = []\n",
    "dial = df_train['dial'].values\n",
    "for i in tqdm.tqdm(dial) :\n",
    "    tok_spm.extend(spm_8000.encode(i))\n",
    "    tok_msp.extend(msp_8000.encode(i))\n",
    "    tok_coustom.extend(custom_msp_8000.encode(i))"
   ]
  },
  {
   "cell_type": "code",
   "execution_count": 13,
   "id": "dbd67f1e",
   "metadata": {},
   "outputs": [
    {
     "name": "stdout",
     "output_type": "stream",
     "text": [
      "spm unk cnt :  40806\n"
     ]
    }
   ],
   "source": [
    "print('spm unk cnt : ', tok_spm.count(spm_8000.unk_id()))"
   ]
  },
  {
   "cell_type": "code",
   "execution_count": null,
   "id": "e6e563be",
   "metadata": {},
   "outputs": [],
   "source": []
  },
  {
   "cell_type": "code",
   "execution_count": null,
   "id": "91d9addf",
   "metadata": {},
   "outputs": [],
   "source": []
  }
 ],
 "metadata": {
  "kernelspec": {
   "display_name": "Python 3 (ipykernel)",
   "language": "python",
   "name": "python3"
  },
  "language_info": {
   "codemirror_mode": {
    "name": "ipython",
    "version": 3
   },
   "file_extension": ".py",
   "mimetype": "text/x-python",
   "name": "python",
   "nbconvert_exporter": "python",
   "pygments_lexer": "ipython3",
   "version": "3.9.7"
  }
 },
 "nbformat": 4,
 "nbformat_minor": 5
}
