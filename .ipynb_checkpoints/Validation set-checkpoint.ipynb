{
 "cells": [
  {
   "cell_type": "code",
   "execution_count": 41,
   "id": "6ef7fc3a",
   "metadata": {},
   "outputs": [],
   "source": [
    "import os\n",
    "import pandas as pd"
   ]
  },
  {
   "cell_type": "markdown",
   "id": "a98fe636",
   "metadata": {},
   "source": [
    "## 선아 file merge"
   ]
  },
  {
   "cell_type": "code",
   "execution_count": 49,
   "id": "0c43af0c",
   "metadata": {},
   "outputs": [],
   "source": [
    "directory =os.getenv('HOME') + '/aiffel/aiffelthon/Data_copy/SA/' #Data_copy/SA' "
   ]
  },
  {
   "cell_type": "code",
   "execution_count": 39,
   "id": "9ab1518f",
   "metadata": {},
   "outputs": [],
   "source": [
    "#df = pd.read_csv(directory+'/dataset_full_translated_en_ko_0221_last_added_0221_12h_copy.csv') # 데이터 파일 불러오기"
   ]
  },
  {
   "cell_type": "code",
   "execution_count": 40,
   "id": "8c80a772",
   "metadata": {},
   "outputs": [
    {
     "data": {
      "text/html": [
       "<div>\n",
       "<style scoped>\n",
       "    .dataframe tbody tr th:only-of-type {\n",
       "        vertical-align: middle;\n",
       "    }\n",
       "\n",
       "    .dataframe tbody tr th {\n",
       "        vertical-align: top;\n",
       "    }\n",
       "\n",
       "    .dataframe thead th {\n",
       "        text-align: right;\n",
       "    }\n",
       "</style>\n",
       "<table border=\"1\" class=\"dataframe\">\n",
       "  <thead>\n",
       "    <tr style=\"text-align: right;\">\n",
       "      <th></th>\n",
       "      <th>Unnamed: 0</th>\n",
       "      <th>text</th>\n",
       "      <th>dial</th>\n",
       "      <th>reg</th>\n",
       "      <th>eng</th>\n",
       "    </tr>\n",
       "  </thead>\n",
       "  <tbody>\n",
       "    <tr>\n",
       "      <th>0</th>\n",
       "      <td>0</td>\n",
       "      <td>생각이 쪼금씩 바뀌더라고</td>\n",
       "      <td>생각이 쪼금씩 바뀌드라고</td>\n",
       "      <td>jd</td>\n",
       "      <td>I've changed my mind a little bit.</td>\n",
       "    </tr>\n",
       "    <tr>\n",
       "      <th>1</th>\n",
       "      <td>1</td>\n",
       "      <td>어 알겠는가 외국인들이 그래도 잘 적응하고</td>\n",
       "      <td>어 알겄는가 외국인들이 그래도 잘 적응하고</td>\n",
       "      <td>jd</td>\n",
       "      <td>You know what? Foreigners still get used to it.</td>\n",
       "    </tr>\n",
       "    <tr>\n",
       "      <th>2</th>\n",
       "      <td>2</td>\n",
       "      <td>아으 갑자기 예전에 맹장 뜯은 게 생각난다.</td>\n",
       "      <td>아으 갑자기 예전에 맹장 뜯은 게 생각난디야.</td>\n",
       "      <td>jd</td>\n",
       "      <td>All of a sudden, I think I've ripped off my ap...</td>\n",
       "    </tr>\n",
       "    <tr>\n",
       "      <th>3</th>\n",
       "      <td>3</td>\n",
       "      <td>보면은 조금 품위 있게 나이 들어가야 되겠단 생각을 참 많이 해요.</td>\n",
       "      <td>보면은 쫌 품위 있게 나이 들어가야 되겠단 생각을 참 많이 해요.</td>\n",
       "      <td>jd</td>\n",
       "      <td>I have a lot of ideas about getting older in a...</td>\n",
       "    </tr>\n",
       "    <tr>\n",
       "      <th>4</th>\n",
       "      <td>4</td>\n",
       "      <td>약간 조금 약간 맛이 쪼끔 거시기 하긴 한데 그래도</td>\n",
       "      <td>약간 쫌 약간 맛이 쪼끔 거시기 하긴 한데 그래도</td>\n",
       "      <td>jd</td>\n",
       "      <td>It's a little bit of a tastey, but still...</td>\n",
       "    </tr>\n",
       "  </tbody>\n",
       "</table>\n",
       "</div>"
      ],
      "text/plain": [
       "   Unnamed: 0                                   text  \\\n",
       "0           0                          생각이 쪼금씩 바뀌더라고   \n",
       "1           1                어 알겠는가 외국인들이 그래도 잘 적응하고   \n",
       "2           2               아으 갑자기 예전에 맹장 뜯은 게 생각난다.   \n",
       "3           3  보면은 조금 품위 있게 나이 들어가야 되겠단 생각을 참 많이 해요.   \n",
       "4           4           약간 조금 약간 맛이 쪼끔 거시기 하긴 한데 그래도   \n",
       "\n",
       "                                   dial reg  \\\n",
       "0                         생각이 쪼금씩 바뀌드라고  jd   \n",
       "1               어 알겄는가 외국인들이 그래도 잘 적응하고  jd   \n",
       "2             아으 갑자기 예전에 맹장 뜯은 게 생각난디야.  jd   \n",
       "3  보면은 쫌 품위 있게 나이 들어가야 되겠단 생각을 참 많이 해요.  jd   \n",
       "4           약간 쫌 약간 맛이 쪼끔 거시기 하긴 한데 그래도  jd   \n",
       "\n",
       "                                                 eng  \n",
       "0                 I've changed my mind a little bit.  \n",
       "1    You know what? Foreigners still get used to it.  \n",
       "2  All of a sudden, I think I've ripped off my ap...  \n",
       "3  I have a lot of ideas about getting older in a...  \n",
       "4        It's a little bit of a tastey, but still...  "
      ]
     },
     "execution_count": 40,
     "metadata": {},
     "output_type": "execute_result"
    }
   ],
   "source": [
    "#df.head()"
   ]
  },
  {
   "cell_type": "code",
   "execution_count": 50,
   "id": "48a6b904",
   "metadata": {},
   "outputs": [
    {
     "data": {
      "text/plain": [
       "['dataset_en_ko_translated_sa_105000_110000.csv',\n",
       " 'dataset_en_ko_translated_sa_175000_180000.csv',\n",
       " 'dataset_en_ko_translated_sa_135000_140000.csv',\n",
       " 'dataset_en_ko_translated_sa_80000_85000.csv',\n",
       " 'dataset_en_ko_translated_sa_95000_100000.csv',\n",
       " 'dataset_en_ko_translated_sa_15000_20000.csv',\n",
       " 'dataset_en_ko_translated_sa_90000_95000.csv',\n",
       " 'dataset_en_ko_translated_sa_120000_125000.csv',\n",
       " 'dataset_en_ko_translated_sa_150000_155000.csv',\n",
       " 'dataset_en_ko_translated_sa_75000_80000.csv',\n",
       " 'dataset_en_ko_translated_sa_0_5000.csv',\n",
       " 'dataset_en_ko_translated_sa_125000_130000.csv',\n",
       " 'dataset_en_ko_translated_sa_160000_165000.csv',\n",
       " 'dataset_en_ko_translated_sa_130000_135000.csv',\n",
       " 'dataset_en_ko_translated_sa_55000_60000.csv',\n",
       " 'dataset_en_ko_translated_sa_115000_120000.csv',\n",
       " 'dataset_en_ko_translated_sa_20000_25000.csv',\n",
       " 'dataset_en_ko_translated_sa_140000_145000.csv',\n",
       " 'dataset_en_ko_translated_sa_165000_170000.csv',\n",
       " 'dataset_en_ko_translated_sa_155000_160000.csv',\n",
       " 'dataset_en_ko_translated_sa_100000_105000.csv',\n",
       " 'dataset_en_ko_translated_sa_35000_40000.csv',\n",
       " 'dataset_en_ko_translated_sa_10000_15000.csv',\n",
       " 'dataset_en_ko_translated_sa_70000_75000.csv',\n",
       " 'dataset_en_ko_translated_sa_60000_65000.csv',\n",
       " 'dataset_en_ko_translated_sa_5000_10000.csv',\n",
       " 'dataset_en_ko_translated_sa_25000_30000.csv',\n",
       " 'dataset_en_ko_translated_sa_170000_175000.csv',\n",
       " 'dataset_en_ko_translated_sa_85000_90000.csv',\n",
       " 'dataset_en_ko_translated_sa_30000_35000.csv',\n",
       " 'dataset_en_ko_translated_sa_65000_70000.csv',\n",
       " 'dataset_en_ko_translated_sa_145000_150000.csv',\n",
       " 'dataset_en_ko_translated_sa_40000_45000.csv',\n",
       " '.ipynb_checkpoints',\n",
       " 'dataset_en_ko_translated_sa_45000_50000.csv',\n",
       " 'dataset_en_ko_translated_sa_50000_55000.csv',\n",
       " 'dataset_en_ko_translated_sa_110000_115000.csv']"
      ]
     },
     "execution_count": 50,
     "metadata": {},
     "output_type": "execute_result"
    }
   ],
   "source": [
    "os.listdir(directory)"
   ]
  },
  {
   "cell_type": "code",
   "execution_count": 51,
   "id": "f330f10b",
   "metadata": {},
   "outputs": [
    {
     "data": {
      "text/plain": [
       "['/aiffel/aiffel/aiffelthon/Data_copy/SA/dataset_en_ko_translated_sa_105000_110000.csv',\n",
       " '/aiffel/aiffel/aiffelthon/Data_copy/SA/dataset_en_ko_translated_sa_175000_180000.csv',\n",
       " '/aiffel/aiffel/aiffelthon/Data_copy/SA/dataset_en_ko_translated_sa_135000_140000.csv',\n",
       " '/aiffel/aiffel/aiffelthon/Data_copy/SA/dataset_en_ko_translated_sa_80000_85000.csv',\n",
       " '/aiffel/aiffel/aiffelthon/Data_copy/SA/dataset_en_ko_translated_sa_95000_100000.csv',\n",
       " '/aiffel/aiffel/aiffelthon/Data_copy/SA/dataset_en_ko_translated_sa_15000_20000.csv',\n",
       " '/aiffel/aiffel/aiffelthon/Data_copy/SA/dataset_en_ko_translated_sa_90000_95000.csv',\n",
       " '/aiffel/aiffel/aiffelthon/Data_copy/SA/dataset_en_ko_translated_sa_120000_125000.csv',\n",
       " '/aiffel/aiffel/aiffelthon/Data_copy/SA/dataset_en_ko_translated_sa_150000_155000.csv',\n",
       " '/aiffel/aiffel/aiffelthon/Data_copy/SA/dataset_en_ko_translated_sa_75000_80000.csv',\n",
       " '/aiffel/aiffel/aiffelthon/Data_copy/SA/dataset_en_ko_translated_sa_0_5000.csv',\n",
       " '/aiffel/aiffel/aiffelthon/Data_copy/SA/dataset_en_ko_translated_sa_125000_130000.csv',\n",
       " '/aiffel/aiffel/aiffelthon/Data_copy/SA/dataset_en_ko_translated_sa_160000_165000.csv',\n",
       " '/aiffel/aiffel/aiffelthon/Data_copy/SA/dataset_en_ko_translated_sa_130000_135000.csv',\n",
       " '/aiffel/aiffel/aiffelthon/Data_copy/SA/dataset_en_ko_translated_sa_55000_60000.csv',\n",
       " '/aiffel/aiffel/aiffelthon/Data_copy/SA/dataset_en_ko_translated_sa_115000_120000.csv',\n",
       " '/aiffel/aiffel/aiffelthon/Data_copy/SA/dataset_en_ko_translated_sa_20000_25000.csv',\n",
       " '/aiffel/aiffel/aiffelthon/Data_copy/SA/dataset_en_ko_translated_sa_140000_145000.csv',\n",
       " '/aiffel/aiffel/aiffelthon/Data_copy/SA/dataset_en_ko_translated_sa_165000_170000.csv',\n",
       " '/aiffel/aiffel/aiffelthon/Data_copy/SA/dataset_en_ko_translated_sa_155000_160000.csv',\n",
       " '/aiffel/aiffel/aiffelthon/Data_copy/SA/dataset_en_ko_translated_sa_100000_105000.csv',\n",
       " '/aiffel/aiffel/aiffelthon/Data_copy/SA/dataset_en_ko_translated_sa_35000_40000.csv',\n",
       " '/aiffel/aiffel/aiffelthon/Data_copy/SA/dataset_en_ko_translated_sa_10000_15000.csv',\n",
       " '/aiffel/aiffel/aiffelthon/Data_copy/SA/dataset_en_ko_translated_sa_70000_75000.csv',\n",
       " '/aiffel/aiffel/aiffelthon/Data_copy/SA/dataset_en_ko_translated_sa_60000_65000.csv',\n",
       " '/aiffel/aiffel/aiffelthon/Data_copy/SA/dataset_en_ko_translated_sa_5000_10000.csv',\n",
       " '/aiffel/aiffel/aiffelthon/Data_copy/SA/dataset_en_ko_translated_sa_25000_30000.csv',\n",
       " '/aiffel/aiffel/aiffelthon/Data_copy/SA/dataset_en_ko_translated_sa_170000_175000.csv',\n",
       " '/aiffel/aiffel/aiffelthon/Data_copy/SA/dataset_en_ko_translated_sa_85000_90000.csv',\n",
       " '/aiffel/aiffel/aiffelthon/Data_copy/SA/dataset_en_ko_translated_sa_30000_35000.csv',\n",
       " '/aiffel/aiffel/aiffelthon/Data_copy/SA/dataset_en_ko_translated_sa_65000_70000.csv',\n",
       " '/aiffel/aiffel/aiffelthon/Data_copy/SA/dataset_en_ko_translated_sa_145000_150000.csv',\n",
       " '/aiffel/aiffel/aiffelthon/Data_copy/SA/dataset_en_ko_translated_sa_40000_45000.csv',\n",
       " '/aiffel/aiffel/aiffelthon/Data_copy/SA/dataset_en_ko_translated_sa_45000_50000.csv',\n",
       " '/aiffel/aiffel/aiffelthon/Data_copy/SA/dataset_en_ko_translated_sa_50000_55000.csv',\n",
       " '/aiffel/aiffel/aiffelthon/Data_copy/SA/dataset_en_ko_translated_sa_110000_115000.csv']"
      ]
     },
     "execution_count": 51,
     "metadata": {},
     "output_type": "execute_result"
    }
   ],
   "source": [
    "import glob\n",
    "files = glob.glob(directory+f'*sa*.csv')\n",
    "files"
   ]
  },
  {
   "cell_type": "code",
   "execution_count": 52,
   "id": "c536e297",
   "metadata": {
    "scrolled": true
   },
   "outputs": [
    {
     "name": "stdout",
     "output_type": "stream",
     "text": [
      "<class 'pandas.core.frame.DataFrame'>\n",
      "Int64Index: 261124 entries, 0 to 261123\n",
      "Data columns (total 5 columns):\n",
      " #   Column  Non-Null Count   Dtype \n",
      "---  ------  --------------   ----- \n",
      " 0   text    261124 non-null  object\n",
      " 1   dial    261124 non-null  object\n",
      " 2   reg     261124 non-null  object\n",
      " 3   pair    261124 non-null  object\n",
      " 4   eng     261124 non-null  object\n",
      "dtypes: object(5)\n",
      "memory usage: 12.0+ MB\n"
     ]
    }
   ],
   "source": [
    "# data merge하기\n",
    "df_final = pd.DataFrame(columns=['text', 'dial', 'reg', 'pair','eng'])\n",
    "for i in files :\n",
    "    df_new = pd.read_csv(i, usecols =['text', 'dial', 'reg', 'pair','eng'])\n",
    "    df_final = df_final.merge(df_new, how='outer')\n",
    "df_final.head()\n",
    "df_final.info()"
   ]
  },
  {
   "cell_type": "markdown",
   "id": "798effcb",
   "metadata": {},
   "source": [
    "## 시혁님 file merge"
   ]
  },
  {
   "cell_type": "code",
   "execution_count": 57,
   "id": "dc797595",
   "metadata": {},
   "outputs": [],
   "source": [
    "directory_sh =os.getenv('HOME') + '/aiffel/aiffelthon/Data_copy/SH/' #Data_copy/SA' "
   ]
  },
  {
   "cell_type": "code",
   "execution_count": 58,
   "id": "b025a9f9",
   "metadata": {},
   "outputs": [
    {
     "data": {
      "text/plain": [
       "['dataset_en_ko_translated_sihyeok_100000_105000.csv',\n",
       " 'dataset_en_ko_translated_sihyeok_50000_55000.csv',\n",
       " 'dataset_en_ko_translated_sihyeok_55000_60000.csv',\n",
       " 'dataset_en_ko_translated_sihyeok_15000_20000.csv',\n",
       " 'dataset_en_ko_translated_sihyeok_75000_80000.csv',\n",
       " 'dataset_en_ko_translated_sihyeok_30000_35000.csv',\n",
       " 'dataset_en_ko_translated_sihyeok_120000_125000.csv',\n",
       " 'dataset_en_ko_translated_sihyeok_10000_15000.csv',\n",
       " 'dataset_en_ko_translated_sihyeok_115000_120000.csv',\n",
       " 'dataset_en_ko_translated_sihyeok_35000_40000.csv',\n",
       " 'dataset_en_ko_translated_sihyeok_70000_75000.csv',\n",
       " 'dataset_en_ko_translated_sihyeok_60000_65000.csv',\n",
       " 'dataset_en_ko_translated_sihyeok_45000_50000.csv',\n",
       " 'dataset_en_ko_translated_sihyeok_140000_145000.csv',\n",
       " 'dataset_en_ko_translated_sihyeok_110000_115000.csv',\n",
       " 'dataset_en_ko_translated_sihyeok_20000_25000.csv',\n",
       " 'dataset_en_ko_translated_sihyeok_125000_130000.csv',\n",
       " 'dataset_en_ko_translated_sihyeok_105000_110000.csv',\n",
       " 'dataset_en_ko_translated_sihyeok_85000_90000.csv',\n",
       " 'dataset_en_ko_translated_sihyeok_95000_100000.csv',\n",
       " 'dataset_en_ko_translated_sihyeok_135000_140000.csv',\n",
       " 'dataset_en_ko_translated_sihyeok_5000_10000.csv',\n",
       " 'dataset_en_ko_translated_sihyeok_0_5000.csv',\n",
       " 'dataset_en_ko_translated_sihyeok_40000_45000.csv',\n",
       " 'dataset_en_ko_translated_sihyeok_25000_30000.csv',\n",
       " '.ipynb_checkpoints',\n",
       " 'dataset_en_ko_translated_sihyeok_80000_85000.csv',\n",
       " 'dataset_en_ko_translated_sihyeok_65000_70000.csv']"
      ]
     },
     "execution_count": 58,
     "metadata": {},
     "output_type": "execute_result"
    }
   ],
   "source": [
    "os.listdir(directory_sh)"
   ]
  },
  {
   "cell_type": "code",
   "execution_count": 59,
   "id": "de3b8eb6",
   "metadata": {},
   "outputs": [
    {
     "data": {
      "text/plain": [
       "['/aiffel/aiffel/aiffelthon/Data_copy/SH/dataset_en_ko_translated_sihyeok_100000_105000.csv',\n",
       " '/aiffel/aiffel/aiffelthon/Data_copy/SH/dataset_en_ko_translated_sihyeok_50000_55000.csv',\n",
       " '/aiffel/aiffel/aiffelthon/Data_copy/SH/dataset_en_ko_translated_sihyeok_55000_60000.csv',\n",
       " '/aiffel/aiffel/aiffelthon/Data_copy/SH/dataset_en_ko_translated_sihyeok_15000_20000.csv',\n",
       " '/aiffel/aiffel/aiffelthon/Data_copy/SH/dataset_en_ko_translated_sihyeok_75000_80000.csv',\n",
       " '/aiffel/aiffel/aiffelthon/Data_copy/SH/dataset_en_ko_translated_sihyeok_30000_35000.csv',\n",
       " '/aiffel/aiffel/aiffelthon/Data_copy/SH/dataset_en_ko_translated_sihyeok_120000_125000.csv',\n",
       " '/aiffel/aiffel/aiffelthon/Data_copy/SH/dataset_en_ko_translated_sihyeok_10000_15000.csv',\n",
       " '/aiffel/aiffel/aiffelthon/Data_copy/SH/dataset_en_ko_translated_sihyeok_115000_120000.csv',\n",
       " '/aiffel/aiffel/aiffelthon/Data_copy/SH/dataset_en_ko_translated_sihyeok_35000_40000.csv',\n",
       " '/aiffel/aiffel/aiffelthon/Data_copy/SH/dataset_en_ko_translated_sihyeok_70000_75000.csv',\n",
       " '/aiffel/aiffel/aiffelthon/Data_copy/SH/dataset_en_ko_translated_sihyeok_60000_65000.csv',\n",
       " '/aiffel/aiffel/aiffelthon/Data_copy/SH/dataset_en_ko_translated_sihyeok_45000_50000.csv',\n",
       " '/aiffel/aiffel/aiffelthon/Data_copy/SH/dataset_en_ko_translated_sihyeok_140000_145000.csv',\n",
       " '/aiffel/aiffel/aiffelthon/Data_copy/SH/dataset_en_ko_translated_sihyeok_110000_115000.csv',\n",
       " '/aiffel/aiffel/aiffelthon/Data_copy/SH/dataset_en_ko_translated_sihyeok_20000_25000.csv',\n",
       " '/aiffel/aiffel/aiffelthon/Data_copy/SH/dataset_en_ko_translated_sihyeok_125000_130000.csv',\n",
       " '/aiffel/aiffel/aiffelthon/Data_copy/SH/dataset_en_ko_translated_sihyeok_105000_110000.csv',\n",
       " '/aiffel/aiffel/aiffelthon/Data_copy/SH/dataset_en_ko_translated_sihyeok_85000_90000.csv',\n",
       " '/aiffel/aiffel/aiffelthon/Data_copy/SH/dataset_en_ko_translated_sihyeok_95000_100000.csv',\n",
       " '/aiffel/aiffel/aiffelthon/Data_copy/SH/dataset_en_ko_translated_sihyeok_135000_140000.csv',\n",
       " '/aiffel/aiffel/aiffelthon/Data_copy/SH/dataset_en_ko_translated_sihyeok_5000_10000.csv',\n",
       " '/aiffel/aiffel/aiffelthon/Data_copy/SH/dataset_en_ko_translated_sihyeok_0_5000.csv',\n",
       " '/aiffel/aiffel/aiffelthon/Data_copy/SH/dataset_en_ko_translated_sihyeok_40000_45000.csv',\n",
       " '/aiffel/aiffel/aiffelthon/Data_copy/SH/dataset_en_ko_translated_sihyeok_25000_30000.csv',\n",
       " '/aiffel/aiffel/aiffelthon/Data_copy/SH/dataset_en_ko_translated_sihyeok_80000_85000.csv',\n",
       " '/aiffel/aiffel/aiffelthon/Data_copy/SH/dataset_en_ko_translated_sihyeok_65000_70000.csv']"
      ]
     },
     "execution_count": 59,
     "metadata": {},
     "output_type": "execute_result"
    }
   ],
   "source": [
    "import glob\n",
    "files = glob.glob(directory_sh+f'*sihyeok*.csv')\n",
    "files"
   ]
  },
  {
   "cell_type": "code",
   "execution_count": 60,
   "id": "cc13da62",
   "metadata": {},
   "outputs": [
    {
     "name": "stdout",
     "output_type": "stream",
     "text": [
      "<class 'pandas.core.frame.DataFrame'>\n",
      "Int64Index: 145000 entries, 0 to 144999\n",
      "Data columns (total 5 columns):\n",
      " #   Column  Non-Null Count   Dtype \n",
      "---  ------  --------------   ----- \n",
      " 0   text    145000 non-null  object\n",
      " 1   dial    145000 non-null  object\n",
      " 2   reg     145000 non-null  object\n",
      " 3   pair    145000 non-null  object\n",
      " 4   eng     145000 non-null  object\n",
      "dtypes: object(5)\n",
      "memory usage: 6.6+ MB\n"
     ]
    }
   ],
   "source": [
    "# data merge하기\n",
    "df_final_sh = pd.DataFrame(columns=['text', 'dial', 'reg', 'pair','eng'])\n",
    "for i in files :\n",
    "    df_new = pd.read_csv(i, usecols =['text', 'dial', 'reg', 'pair','eng'])\n",
    "    df_final_sh = df_final_sh.merge(df_new, how='outer')\n",
    "df_final_sh.head()\n",
    "df_final_sh.info()"
   ]
  },
  {
   "cell_type": "code",
   "execution_count": 61,
   "id": "72996723",
   "metadata": {},
   "outputs": [],
   "source": [
    "date = '0222'\n",
    "name = 'sh'"
   ]
  },
  {
   "cell_type": "code",
   "execution_count": 63,
   "id": "d7e69171",
   "metadata": {},
   "outputs": [],
   "source": [
    "df_final_sh.to_csv(directory + f'dataset_full_ko_en_added_{date}_{name}.csv' , index=False)\n"
   ]
  },
  {
   "cell_type": "markdown",
   "id": "4b4e50de",
   "metadata": {},
   "source": [
    "## Merge된 file 하나로 합치기 "
   ]
  },
  {
   "cell_type": "code",
   "execution_count": 64,
   "id": "2a82ffd4",
   "metadata": {},
   "outputs": [],
   "source": [
    "directory_all = os.getenv('HOME') + '/aiffel/aiffelthon/Data_copy/'"
   ]
  },
  {
   "cell_type": "code",
   "execution_count": 67,
   "id": "9126f63c",
   "metadata": {},
   "outputs": [
    {
     "data": {
      "text/plain": [
       "['/aiffel/aiffel/aiffelthon/Data_copy/dataset_full_translated_en_ko_0221_last_added_0221_12h.csv',\n",
       " '/aiffel/aiffel/aiffelthon/Data_copy/dataset_full_ko_en_added_0221_Jongin.csv',\n",
       " '/aiffel/aiffel/aiffelthon/Data_copy/dataset_full_ko_en_added_0222_sh.csv',\n",
       " '/aiffel/aiffel/aiffelthon/Data_copy/dataset_full_ko_en_added_0222_sa.csv']"
      ]
     },
     "execution_count": 67,
     "metadata": {},
     "output_type": "execute_result"
    }
   ],
   "source": [
    "import glob\n",
    "files = glob.glob(directory_all+f'*added*.csv')\n",
    "files"
   ]
  },
  {
   "cell_type": "code",
   "execution_count": 69,
   "id": "76ec140e",
   "metadata": {
    "scrolled": true
   },
   "outputs": [
    {
     "name": "stdout",
     "output_type": "stream",
     "text": [
      "<class 'pandas.core.frame.DataFrame'>\n",
      "Int64Index: 1200782 entries, 0 to 1200781\n",
      "Data columns (total 4 columns):\n",
      " #   Column  Non-Null Count    Dtype \n",
      "---  ------  --------------    ----- \n",
      " 0   text    1200781 non-null  object\n",
      " 1   dial    1200782 non-null  object\n",
      " 2   reg     1200782 non-null  object\n",
      " 3   eng     1200782 non-null  object\n",
      "dtypes: object(4)\n",
      "memory usage: 45.8+ MB\n"
     ]
    }
   ],
   "source": [
    "# data merge하기\n",
    "df_final_all = pd.DataFrame(columns=['text', 'dial', 'reg','eng'])\n",
    "for i in files :\n",
    "    df_new = pd.read_csv(i, usecols =['text', 'dial', 'reg','eng'])\n",
    "    df_final_all = df_final_all.merge(df_new, how='outer')\n",
    "df_final_all.head()\n",
    "df_final_all.info()"
   ]
  },
  {
   "cell_type": "code",
   "execution_count": null,
   "id": "5faed15e",
   "metadata": {},
   "outputs": [],
   "source": []
  },
  {
   "cell_type": "code",
   "execution_count": null,
   "id": "be4133f7",
   "metadata": {},
   "outputs": [],
   "source": []
  },
  {
   "cell_type": "code",
   "execution_count": null,
   "id": "570b6cc3",
   "metadata": {},
   "outputs": [],
   "source": []
  },
  {
   "cell_type": "code",
   "execution_count": null,
   "id": "1b0a8f16",
   "metadata": {},
   "outputs": [],
   "source": []
  },
  {
   "cell_type": "code",
   "execution_count": null,
   "id": "0b6a45aa",
   "metadata": {},
   "outputs": [],
   "source": []
  }
 ],
 "metadata": {
  "kernelspec": {
   "display_name": "Python 3 (ipykernel)",
   "language": "python",
   "name": "python3"
  },
  "language_info": {
   "codemirror_mode": {
    "name": "ipython",
    "version": 3
   },
   "file_extension": ".py",
   "mimetype": "text/x-python",
   "name": "python",
   "nbconvert_exporter": "python",
   "pygments_lexer": "ipython3",
   "version": "3.9.7"
  }
 },
 "nbformat": 4,
 "nbformat_minor": 5
}
